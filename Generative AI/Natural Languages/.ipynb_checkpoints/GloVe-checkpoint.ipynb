{
 "cells": [
  {
   "cell_type": "markdown",
   "id": "85b60bde-627b-4243-83a1-0584977779cf",
   "metadata": {},
   "source": [
    "## GloVe (Global Vectors for Word Representation)\n",
    "GloVe adalah algoritma pembelajaran representasi kata (word embeddings) yang dikembangkan oleh Stanford. GloVe mengonversi kata-kata menjadi vektor berdimensi rendah berdasarkan informasi statistik global dari korpus teks, yang memungkinkan kata-kata dengan makna serupa berada dekat satu sama lain dalam ruang vektor.\n",
    "\n",
    "GloVe mengandalkan matriks ko-occurrence kata-kata dalam teks untuk menghasilkan representasi kata. Matriks ko-occurrence ini mencatat berapa kali dua kata muncul bersama dalam jendela konteks tertentu. GloVe kemudian mengoptimalkan fungsi biaya yang berdasarkan logaritma dari probabilitas ko-occurrence kata-kata tersebut.\n",
    "\n",
    "## Bagaimana GloVe Bekerja?\n",
    "Matriks Ko-occurrence: GloVe menggunakan matriks yang merepresentasikan berapa kali dua kata muncul bersamaan dalam konteks tertentu. Misalnya, dalam kalimat \"The cat sits on the mat\", kata \"cat\" dan \"sits\" mungkin memiliki ko-occurrence yang lebih tinggi karena mereka sering muncul bersamaan.\n",
    "\n",
    "Fungsi Biaya: GloVe mengoptimalkan fungsi biaya untuk meminimalkan perbedaan antara perkiraan probabilitas ko-occurrence berdasarkan vektor kata dan probabilitas ko-occurrence aktual dari korpus teks.\n",
    "\n",
    "Embedding Kata: Setelah pelatihan, setiap kata akan diwakili oleh vektor berdimensi rendah yang mencerminkan makna semantik kata tersebut, dan kata-kata yang memiliki konteks serupa akan memiliki vektor yang saling berdekatan.\n",
    "\n",
    "## Kelebihan GloVe:\n",
    "Menggunakan informasi global dari seluruh korpus, sehingga sangat efektif untuk menangkap hubungan semantik antar kata.\n",
    "\n",
    "Lebih efisien daripada model berbasis konteks seperti Word2Vec dalam beberapa kasus.\n",
    "\n",
    "## Contoh GloVe di Python\n",
    "GloVe sendiri tidak tersedia langsung sebagai pustaka Python, tetapi kamu dapat menggunakan implementasi GloVe yang telah dilatih sebelumnya, seperti model GloVe yang sudah tersedia dari Stanford.\n",
    "\n",
    "Namun, kamu bisa menggunakan pustaka gensim untuk memuat dan mengoperasikan model GloVe yang telah dilatih. Berikut adalah contoh cara memuat model GloVe yang sudah dilatih dan menggunakan representasi kata dari GloVe di Python."
   ]
  },
  {
   "cell_type": "code",
   "execution_count": 23,
   "id": "3e475bd1-9f5d-46ef-918f-c3bf0f36f298",
   "metadata": {},
   "outputs": [],
   "source": [
    "import gensim\n",
    "from gensim.models.keyedvectors import KeyedVectors\n",
    "\n",
    "# Memuat model GloVe yang sudah dilatih (dalam format txt)\n",
    "# Misalnya, menggunakan model GloVe dengan 50 dimensi\n",
    "glove_file = 'glove.6B.50d.txt'"
   ]
  },
  {
   "cell_type": "markdown",
   "id": "e0619331-ac3d-46a8-9a3f-a57e8487c3fa",
   "metadata": {},
   "source": [
    "File GloVe biasanya berisi kata-kata dan vektor embedding yang dipisahkan oleh spasi. Setiap baris dalam file tersebut berisi satu kata diikuti oleh vektor angka (vektor embedding) yang mewakili kata tersebut."
   ]
  },
  {
   "cell_type": "code",
   "execution_count": 21,
   "id": "93dbb08e-5e13-4780-9556-6834ebfc6a74",
   "metadata": {},
   "outputs": [
    {
     "name": "stdout",
     "output_type": "stream",
     "text": [
      "the 0.418 0.24968 -0.41242 0.1217 0.34527 -0.044457 -0.49688 -0.17862 -0.00066023 -0.6566 0.27843 -0.14767 -0.55677 0.14658 -0.0095095 0.011658 0.10204 -0.12792 -0.8443 -0.12181 -0.016801 -0.33279 -0.1552 -0.23131 -0.19181 -1.8823 -0.76746 0.099051 -0.42125 -0.19526 4.0071 -0.18594 -0.52287 -0.31681 0.00059213 0.0074449 0.17778 -0.15897 0.012041 -0.054223 -0.29871 -0.15749 -0.34758 -0.045637 -0.44251 0.18785 0.0027849 -0.18411 -0.11514 -0.78581\n",
      "\n",
      ", 0.013441 0.23682 -0.16899 0.40951 0.63812 0.47709 -0.42852 -0.55641 -0.364 -0.23938 0.13001 -0.063734 -0.39575 -0.48162 0.23291 0.090201 -0.13324 0.078639 -0.41634 -0.15428 0.10068 0.48891 0.31226 -0.1252 -0.037512 -1.5179 0.12612 -0.02442 -0.042961 -0.28351 3.5416 -0.11956 -0.014533 -0.1499 0.21864 -0.33412 -0.13872 0.31806 0.70358 0.44858 -0.080262 0.63003 0.32111 -0.46765 0.22786 0.36034 -0.37818 -0.56657 0.044691 0.30392\n",
      "\n",
      ". 0.15164 0.30177 -0.16763 0.17684 0.31719 0.33973 -0.43478 -0.31086 -0.44999 -0.29486 0.16608 0.11963 -0.41328 -0.42353 0.59868 0.28825 -0.11547 -0.041848 -0.67989 -0.25063 0.18472 0.086876 0.46582 0.015035 0.043474 -1.4671 -0.30384 -0.023441 0.30589 -0.21785 3.746 0.0042284 -0.18436 -0.46209 0.098329 -0.11907 0.23919 0.1161 0.41705 0.056763 -6.3681e-05 0.068987 0.087939 -0.10285 -0.13931 0.22314 -0.080803 -0.35652 0.016413 0.10216\n",
      "\n",
      "of 0.70853 0.57088 -0.4716 0.18048 0.54449 0.72603 0.18157 -0.52393 0.10381 -0.17566 0.078852 -0.36216 -0.11829 -0.83336 0.11917 -0.16605 0.061555 -0.012719 -0.56623 0.013616 0.22851 -0.14396 -0.067549 -0.38157 -0.23698 -1.7037 -0.86692 -0.26704 -0.2589 0.1767 3.8676 -0.1613 -0.13273 -0.68881 0.18444 0.0052464 -0.33874 -0.078956 0.24185 0.36576 -0.34727 0.28483 0.075693 -0.062178 -0.38988 0.22902 -0.21617 -0.22562 -0.093918 -0.80375\n",
      "\n",
      "to 0.68047 -0.039263 0.30186 -0.17792 0.42962 0.032246 -0.41376 0.13228 -0.29847 -0.085253 0.17118 0.22419 -0.10046 -0.43653 0.33418 0.67846 0.057204 -0.34448 -0.42785 -0.43275 0.55963 0.10032 0.18677 -0.26854 0.037334 -2.0932 0.22171 -0.39868 0.20912 -0.55725 3.8826 0.47466 -0.95658 -0.37788 0.20869 -0.32752 0.12751 0.088359 0.16351 -0.21634 -0.094375 0.018324 0.21048 -0.03088 -0.19722 0.082279 -0.09434 -0.073297 -0.064699 -0.26044\n",
      "\n"
     ]
    }
   ],
   "source": [
    "with open(glove_file, 'r', encoding='utf-8') as file:\n",
    "    # Membaca 5 baris pertama untuk melihat isinya\n",
    "    for i in range(5):\n",
    "        print(file.readline())"
   ]
  },
  {
   "cell_type": "code",
   "execution_count": 25,
   "id": "bb39f42a-47ec-44c5-b524-3f71a807d133",
   "metadata": {},
   "outputs": [
    {
     "name": "stdout",
     "output_type": "stream",
     "text": [
      "Vektor untuk kata 'king':\n",
      "[ 0.50451   0.68607  -0.59517  -0.022801  0.60046  -0.13498  -0.08813\n",
      "  0.47377  -0.61798  -0.31012  -0.076666  1.493    -0.034189 -0.98173\n",
      "  0.68229   0.81722  -0.51874  -0.31503  -0.55809   0.66421   0.1961\n",
      " -0.13495  -0.11476  -0.30344   0.41177  -2.223    -1.0756   -1.0783\n",
      " -0.34354   0.33505   1.9927   -0.04234  -0.64319   0.71125   0.49159\n",
      "  0.16754   0.34344  -0.25663  -0.8523    0.1661    0.40102   1.1685\n",
      " -1.0137   -0.21585  -0.15155   0.78321  -0.91241  -1.6106   -0.64426\n",
      " -0.51042 ]\n",
      "\n",
      "Kata-kata yang paling mirip dengan 'king':\n",
      "prince: 0.8236179351806641\n",
      "queen: 0.7839044332504272\n",
      "ii: 0.7746230363845825\n"
     ]
    }
   ],
   "source": [
    "# Memuat model GloVe ke dalam format Word2Vec dengan gensim\n",
    "model = gensim.models.keyedvectors.KeyedVectors.load_word2vec_format(glove_file, binary=False, no_header=True)\n",
    "\n",
    "# Menampilkan vektor untuk kata 'king'\n",
    "vector_king = model['king']\n",
    "print(f\"Vektor untuk kata 'king':\\n{vector_king}\\n\")\n",
    "\n",
    "# Menampilkan kata yang paling mirip dengan 'king'\n",
    "similar_words = model.most_similar('king', topn=3)\n",
    "print(\"Kata-kata yang paling mirip dengan 'king':\")\n",
    "for word, similarity in similar_words:\n",
    "    print(f\"{word}: {similarity}\")\n"
   ]
  },
  {
   "cell_type": "markdown",
   "id": "e3d1fa1b-82a3-45f2-99a0-fa14f928d3a0",
   "metadata": {},
   "source": [
    "# Reference\n",
    "- https://nlp.stanford.edu/projects/glove/"
   ]
  },
  {
   "cell_type": "code",
   "execution_count": null,
   "id": "028a562d-bfe4-49e1-93f3-5e1f595a970a",
   "metadata": {},
   "outputs": [],
   "source": []
  }
 ],
 "metadata": {
  "kernelspec": {
   "display_name": "Python [conda env:base] *",
   "language": "python",
   "name": "conda-base-py"
  },
  "language_info": {
   "codemirror_mode": {
    "name": "ipython",
    "version": 3
   },
   "file_extension": ".py",
   "mimetype": "text/x-python",
   "name": "python",
   "nbconvert_exporter": "python",
   "pygments_lexer": "ipython3",
   "version": "3.12.7"
  }
 },
 "nbformat": 4,
 "nbformat_minor": 5
}
