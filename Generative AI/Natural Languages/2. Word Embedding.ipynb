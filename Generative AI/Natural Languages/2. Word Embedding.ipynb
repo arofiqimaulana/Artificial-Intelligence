{
 "cells": [
  {
   "cell_type": "code",
   "execution_count": 2,
   "id": "76ad6ea2-2423-432e-88a2-eea5e03e4419",
   "metadata": {},
   "outputs": [],
   "source": [
    "import numpy as np\n",
    "from sklearn.preprocessing import LabelEncoder\n",
    "from sklearn.preprocessing import OneHotEncoder\n",
    "from gensim.models import Word2Vec\n",
    "from nltk.tokenize import word_tokenize"
   ]
  },
  {
   "cell_type": "code",
   "execution_count": 4,
   "id": "ba045abc-7ba5-4795-aeb5-fb638c56ccf9",
   "metadata": {},
   "outputs": [],
   "source": [
    "# Data kalimat untuk demonstrasi\n",
    "sentences = [\n",
    "    \"The cat sits on the mat\",\n",
    "    \"The dog barks at the cat\",\n",
    "    \"The bird flies in the sky\"\n",
    "]\n",
    "\n",
    "# Tokenisasi kalimat\n",
    "tokenized_sentences = [word_tokenize(sentence.lower()) for sentence in sentences]"
   ]
  },
  {
   "cell_type": "code",
   "execution_count": 6,
   "id": "b61e3611-0511-47cf-ad2b-9bf3d7006e01",
   "metadata": {},
   "outputs": [
    {
     "data": {
      "text/plain": [
       "[['the', 'cat', 'sits', 'on', 'the', 'mat'],\n",
       " ['the', 'dog', 'barks', 'at', 'the', 'cat'],\n",
       " ['the', 'bird', 'flies', 'in', 'the', 'sky']]"
      ]
     },
     "execution_count": 6,
     "metadata": {},
     "output_type": "execute_result"
    }
   ],
   "source": [
    "tokenized_sentences"
   ]
  },
  {
   "cell_type": "markdown",
   "id": "06feec5d-aade-43e1-917e-759bf7871a48",
   "metadata": {},
   "source": [
    "# ------------------------------------------------------\n",
    "# Bagian 1: One-Hot Encoding\n",
    "# ------------------------------------------------------"
   ]
  },
  {
   "cell_type": "code",
   "execution_count": 59,
   "id": "d6cba033-a817-4d84-9057-2abc7b9b2fb1",
   "metadata": {},
   "outputs": [],
   "source": [
    "# Melakukan tokenisasi dan mendeklarasikan LabelEncoder\n",
    "words = [word for sentence in tokenized_sentences for word in sentence]  # Semua kata\n",
    "label_encoder = LabelEncoder()\n",
    "label_encoder.fit(words)\n",
    "\n",
    "# One-Hot Encoding\n",
    "one_hot_encoded = label_encoder.transform(words)\n",
    "one_hot_encoded_matrix = np.zeros((len(words), len(label_encoder.classes_)))\n",
    "one_hot_encoded_matrix[np.arange(len(words)), one_hot_encoded] = 1"
   ]
  },
  {
   "cell_type": "code",
   "execution_count": 53,
   "id": "198b8092-4979-4fba-966a-fb51458df79c",
   "metadata": {},
   "outputs": [
    {
     "name": "stdout",
     "output_type": "stream",
     "text": [
      "Semua index dan One-Hot Encoding:\n",
      "Index: 0, Kata: 'the', One-Hot Encoding: [0. 0. 0. 0. 0. 0. 0. 0. 0. 0. 0. 1.]\n",
      "Index: 1, Kata: 'cat', One-Hot Encoding: [0. 0. 0. 1. 0. 0. 0. 0. 0. 0. 0. 0.]\n",
      "Index: 2, Kata: 'sits', One-Hot Encoding: [0. 0. 0. 0. 0. 0. 0. 0. 0. 1. 0. 0.]\n",
      "Index: 3, Kata: 'on', One-Hot Encoding: [0. 0. 0. 0. 0. 0. 0. 0. 1. 0. 0. 0.]\n",
      "Index: 4, Kata: 'the', One-Hot Encoding: [0. 0. 0. 0. 0. 0. 0. 0. 0. 0. 0. 1.]\n",
      "Index: 5, Kata: 'mat', One-Hot Encoding: [0. 0. 0. 0. 0. 0. 0. 1. 0. 0. 0. 0.]\n",
      "Index: 6, Kata: 'the', One-Hot Encoding: [0. 0. 0. 0. 0. 0. 0. 0. 0. 0. 0. 1.]\n",
      "Index: 7, Kata: 'dog', One-Hot Encoding: [0. 0. 0. 0. 1. 0. 0. 0. 0. 0. 0. 0.]\n",
      "Index: 8, Kata: 'barks', One-Hot Encoding: [0. 1. 0. 0. 0. 0. 0. 0. 0. 0. 0. 0.]\n",
      "Index: 9, Kata: 'at', One-Hot Encoding: [1. 0. 0. 0. 0. 0. 0. 0. 0. 0. 0. 0.]\n",
      "Index: 10, Kata: 'the', One-Hot Encoding: [0. 0. 0. 0. 0. 0. 0. 0. 0. 0. 0. 1.]\n",
      "Index: 11, Kata: 'cat', One-Hot Encoding: [0. 0. 0. 1. 0. 0. 0. 0. 0. 0. 0. 0.]\n",
      "Index: 12, Kata: 'the', One-Hot Encoding: [0. 0. 0. 0. 0. 0. 0. 0. 0. 0. 0. 1.]\n",
      "Index: 13, Kata: 'bird', One-Hot Encoding: [0. 0. 1. 0. 0. 0. 0. 0. 0. 0. 0. 0.]\n",
      "Index: 14, Kata: 'flies', One-Hot Encoding: [0. 0. 0. 0. 0. 1. 0. 0. 0. 0. 0. 0.]\n",
      "Index: 15, Kata: 'in', One-Hot Encoding: [0. 0. 0. 0. 0. 0. 1. 0. 0. 0. 0. 0.]\n",
      "Index: 16, Kata: 'the', One-Hot Encoding: [0. 0. 0. 0. 0. 0. 0. 0. 0. 0. 0. 1.]\n",
      "Index: 17, Kata: 'sky', One-Hot Encoding: [0. 0. 0. 0. 0. 0. 0. 0. 0. 0. 1. 0.]\n"
     ]
    }
   ],
   "source": [
    "print(\"Semua index dan One-Hot Encoding:\")\n",
    "for idx, word in enumerate(words):\n",
    "    print(f\"Index: {idx}, Kata: '{word}', One-Hot Encoding: {one_hot_encoded_matrix[idx]}\")"
   ]
  },
  {
   "cell_type": "code",
   "execution_count": 57,
   "id": "d46ab276-9816-4e75-99da-325a1a1b058d",
   "metadata": {},
   "outputs": [
    {
     "data": {
      "text/plain": [
       "array([[0., 0., 0., 0., 0., 0., 0., 0., 0., 0., 0., 1.],\n",
       "       [0., 0., 0., 1., 0., 0., 0., 0., 0., 0., 0., 0.],\n",
       "       [0., 0., 0., 0., 0., 0., 0., 0., 0., 1., 0., 0.],\n",
       "       [0., 0., 0., 0., 0., 0., 0., 0., 1., 0., 0., 0.],\n",
       "       [0., 0., 0., 0., 0., 0., 0., 0., 0., 0., 0., 1.],\n",
       "       [0., 0., 0., 0., 0., 0., 0., 1., 0., 0., 0., 0.],\n",
       "       [0., 0., 0., 0., 0., 0., 0., 0., 0., 0., 0., 1.],\n",
       "       [0., 0., 0., 0., 1., 0., 0., 0., 0., 0., 0., 0.],\n",
       "       [0., 1., 0., 0., 0., 0., 0., 0., 0., 0., 0., 0.],\n",
       "       [1., 0., 0., 0., 0., 0., 0., 0., 0., 0., 0., 0.],\n",
       "       [0., 0., 0., 0., 0., 0., 0., 0., 0., 0., 0., 1.],\n",
       "       [0., 0., 0., 1., 0., 0., 0., 0., 0., 0., 0., 0.],\n",
       "       [0., 0., 0., 0., 0., 0., 0., 0., 0., 0., 0., 1.],\n",
       "       [0., 0., 1., 0., 0., 0., 0., 0., 0., 0., 0., 0.],\n",
       "       [0., 0., 0., 0., 0., 1., 0., 0., 0., 0., 0., 0.],\n",
       "       [0., 0., 0., 0., 0., 0., 1., 0., 0., 0., 0., 0.],\n",
       "       [0., 0., 0., 0., 0., 0., 0., 0., 0., 0., 0., 1.],\n",
       "       [0., 0., 0., 0., 0., 0., 0., 0., 0., 0., 1., 0.]])"
      ]
     },
     "execution_count": 57,
     "metadata": {},
     "output_type": "execute_result"
    }
   ],
   "source": [
    "one_hot_encoded_matrix"
   ]
  },
  {
   "cell_type": "markdown",
   "id": "b1aac1e7-2605-4a0e-8a1d-2df3b15cb603",
   "metadata": {},
   "source": [
    "# ------------------------------------------------------\n",
    "# Bagian 2: Word Embedding (Word2Vec)\n",
    "# ------------------------------------------------------"
   ]
  },
  {
   "cell_type": "code",
   "execution_count": 63,
   "id": "76cee551-2b77-4e37-a593-3a173f55c8ab",
   "metadata": {},
   "outputs": [],
   "source": [
    "# Membangun model Word2Vec untuk mendapatkan word embeddings\n",
    "model = Word2Vec(sentences=tokenized_sentences, vector_size=10, window=5, min_count=1, sg=0)\n",
    "\n",
    "# Menampilkan vektor embedding untuk kata \"cat\"\n",
    "word_embedding = model.wv['cat']"
   ]
  },
  {
   "cell_type": "code",
   "execution_count": 65,
   "id": "6b73ee43-5d2a-4e92-a794-86d40c1a8072",
   "metadata": {},
   "outputs": [
    {
     "name": "stdout",
     "output_type": "stream",
     "text": [
      "Semua kata dan vektor embedding:\n",
      "Kata: 'the', Vektor Embedding: [-0.00536227  0.00236431  0.0510335   0.09009273 -0.0930295  -0.07116809\n",
      "  0.06458873  0.08972988 -0.05015428 -0.03763372]\n",
      "Kata: 'cat', Vektor Embedding: [ 0.07380505 -0.01533471 -0.04536613  0.06554051 -0.0486016  -0.01816018\n",
      "  0.0287658   0.00991874 -0.08285215 -0.09448818]\n",
      "Kata: 'sky', Vektor Embedding: [ 0.07311811  0.05070294  0.06757735  0.0076287   0.0635093  -0.03405387\n",
      " -0.00946407  0.05768609 -0.07521684 -0.03936128]\n",
      "Kata: 'in', Vektor Embedding: [-0.07511582 -0.00930042  0.09538119 -0.07319167 -0.02333769 -0.01937741\n",
      "  0.08077437 -0.05930896  0.00045162 -0.04753734]\n",
      "Kata: 'flies', Vektor Embedding: [-0.0960355   0.05007293 -0.08759586 -0.04391825 -0.000351   -0.00296181\n",
      " -0.0766124   0.09614743  0.04982058  0.09233143]\n",
      "Kata: 'bird', Vektor Embedding: [-0.08157779  0.04495894 -0.04136949  0.0082455   0.08498739 -0.04462241\n",
      "  0.04517483 -0.06786852 -0.03548631  0.09398434]\n",
      "Kata: 'at', Vektor Embedding: [-0.01577653  0.00321372 -0.0414063  -0.07682689 -0.01508008  0.02469795\n",
      " -0.00888027  0.05533662 -0.02742977  0.02260065]\n",
      "Kata: 'barks', Vektor Embedding: [ 0.05455794  0.08345953 -0.01453741 -0.09208143  0.04370552  0.00571785\n",
      "  0.07441908 -0.00813283 -0.02638414 -0.08753009]\n",
      "Kata: 'dog', Vektor Embedding: [-0.00856557  0.02826563  0.05401429  0.07052656 -0.05703121  0.0185882\n",
      "  0.06088864 -0.04798051 -0.03107261  0.0679763 ]\n",
      "Kata: 'mat', Vektor Embedding: [ 0.01631476  0.00189917  0.03473637  0.00217777  0.09618826  0.05060603\n",
      " -0.0891739  -0.0704156   0.00901456  0.06392534]\n",
      "Kata: 'on', Vektor Embedding: [-0.08619688  0.03665738  0.05189884  0.05741938  0.07466918 -0.06167675\n",
      "  0.01105614  0.06047282 -0.0284005  -0.06173522]\n",
      "Kata: 'sits', Vektor Embedding: [-0.00410223 -0.08368949 -0.05600012  0.07104538  0.0335254   0.0722567\n",
      "  0.06800248  0.07530741 -0.03789154 -0.00561806]\n"
     ]
    }
   ],
   "source": [
    "# Menampilkan semua kata dan vektor embedding-nya\n",
    "print(\"Semua kata dan vektor embedding:\")\n",
    "for word in model.wv.index_to_key:  # index_to_key adalah daftar kata yang ada dalam model\n",
    "    word_embedding = model.wv[word]\n",
    "    print(f\"Kata: '{word}', Vektor Embedding: {word_embedding}\")"
   ]
  },
  {
   "cell_type": "markdown",
   "id": "7d15867e-5458-4d78-9746-aef09815c63b",
   "metadata": {},
   "source": [
    "# Perbedaan Word Embedding dan One Hot Encoding\n",
    "- Dari hasil tersebut one hot encoding hanya mengubah variabel kategorikal (seperti teks atau kategori) menjadi format numerik yang dapat digunakan oleh model pembelajaran mesin. Dalam metode ini, setiap kategori atau nilai unik dari variabel digantikan dengan vektor biner (vektor angka 0 dan 1).\n",
    "\n",
    "- Sedangkan  Word embedding menyatakan kedekatan antar kategori yang mencerminkan hubungan semantik dengan kata lain dalam konteks kalimat. Oleh karena itu nilainya buka 0 dan 1."
   ]
  },
  {
   "cell_type": "code",
   "execution_count": null,
   "id": "6e8a3aa5-7482-4efa-8c9a-324361e8272d",
   "metadata": {},
   "outputs": [],
   "source": []
  }
 ],
 "metadata": {
  "kernelspec": {
   "display_name": "Python [conda env:base] *",
   "language": "python",
   "name": "conda-base-py"
  },
  "language_info": {
   "codemirror_mode": {
    "name": "ipython",
    "version": 3
   },
   "file_extension": ".py",
   "mimetype": "text/x-python",
   "name": "python",
   "nbconvert_exporter": "python",
   "pygments_lexer": "ipython3",
   "version": "3.12.7"
  }
 },
 "nbformat": 4,
 "nbformat_minor": 5
}
