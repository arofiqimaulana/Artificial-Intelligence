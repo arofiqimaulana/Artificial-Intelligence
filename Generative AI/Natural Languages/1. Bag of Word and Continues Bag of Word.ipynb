{
 "cells": [
  {
   "cell_type": "markdown",
   "id": "5ac199f3-df25-4e1a-aba5-2777eea2e781",
   "metadata": {},
   "source": [
    "# 1. Bag of Words (BoW) \n",
    "adalah metode dasar dalam Natural Language Processing (NLP) yang digunakan untuk mengubah teks menjadi bentuk numerik (vektor). BoW akan membuat representasi vektor berdasarkan frekuensi kemunculan kata dalam teks tanpa mempertimbangkan urutan kata."
   ]
  },
  {
   "cell_type": "code",
   "execution_count": 5,
   "id": "e8a51c9c-2adb-487b-b5dc-1469e2806841",
   "metadata": {},
   "outputs": [],
   "source": [
    "documents = [\n",
    "    \"saya suka makan apel\",\n",
    "    \"apel apel itu sangat enak\",\n",
    "    \"saya makan apel\"\n",
    "]"
   ]
  },
  {
   "cell_type": "code",
   "execution_count": 7,
   "id": "d1672450-811f-40e6-82f9-3fe370aa6ca1",
   "metadata": {},
   "outputs": [
    {
     "data": {
      "text/html": [
       "<div>\n",
       "<style scoped>\n",
       "    .dataframe tbody tr th:only-of-type {\n",
       "        vertical-align: middle;\n",
       "    }\n",
       "\n",
       "    .dataframe tbody tr th {\n",
       "        vertical-align: top;\n",
       "    }\n",
       "\n",
       "    .dataframe thead th {\n",
       "        text-align: right;\n",
       "    }\n",
       "</style>\n",
       "<table border=\"1\" class=\"dataframe\">\n",
       "  <thead>\n",
       "    <tr style=\"text-align: right;\">\n",
       "      <th></th>\n",
       "      <th>apel</th>\n",
       "      <th>enak</th>\n",
       "      <th>itu</th>\n",
       "      <th>makan</th>\n",
       "      <th>sangat</th>\n",
       "      <th>saya</th>\n",
       "      <th>suka</th>\n",
       "    </tr>\n",
       "  </thead>\n",
       "  <tbody>\n",
       "    <tr>\n",
       "      <th>0</th>\n",
       "      <td>1</td>\n",
       "      <td>0</td>\n",
       "      <td>0</td>\n",
       "      <td>1</td>\n",
       "      <td>0</td>\n",
       "      <td>1</td>\n",
       "      <td>1</td>\n",
       "    </tr>\n",
       "    <tr>\n",
       "      <th>1</th>\n",
       "      <td>2</td>\n",
       "      <td>1</td>\n",
       "      <td>1</td>\n",
       "      <td>0</td>\n",
       "      <td>1</td>\n",
       "      <td>0</td>\n",
       "      <td>0</td>\n",
       "    </tr>\n",
       "    <tr>\n",
       "      <th>2</th>\n",
       "      <td>1</td>\n",
       "      <td>0</td>\n",
       "      <td>0</td>\n",
       "      <td>1</td>\n",
       "      <td>0</td>\n",
       "      <td>1</td>\n",
       "      <td>0</td>\n",
       "    </tr>\n",
       "  </tbody>\n",
       "</table>\n",
       "</div>"
      ],
      "text/plain": [
       "   apel  enak  itu  makan  sangat  saya  suka\n",
       "0     1     0    0      1       0     1     1\n",
       "1     2     1    1      0       1     0     0\n",
       "2     1     0    0      1       0     1     0"
      ]
     },
     "execution_count": 7,
     "metadata": {},
     "output_type": "execute_result"
    }
   ],
   "source": [
    "import pandas as pd\n",
    "from sklearn.feature_extraction.text import CountVectorizer\n",
    "\n",
    "# Inisialisasi CountVectorizer\n",
    "vectorizer = CountVectorizer()\n",
    "\n",
    "# Mentransformasikan dokumen menjadi vektor BoW\n",
    "X = vectorizer.fit_transform(documents)\n",
    "\n",
    "df = pd.DataFrame(X.toarray(), columns=vectorizer.get_feature_names_out())\n",
    "df"
   ]
  },
  {
   "cell_type": "markdown",
   "id": "1021b4dd-b532-4fab-97e8-1e0482f8a77e",
   "metadata": {},
   "source": [
    "## Insight\n",
    "Dapat dilihat bahwa dokumen tersebut akan diubah bentuknya dalam bentuk dataframe/matriks yang berisikan frekuensi tiap kata tersebut. Setelah itu, dapat dilanjutkan dengan analisis lanjutan seperti classification, clustering, pencarian keyword, mapun association rule"
   ]
  },
  {
   "cell_type": "markdown",
   "id": "e94f23a3-34ce-4e07-8ce0-e85bc38b5e31",
   "metadata": {},
   "source": [
    "# 2. Continues Bag of Word (CBOW)\n",
    "CBOW berusaha untuk menangani kelemahan dari BOW yang mengabaikan urutan kata dan tidak menangkap makna kalimat tersebut. Algoritma ini akan menebak kata sebelum atau sesudah nya"
   ]
  },
  {
   "cell_type": "markdown",
   "id": "ece0952e-4f54-4351-bf3c-6874b64ed4e2",
   "metadata": {},
   "source": [
    "## 2.1 Case 1"
   ]
  },
  {
   "cell_type": "code",
   "execution_count": 23,
   "id": "efb09a75-2423-4c57-a3bd-b7f1950f1b4b",
   "metadata": {},
   "outputs": [],
   "source": [
    "import gensim\n",
    "import nltk\n",
    "from gensim.models import Word2Vec\n",
    "from nltk.tokenize import word_tokenize"
   ]
  },
  {
   "cell_type": "code",
   "execution_count": 25,
   "id": "063177ed-989c-43ab-93d8-24f3844f7e71",
   "metadata": {},
   "outputs": [],
   "source": [
    "# Data latih (training data) berupa kalimat\n",
    "sentences = [\n",
    "    \"The cat sits on the mat\",\n",
    "    \"The dog barks at the cat\",\n",
    "    \"The bird flies in the sky\",\n",
    "    \"Cats and dogs are animals\"\n",
    "]"
   ]
  },
  {
   "cell_type": "code",
   "execution_count": 27,
   "id": "6afa2534-38a7-4bbc-ab57-a107a038e153",
   "metadata": {},
   "outputs": [],
   "source": [
    "# Tokenisasi kalimat menjadi kata-kata\n",
    "tokenized_sentences = [word_tokenize(sentence.lower()) for sentence in sentences]"
   ]
  },
  {
   "cell_type": "code",
   "execution_count": 29,
   "id": "5e40fa63-c72e-4f35-9cd7-d58b49381def",
   "metadata": {},
   "outputs": [
    {
     "data": {
      "text/plain": [
       "[['the', 'cat', 'sits', 'on', 'the', 'mat'],\n",
       " ['the', 'dog', 'barks', 'at', 'the', 'cat'],\n",
       " ['the', 'bird', 'flies', 'in', 'the', 'sky'],\n",
       " ['cats', 'and', 'dogs', 'are', 'animals']]"
      ]
     },
     "execution_count": 29,
     "metadata": {},
     "output_type": "execute_result"
    }
   ],
   "source": [
    "tokenized_sentences"
   ]
  },
  {
   "cell_type": "code",
   "execution_count": 31,
   "id": "fdea9bbe-d40d-4a26-a502-89c98001fccc",
   "metadata": {},
   "outputs": [],
   "source": [
    "# Membangun model Word2Vec dengan CBOW\n",
    "model = Word2Vec(sentences=tokenized_sentences, vector_size=100, window=5, min_count=1, sg=0)"
   ]
  },
  {
   "cell_type": "code",
   "execution_count": 33,
   "id": "0f6eed45-e47d-449b-b764-03f44896d400",
   "metadata": {},
   "outputs": [],
   "source": [
    "# Melatih model\n",
    "model.save(\"cbow_model.model\")"
   ]
  },
  {
   "cell_type": "code",
   "execution_count": 35,
   "id": "48bc9f1c-9cb3-46a4-bc74-dc6b7e56efe6",
   "metadata": {},
   "outputs": [
    {
     "name": "stdout",
     "output_type": "stream",
     "text": [
      "Vektor untuk kata 'cat':\n",
      "[-8.6196875e-03  3.6657380e-03  5.1898835e-03  5.7419385e-03\n",
      "  7.4669183e-03 -6.1676754e-03  1.1056137e-03  6.0472824e-03\n",
      " -2.8400505e-03 -6.1735227e-03 -4.1022300e-04 -8.3689485e-03\n",
      " -5.6000124e-03  7.1045388e-03  3.3525396e-03  7.2256695e-03\n",
      "  6.8002474e-03  7.5307419e-03 -3.7891543e-03 -5.6180597e-04\n",
      "  2.3483764e-03 -4.5190323e-03  8.3887316e-03 -9.8581640e-03\n",
      "  6.7646410e-03  2.9144168e-03 -4.9328315e-03  4.3981876e-03\n",
      " -1.7395747e-03  6.7113843e-03  9.9648498e-03 -4.3624435e-03\n",
      " -5.9933780e-04 -5.6956373e-03  3.8508223e-03  2.7866268e-03\n",
      "  6.8910765e-03  6.1010956e-03  9.5384968e-03  9.2734173e-03\n",
      "  7.8980681e-03 -6.9895042e-03 -9.1558648e-03 -3.5575271e-04\n",
      " -3.0998408e-03  7.8943167e-03  5.9385742e-03 -1.5456629e-03\n",
      "  1.5109634e-03  1.7900408e-03  7.8175711e-03 -9.5101865e-03\n",
      " -2.0553112e-04  3.4691966e-03 -9.3897223e-04  8.3817719e-03\n",
      "  9.0107834e-03  6.5365066e-03 -7.1162102e-04  7.7104042e-03\n",
      " -8.5343346e-03  3.2071066e-03 -4.6379971e-03 -5.0889552e-03\n",
      "  3.5896183e-03  5.3703394e-03  7.7695143e-03 -5.7665063e-03\n",
      "  7.4333609e-03  6.6254963e-03 -3.7098003e-03 -8.7456414e-03\n",
      "  5.4374672e-03  6.5097557e-03 -7.8755023e-04 -6.7098560e-03\n",
      " -7.0859254e-03 -2.4970602e-03  5.1432536e-03 -3.6652375e-03\n",
      " -9.3700597e-03  3.8267397e-03  4.8844791e-03 -6.4285635e-03\n",
      "  1.2085581e-03 -2.0748770e-03  2.4403334e-05 -9.8835090e-03\n",
      "  2.6920044e-03 -4.7501065e-03  1.0876465e-03 -1.5762246e-03\n",
      "  2.1966731e-03 -7.8815762e-03 -2.7171839e-03  2.6631986e-03\n",
      "  5.3466819e-03 -2.3915148e-03 -9.5100943e-03  4.5058788e-03]\n",
      "\n"
     ]
    }
   ],
   "source": [
    "word_vector = model.wv['cat']\n",
    "print(f\"Vektor untuk kata 'cat':\\n{word_vector}\\n\")"
   ]
  },
  {
   "cell_type": "code",
   "execution_count": 37,
   "id": "50cf0898-8ad7-429e-a157-1e62e8efa011",
   "metadata": {},
   "outputs": [
    {
     "name": "stdout",
     "output_type": "stream",
     "text": [
      "Kata yang paling mirip dengan 'cat':\n",
      "and: 0.16072116792201996\n",
      "cats: 0.13726042211055756\n",
      "dogs: 0.12301809340715408\n"
     ]
    }
   ],
   "source": [
    "# Menemukan kata yang paling mirip dengan 'cat'\n",
    "similar_words = model.wv.most_similar('cat', topn=3)\n",
    "print(\"Kata yang paling mirip dengan 'cat':\")\n",
    "for word, similarity in similar_words:\n",
    "    print(f\"{word}: {similarity}\")"
   ]
  },
  {
   "cell_type": "markdown",
   "id": "b44c22d7-0372-4f97-bf81-90743d818019",
   "metadata": {},
   "source": [
    "## 2.2 Case 2"
   ]
  },
  {
   "cell_type": "code",
   "execution_count": 50,
   "id": "1d1292a9-5230-45d4-9b47-4ea9f81f55a3",
   "metadata": {},
   "outputs": [
    {
     "name": "stderr",
     "output_type": "stream",
     "text": [
      "Matplotlib is building the font cache; this may take a moment.\n"
     ]
    }
   ],
   "source": [
    "# Re-import necessary modules\n",
    "import tensorflow as tf\n",
    "from tensorflow.keras.models import Sequential\n",
    "from tensorflow.keras.layers import Dense, Embedding, Lambda\n",
    "from tensorflow.keras.preprocessing.text import Tokenizer\n",
    "from tensorflow.keras.utils import to_categorical\n",
    "import numpy as np\n",
    "import matplotlib.pyplot as plt\n",
    "from sklearn.decomposition import PCA"
   ]
  },
  {
   "cell_type": "code",
   "execution_count": 52,
   "id": "feeff521-3048-4748-a211-2e9e6835f9f2",
   "metadata": {},
   "outputs": [],
   "source": [
    "# Define the corpus\n",
    "corpus = [\n",
    "    'The cat sat on the mat',\n",
    "    'The dog ran in the park',\n",
    "    'The bird sang in the tree'\n",
    "]"
   ]
  },
  {
   "cell_type": "code",
   "execution_count": 54,
   "id": "3370c093-9745-4c53-8a0a-1fb936f201d0",
   "metadata": {},
   "outputs": [
    {
     "name": "stdout",
     "output_type": "stream",
     "text": [
      "After converting our words in the corpus into vector of integers:\n",
      "[[1, 3, 4, 5, 1, 6], [1, 7, 8, 2, 1, 9], [1, 10, 11, 2, 1, 12]]\n"
     ]
    }
   ],
   "source": [
    "# Convert the corpus to a sequence of integers\n",
    "tokenizer = Tokenizer()\n",
    "tokenizer.fit_on_texts(corpus)\n",
    "sequences = tokenizer.texts_to_sequences(corpus)\n",
    "print(\"After converting our words in the corpus into vector of integers:\")\n",
    "print(sequences)"
   ]
  },
  {
   "cell_type": "code",
   "execution_count": 56,
   "id": "1038d6ba-b7ed-4c44-b8e7-4263d2235e67",
   "metadata": {},
   "outputs": [],
   "source": [
    "# Define the parameters\n",
    "vocab_size = len(tokenizer.word_index) + 1\n",
    "embedding_size = 10\n",
    "window_size = 2\n",
    "\n",
    "# Generate the context-target pairs\n",
    "contexts = []\n",
    "targets = []\n",
    "for sequence in sequences:\n",
    "    for i in range(window_size, len(sequence) - window_size):\n",
    "        context = sequence[i - window_size:i] + sequence[i + 1:i + window_size + 1]\n",
    "        target = sequence[i]\n",
    "        contexts.append(context)\n",
    "        targets.append(target)"
   ]
  },
  {
   "cell_type": "code",
   "execution_count": 70,
   "id": "d13529d4-9bbd-4841-8719-b93e15ea9f66",
   "metadata": {},
   "outputs": [
    {
     "data": {
      "text/plain": [
       "[[1, 3, 5, 1],\n",
       " [3, 4, 1, 6],\n",
       " [1, 7, 2, 1],\n",
       " [7, 8, 1, 9],\n",
       " [1, 10, 2, 1],\n",
       " [10, 11, 1, 12]]"
      ]
     },
     "execution_count": 70,
     "metadata": {},
     "output_type": "execute_result"
    }
   ],
   "source": [
    "contexts # kalimat yang akan diprediksi kata di tengahnya"
   ]
  },
  {
   "cell_type": "code",
   "execution_count": 72,
   "id": "99f7ecd8-711b-4fad-81dd-6c3cd106efad",
   "metadata": {},
   "outputs": [
    {
     "data": {
      "text/plain": [
       "[4, 5, 8, 2, 11, 2]"
      ]
     },
     "execution_count": 72,
     "metadata": {},
     "output_type": "execute_result"
    }
   ],
   "source": [
    "targets # target kata yang benar"
   ]
  },
  {
   "cell_type": "code",
   "execution_count": 60,
   "id": "e88859e9-3f7a-4036-8f88-012283d37e4d",
   "metadata": {},
   "outputs": [
    {
     "name": "stderr",
     "output_type": "stream",
     "text": [
      "/opt/anaconda3/lib/python3.12/site-packages/keras/src/layers/core/embedding.py:90: UserWarning: Argument `input_length` is deprecated. Just remove it.\n",
      "  warnings.warn(\n"
     ]
    },
    {
     "data": {
      "text/plain": [
       "<keras.src.callbacks.history.History at 0x3078348c0>"
      ]
     },
     "execution_count": 60,
     "metadata": {},
     "output_type": "execute_result"
    }
   ],
   "source": [
    "# Convert the contexts and targets to numpy arrays\n",
    "X = np.array(contexts)\n",
    "y = to_categorical(targets, num_classes=vocab_size)\n",
    "\n",
    "# Define the CBOW model\n",
    "model = Sequential()\n",
    "model.add(Embedding(input_dim=vocab_size, output_dim=embedding_size, input_length=2 * window_size))\n",
    "model.add(Lambda(lambda x: tf.reduce_mean(x, axis=1)))\n",
    "model.add(Dense(units=vocab_size, activation='softmax'))\n",
    "\n",
    "# Compile the model\n",
    "model.compile(optimizer='adam', loss='categorical_crossentropy', metrics=['accuracy'])\n",
    "\n",
    "# Train the model\n",
    "model.fit(X, y, epochs=100, verbose=0)"
   ]
  },
  {
   "cell_type": "code",
   "execution_count": 62,
   "id": "7653cb1d-c4d3-47f3-a702-3bebc242f84b",
   "metadata": {},
   "outputs": [
    {
     "data": {
      "text/plain": [
       "<keras.src.callbacks.history.History at 0x3007d1c10>"
      ]
     },
     "execution_count": 62,
     "metadata": {},
     "output_type": "execute_result"
    }
   ],
   "source": [
    "# Compile the model\n",
    "model.compile(optimizer='adam', loss='categorical_crossentropy', metrics=['accuracy'])\n",
    "\n",
    "# Train the model\n",
    "model.fit(X, y, epochs=100, verbose=0)"
   ]
  },
  {
   "cell_type": "code",
   "execution_count": 64,
   "id": "204af65f-d954-44d1-9516-006c8110a62e",
   "metadata": {},
   "outputs": [
    {
     "data": {
      "image/png": "[encoded data removed]",
      "text/plain": [
       "<Figure size 500x500 with 1 Axes>"
      ]
     },
     "metadata": {},
     "output_type": "display_data"
    }
   ],
   "source": [
    "# Extract the embeddings\n",
    "embedding_layer = model.layers[0]\n",
    "embeddings = embedding_layer.get_weights()[0]\n",
    "\n",
    "# Perform PCA to reduce the dimensionality of the embeddings\n",
    "pca = PCA(n_components=2)\n",
    "reduced_embeddings = pca.fit_transform(embeddings)\n",
    "\n",
    "# Visualize the embeddings\n",
    "plt.figure(figsize=(5, 5))\n",
    "for word, idx in tokenizer.word_index.items():\n",
    "    x, y = reduced_embeddings[idx]\n",
    "    plt.scatter(x, y)\n",
    "    plt.annotate(word, xy=(x, y), xytext=(5, 2),\n",
    "                 textcoords='offset points', ha='right', va='bottom')\n",
    "plt.title(\"Word Embeddings Visualized\")\n",
    "plt.show()"
   ]
  },
  {
   "cell_type": "markdown",
   "id": "b80f4f63-0a06-4f9e-9d8e-8b2ab29e25cd",
   "metadata": {},
   "source": [
    "# Reference\n",
    "- https://arofiqimaulana.medium.com/bag-of-word-bow-7bd123b06280\n",
    "- https://www.geeksforgeeks.org/continuous-bag-of-words-cbow-in-nlp/"
   ]
  },
  {
   "cell_type": "code",
   "execution_count": null,
   "id": "21fc6e3f-4ca2-4021-86a9-4c5083fc1f42",
   "metadata": {},
   "outputs": [],
   "source": []
  }
 ],
 "metadata": {
  "kernelspec": {
   "display_name": "Python [conda env:base] *",
   "language": "python",
   "name": "conda-base-py"
  },
  "language_info": {
   "codemirror_mode": {
    "name": "ipython",
    "version": 3
   },
   "file_extension": ".py",
   "mimetype": "text/x-python",
   "name": "python",
   "nbconvert_exporter": "python",
   "pygments_lexer": "ipython3",
   "version": "3.12.7"
  }
 },
 "nbformat": 4,
 "nbformat_minor": 5
}
