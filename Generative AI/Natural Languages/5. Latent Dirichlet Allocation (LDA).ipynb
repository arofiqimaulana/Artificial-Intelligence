{
 "cells": [
  {
   "cell_type": "code",
   "execution_count": 18,
   "id": "422b0d3e-0c08-4de6-9911-427c56a27ff9",
   "metadata": {},
   "outputs": [],
   "source": [
    "import nltk\n",
    "from nltk.corpus import stopwords\n",
    "from nltk.tokenize import word_tokenize\n",
    "from nltk.stem import PorterStemmer\n",
    "from gensim import corpora\n",
    "from gensim.models import LdaModel\n",
    "import pandas as pd\n",
    "import pyLDAvis"
   ]
  },
  {
   "cell_type": "code",
   "execution_count": 19,
   "id": "62e65e88-c198-44b7-af52-63401eb69de7",
   "metadata": {},
   "outputs": [],
   "source": [
    "# Download stopwords dan punkt dari nltk\n",
    "# nltk.download('punkt')\n",
    "# nltk.download('stopwords')"
   ]
  },
  {
   "cell_type": "code",
   "execution_count": 20,
   "id": "045d1586-c66b-4644-ae69-1c3bb1d949e6",
   "metadata": {},
   "outputs": [],
   "source": [
    "# Kumpulan dokumen contoh\n",
    "documents = [\n",
    "    \"I love playing football.\",\n",
    "    \"Football is a great sport.\",\n",
    "    \"Basketball is also a popular sport.\",\n",
    "    \"I enjoy playing basketball with friends.\",\n",
    "    \"The economy is growing steadily.\",\n",
    "    \"Economic growth is important for stability.\"\n",
    "]"
   ]
  },
  {
   "cell_type": "code",
   "execution_count": 21,
   "id": "cec54366-9084-43ef-974a-71e6807cf61f",
   "metadata": {},
   "outputs": [],
   "source": [
    "# Preprocessing teks\n",
    "def preprocess(text):\n",
    "    # Tokenisasi\n",
    "    tokens = word_tokenize(text.lower())  \n",
    "    # Hapus stopwords\n",
    "    tokens = [word for word in tokens if word not in stopwords.words('english') and word.isalpha()]\n",
    "    # Stemming\n",
    "    stemmer = PorterStemmer()\n",
    "    tokens = [stemmer.stem(word) for word in tokens]\n",
    "    return tokens"
   ]
  },
  {
   "cell_type": "code",
   "execution_count": 22,
   "id": "08a7ba8c-835d-43f2-8828-b3c11a248c9c",
   "metadata": {},
   "outputs": [],
   "source": [
    "# Proses setiap dokumen\n",
    "processed_docs = [preprocess(doc) for doc in documents]\n",
    "\n",
    "# Membuat dictionary dan corpus\n",
    "dictionary = corpora.Dictionary(processed_docs)\n",
    "corpus = [dictionary.doc2bow(doc) for doc in processed_docs]"
   ]
  },
  {
   "cell_type": "code",
   "execution_count": 24,
   "id": "53b5f2bd-f287-4baf-91d4-14c4a9230e95",
   "metadata": {},
   "outputs": [
    {
     "name": "stdout",
     "output_type": "stream",
     "text": [
      "(0, '0.200*\"economi\" + 0.200*\"grow\" + 0.200*\"steadili\" + 0.029*\"play\"')\n",
      "(1, '0.171*\"basketbal\" + 0.171*\"popular\" + 0.171*\"also\" + 0.171*\"sport\"')\n",
      "(2, '0.200*\"sport\" + 0.200*\"footbal\" + 0.200*\"great\" + 0.029*\"play\"')\n",
      "(3, '0.200*\"play\" + 0.200*\"footbal\" + 0.200*\"love\" + 0.029*\"sport\"')\n",
      "(4, '0.108*\"growth\" + 0.108*\"import\" + 0.108*\"enjoy\" + 0.108*\"friend\"')\n",
      "(5, '0.059*\"play\" + 0.059*\"sport\" + 0.059*\"basketbal\" + 0.059*\"footbal\"')\n"
     ]
    }
   ],
   "source": [
    "# Membangun model LDA\n",
    "lda_model = LdaModel(corpus, num_topics=6, id2word=dictionary, passes=15)\n",
    "\n",
    "# Menampilkan topik yang ditemukan\n",
    "topics = lda_model.print_topics(num_words=4)\n",
    "for topic in topics:\n",
    "    print(topic)"
   ]
  },
  {
   "cell_type": "code",
   "execution_count": 13,
   "id": "36705687-3115-4539-b677-51ffe1732fad",
   "metadata": {},
   "outputs": [
    {
     "data": {
      "text/plain": [
       "[(0, '0.077*\"growth\" + 0.077*\"econom\" + 0.077*\"stabil\" + 0.077*\"import\"'),\n",
       " (1, '0.134*\"play\" + 0.134*\"footbal\" + 0.082*\"basketbal\" + 0.081*\"sport\"')]"
      ]
     },
     "execution_count": 13,
     "metadata": {},
     "output_type": "execute_result"
    }
   ],
   "source": [
    "topics"
   ]
  },
  {
   "cell_type": "markdown",
   "id": "c9ad91cb-419d-4926-9812-f2c0779de36a",
   "metadata": {},
   "source": [
    "# Interpretasi\n",
    "- topik ke 0 : pertumbuhan ekonomi\n",
    "- topik ke 1: olahraga"
   ]
  },
  {
   "cell_type": "code",
   "execution_count": null,
   "id": "25e7b1f7-1712-45d0-bae6-56b2cc7dc32b",
   "metadata": {},
   "outputs": [],
   "source": []
  }
 ],
 "metadata": {
  "kernelspec": {
   "display_name": "Python 3 (ipykernel)",
   "language": "python",
   "name": "python3"
  },
  "language_info": {
   "codemirror_mode": {
    "name": "ipython",
    "version": 3
   },
   "file_extension": ".py",
   "mimetype": "text/x-python",
   "name": "python",
   "nbconvert_exporter": "python",
   "pygments_lexer": "ipython3",
   "version": "3.11.6"
  }
 },
 "nbformat": 4,
 "nbformat_minor": 5
}
