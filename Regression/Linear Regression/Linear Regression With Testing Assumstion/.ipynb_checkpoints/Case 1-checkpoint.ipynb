{
 "cells": [
  {
   "cell_type": "markdown",
   "metadata": {},
   "source": [
    "# 1. Import Data"
   ]
  },
  {
   "cell_type": "code",
   "execution_count": 2,
   "metadata": {},
   "outputs": [],
   "source": [
    "import pandas as pd\n",
    "import numpy as np\n",
    "import matplotlib.pyplot as plt\n",
    "from scipy import stats\n",
    "import statsmodels.api as sm\n",
    "from statsmodels.stats.outliers_influence import variance_inflation_factor"
   ]
  },
  {
   "cell_type": "code",
   "execution_count": 3,
   "metadata": {},
   "outputs": [],
   "source": [
    "df = pd.read_excel('data.xlsx')"
   ]
  },
  {
   "cell_type": "code",
   "execution_count": 4,
   "metadata": {},
   "outputs": [
    {
     "data": {
      "text/html": [
       "<div>\n",
       "<style scoped>\n",
       "    .dataframe tbody tr th:only-of-type {\n",
       "        vertical-align: middle;\n",
       "    }\n",
       "\n",
       "    .dataframe tbody tr th {\n",
       "        vertical-align: top;\n",
       "    }\n",
       "\n",
       "    .dataframe thead th {\n",
       "        text-align: right;\n",
       "    }\n",
       "</style>\n",
       "<table border=\"1\" class=\"dataframe\">\n",
       "  <thead>\n",
       "    <tr style=\"text-align: right;\">\n",
       "      <th></th>\n",
       "      <th>X1.1</th>\n",
       "      <th>X1.2</th>\n",
       "      <th>X1.3</th>\n",
       "      <th>X1.4</th>\n",
       "      <th>X1.5</th>\n",
       "      <th>X1.6</th>\n",
       "      <th>X1.7</th>\n",
       "      <th>X1.8</th>\n",
       "      <th>X1.9</th>\n",
       "      <th>X1.10</th>\n",
       "      <th>...</th>\n",
       "      <th>Y1.1</th>\n",
       "      <th>Y1.2</th>\n",
       "      <th>Y1.3</th>\n",
       "      <th>Y1.4</th>\n",
       "      <th>Y1.5</th>\n",
       "      <th>Y1.6</th>\n",
       "      <th>Y1.7</th>\n",
       "      <th>Y1.8</th>\n",
       "      <th>Y1.9</th>\n",
       "      <th>Y</th>\n",
       "    </tr>\n",
       "  </thead>\n",
       "  <tbody>\n",
       "    <tr>\n",
       "      <th>0</th>\n",
       "      <td>5</td>\n",
       "      <td>5</td>\n",
       "      <td>4</td>\n",
       "      <td>5</td>\n",
       "      <td>5</td>\n",
       "      <td>5</td>\n",
       "      <td>5</td>\n",
       "      <td>5</td>\n",
       "      <td>5</td>\n",
       "      <td>5</td>\n",
       "      <td>...</td>\n",
       "      <td>5</td>\n",
       "      <td>5</td>\n",
       "      <td>5</td>\n",
       "      <td>5</td>\n",
       "      <td>5</td>\n",
       "      <td>5</td>\n",
       "      <td>5</td>\n",
       "      <td>4</td>\n",
       "      <td>5</td>\n",
       "      <td>44</td>\n",
       "    </tr>\n",
       "    <tr>\n",
       "      <th>1</th>\n",
       "      <td>5</td>\n",
       "      <td>5</td>\n",
       "      <td>5</td>\n",
       "      <td>5</td>\n",
       "      <td>5</td>\n",
       "      <td>5</td>\n",
       "      <td>5</td>\n",
       "      <td>5</td>\n",
       "      <td>5</td>\n",
       "      <td>5</td>\n",
       "      <td>...</td>\n",
       "      <td>4</td>\n",
       "      <td>4</td>\n",
       "      <td>3</td>\n",
       "      <td>5</td>\n",
       "      <td>5</td>\n",
       "      <td>3</td>\n",
       "      <td>4</td>\n",
       "      <td>3</td>\n",
       "      <td>3</td>\n",
       "      <td>34</td>\n",
       "    </tr>\n",
       "    <tr>\n",
       "      <th>2</th>\n",
       "      <td>5</td>\n",
       "      <td>5</td>\n",
       "      <td>5</td>\n",
       "      <td>5</td>\n",
       "      <td>5</td>\n",
       "      <td>5</td>\n",
       "      <td>5</td>\n",
       "      <td>5</td>\n",
       "      <td>5</td>\n",
       "      <td>5</td>\n",
       "      <td>...</td>\n",
       "      <td>5</td>\n",
       "      <td>5</td>\n",
       "      <td>5</td>\n",
       "      <td>5</td>\n",
       "      <td>5</td>\n",
       "      <td>5</td>\n",
       "      <td>5</td>\n",
       "      <td>5</td>\n",
       "      <td>5</td>\n",
       "      <td>45</td>\n",
       "    </tr>\n",
       "    <tr>\n",
       "      <th>3</th>\n",
       "      <td>3</td>\n",
       "      <td>3</td>\n",
       "      <td>3</td>\n",
       "      <td>3</td>\n",
       "      <td>3</td>\n",
       "      <td>3</td>\n",
       "      <td>3</td>\n",
       "      <td>3</td>\n",
       "      <td>3</td>\n",
       "      <td>3</td>\n",
       "      <td>...</td>\n",
       "      <td>3</td>\n",
       "      <td>3</td>\n",
       "      <td>3</td>\n",
       "      <td>3</td>\n",
       "      <td>3</td>\n",
       "      <td>3</td>\n",
       "      <td>3</td>\n",
       "      <td>3</td>\n",
       "      <td>3</td>\n",
       "      <td>27</td>\n",
       "    </tr>\n",
       "    <tr>\n",
       "      <th>4</th>\n",
       "      <td>5</td>\n",
       "      <td>5</td>\n",
       "      <td>5</td>\n",
       "      <td>5</td>\n",
       "      <td>5</td>\n",
       "      <td>5</td>\n",
       "      <td>5</td>\n",
       "      <td>5</td>\n",
       "      <td>5</td>\n",
       "      <td>5</td>\n",
       "      <td>...</td>\n",
       "      <td>5</td>\n",
       "      <td>5</td>\n",
       "      <td>5</td>\n",
       "      <td>5</td>\n",
       "      <td>5</td>\n",
       "      <td>5</td>\n",
       "      <td>5</td>\n",
       "      <td>5</td>\n",
       "      <td>5</td>\n",
       "      <td>45</td>\n",
       "    </tr>\n",
       "  </tbody>\n",
       "</table>\n",
       "<p>5 rows × 36 columns</p>\n",
       "</div>"
      ],
      "text/plain": [
       "   X1.1  X1.2  X1.3  X1.4  X1.5  X1.6  X1.7  X1.8  X1.9  X1.10  ...  Y1.1  \\\n",
       "0     5     5     4     5     5     5     5     5     5      5  ...     5   \n",
       "1     5     5     5     5     5     5     5     5     5      5  ...     4   \n",
       "2     5     5     5     5     5     5     5     5     5      5  ...     5   \n",
       "3     3     3     3     3     3     3     3     3     3      3  ...     3   \n",
       "4     5     5     5     5     5     5     5     5     5      5  ...     5   \n",
       "\n",
       "   Y1.2  Y1.3  Y1.4  Y1.5  Y1.6  Y1.7  Y1.8  Y1.9   Y  \n",
       "0     5     5     5     5     5     5     4     5  44  \n",
       "1     4     3     5     5     3     4     3     3  34  \n",
       "2     5     5     5     5     5     5     5     5  45  \n",
       "3     3     3     3     3     3     3     3     3  27  \n",
       "4     5     5     5     5     5     5     5     5  45  \n",
       "\n",
       "[5 rows x 36 columns]"
      ]
     },
     "execution_count": 4,
     "metadata": {},
     "output_type": "execute_result"
    }
   ],
   "source": [
    "df.head()"
   ]
  },
  {
   "cell_type": "code",
   "execution_count": 7,
   "metadata": {},
   "outputs": [],
   "source": [
    "# Bagi data menjadi 3 dataframe berdasarkan variabelnya\n",
    "dfX1 = df.iloc[:,0:10]\n",
    "dfX2 = df.iloc[:,11:25]\n",
    "dfY = df.iloc[:,26:35]"
   ]
  },
  {
   "cell_type": "code",
   "execution_count": 11,
   "metadata": {},
   "outputs": [
    {
     "data": {
      "text/html": [
       "<div>\n",
       "<style scoped>\n",
       "    .dataframe tbody tr th:only-of-type {\n",
       "        vertical-align: middle;\n",
       "    }\n",
       "\n",
       "    .dataframe tbody tr th {\n",
       "        vertical-align: top;\n",
       "    }\n",
       "\n",
       "    .dataframe thead th {\n",
       "        text-align: right;\n",
       "    }\n",
       "</style>\n",
       "<table border=\"1\" class=\"dataframe\">\n",
       "  <thead>\n",
       "    <tr style=\"text-align: right;\">\n",
       "      <th></th>\n",
       "      <th>Y1.1</th>\n",
       "      <th>Y1.2</th>\n",
       "      <th>Y1.3</th>\n",
       "      <th>Y1.4</th>\n",
       "      <th>Y1.5</th>\n",
       "      <th>Y1.6</th>\n",
       "      <th>Y1.7</th>\n",
       "      <th>Y1.8</th>\n",
       "      <th>Y1.9</th>\n",
       "    </tr>\n",
       "  </thead>\n",
       "  <tbody>\n",
       "    <tr>\n",
       "      <th>Y1.1</th>\n",
       "      <td>1.000000</td>\n",
       "      <td>0.771082</td>\n",
       "      <td>0.710105</td>\n",
       "      <td>0.633291</td>\n",
       "      <td>0.460049</td>\n",
       "      <td>0.576263</td>\n",
       "      <td>0.610071</td>\n",
       "      <td>0.669093</td>\n",
       "      <td>0.618683</td>\n",
       "    </tr>\n",
       "    <tr>\n",
       "      <th>Y1.2</th>\n",
       "      <td>0.771082</td>\n",
       "      <td>1.000000</td>\n",
       "      <td>0.600524</td>\n",
       "      <td>0.598437</td>\n",
       "      <td>0.379759</td>\n",
       "      <td>0.480071</td>\n",
       "      <td>0.656075</td>\n",
       "      <td>0.470145</td>\n",
       "      <td>0.595987</td>\n",
       "    </tr>\n",
       "    <tr>\n",
       "      <th>Y1.3</th>\n",
       "      <td>0.710105</td>\n",
       "      <td>0.600524</td>\n",
       "      <td>1.000000</td>\n",
       "      <td>0.527122</td>\n",
       "      <td>0.306347</td>\n",
       "      <td>0.535078</td>\n",
       "      <td>0.538636</td>\n",
       "      <td>0.607601</td>\n",
       "      <td>0.656496</td>\n",
       "    </tr>\n",
       "    <tr>\n",
       "      <th>Y1.4</th>\n",
       "      <td>0.633291</td>\n",
       "      <td>0.598437</td>\n",
       "      <td>0.527122</td>\n",
       "      <td>1.000000</td>\n",
       "      <td>0.399998</td>\n",
       "      <td>0.464798</td>\n",
       "      <td>0.541252</td>\n",
       "      <td>0.463621</td>\n",
       "      <td>0.501168</td>\n",
       "    </tr>\n",
       "    <tr>\n",
       "      <th>Y1.5</th>\n",
       "      <td>0.460049</td>\n",
       "      <td>0.379759</td>\n",
       "      <td>0.306347</td>\n",
       "      <td>0.399998</td>\n",
       "      <td>1.000000</td>\n",
       "      <td>0.304379</td>\n",
       "      <td>0.201520</td>\n",
       "      <td>0.356583</td>\n",
       "      <td>0.179569</td>\n",
       "    </tr>\n",
       "    <tr>\n",
       "      <th>Y1.6</th>\n",
       "      <td>0.576263</td>\n",
       "      <td>0.480071</td>\n",
       "      <td>0.535078</td>\n",
       "      <td>0.464798</td>\n",
       "      <td>0.304379</td>\n",
       "      <td>1.000000</td>\n",
       "      <td>0.440429</td>\n",
       "      <td>0.373697</td>\n",
       "      <td>0.468561</td>\n",
       "    </tr>\n",
       "    <tr>\n",
       "      <th>Y1.7</th>\n",
       "      <td>0.610071</td>\n",
       "      <td>0.656075</td>\n",
       "      <td>0.538636</td>\n",
       "      <td>0.541252</td>\n",
       "      <td>0.201520</td>\n",
       "      <td>0.440429</td>\n",
       "      <td>1.000000</td>\n",
       "      <td>0.561840</td>\n",
       "      <td>0.697340</td>\n",
       "    </tr>\n",
       "    <tr>\n",
       "      <th>Y1.8</th>\n",
       "      <td>0.669093</td>\n",
       "      <td>0.470145</td>\n",
       "      <td>0.607601</td>\n",
       "      <td>0.463621</td>\n",
       "      <td>0.356583</td>\n",
       "      <td>0.373697</td>\n",
       "      <td>0.561840</td>\n",
       "      <td>1.000000</td>\n",
       "      <td>0.593330</td>\n",
       "    </tr>\n",
       "    <tr>\n",
       "      <th>Y1.9</th>\n",
       "      <td>0.618683</td>\n",
       "      <td>0.595987</td>\n",
       "      <td>0.656496</td>\n",
       "      <td>0.501168</td>\n",
       "      <td>0.179569</td>\n",
       "      <td>0.468561</td>\n",
       "      <td>0.697340</td>\n",
       "      <td>0.593330</td>\n",
       "      <td>1.000000</td>\n",
       "    </tr>\n",
       "  </tbody>\n",
       "</table>\n",
       "</div>"
      ],
      "text/plain": [
       "          Y1.1      Y1.2      Y1.3      Y1.4      Y1.5      Y1.6      Y1.7  \\\n",
       "Y1.1  1.000000  0.771082  0.710105  0.633291  0.460049  0.576263  0.610071   \n",
       "Y1.2  0.771082  1.000000  0.600524  0.598437  0.379759  0.480071  0.656075   \n",
       "Y1.3  0.710105  0.600524  1.000000  0.527122  0.306347  0.535078  0.538636   \n",
       "Y1.4  0.633291  0.598437  0.527122  1.000000  0.399998  0.464798  0.541252   \n",
       "Y1.5  0.460049  0.379759  0.306347  0.399998  1.000000  0.304379  0.201520   \n",
       "Y1.6  0.576263  0.480071  0.535078  0.464798  0.304379  1.000000  0.440429   \n",
       "Y1.7  0.610071  0.656075  0.538636  0.541252  0.201520  0.440429  1.000000   \n",
       "Y1.8  0.669093  0.470145  0.607601  0.463621  0.356583  0.373697  0.561840   \n",
       "Y1.9  0.618683  0.595987  0.656496  0.501168  0.179569  0.468561  0.697340   \n",
       "\n",
       "          Y1.8      Y1.9  \n",
       "Y1.1  0.669093  0.618683  \n",
       "Y1.2  0.470145  0.595987  \n",
       "Y1.3  0.607601  0.656496  \n",
       "Y1.4  0.463621  0.501168  \n",
       "Y1.5  0.356583  0.179569  \n",
       "Y1.6  0.373697  0.468561  \n",
       "Y1.7  0.561840  0.697340  \n",
       "Y1.8  1.000000  0.593330  \n",
       "Y1.9  0.593330  1.000000  "
      ]
     },
     "execution_count": 11,
     "metadata": {},
     "output_type": "execute_result"
    }
   ],
   "source": [
    "dfY.corr()"
   ]
  },
  {
   "cell_type": "markdown",
   "metadata": {},
   "source": [
    "# 2. Uji Instrument\n",
    "Pengujian alat ukur terdiri dari \n",
    "1. Uji Validitas\n",
    "   Uji ini memastikan bahwa alat ukur **mengukur apa yang seharusnya diukur**. Misal, jika kita mengukur kebijaksanaan, maka pertanyaan yang ditanyakan merepresentasikan kebijaksanaan.\n",
    "        \n",
    "2. Uji Reliabilitas\n",
    "Alat ukur yang reliabel artinya alat ukur tersebut jika digunakan oleh peneliti lainnya memberikan hasil yang sama dari waktu ke waktu.\n",
    "\n"
   ]
  },
  {
   "cell_type": "markdown",
   "metadata": {},
   "source": [
    "## 2.1 Uji Validitas"
   ]
  },
  {
   "cell_type": "code",
   "execution_count": 79,
   "metadata": {},
   "outputs": [],
   "source": [
    "# Bagi data menjadi 3 dataframe berdasarkan variabelnya\n",
    "dfX1 = df.iloc[:,0:10]\n",
    "dfX2 = df.iloc[:,11:25]\n",
    "dfY = df.iloc[:,26:35]"
   ]
  },
  {
   "cell_type": "code",
   "execution_count": 88,
   "metadata": {},
   "outputs": [],
   "source": [
    "def getValidity(df):\n",
    "    total = df.sum(axis=1)\n",
    "    df_baru = pd.concat([df,total],axis=1)\n",
    "    \n",
    "    return df_baru.corr()[0].drop(0)"
   ]
  },
  {
   "cell_type": "code",
   "execution_count": 91,
   "metadata": {},
   "outputs": [
    {
     "name": "stdout",
     "output_type": "stream",
     "text": [
      "X1.1     0.549016\n",
      "X1.2     0.621478\n",
      "X1.3     0.547339\n",
      "X1.4     0.960082\n",
      "X1.5     0.960082\n",
      "X1.6     0.960082\n",
      "X1.7     0.960082\n",
      "X1.8     0.960082\n",
      "X1.9     0.960082\n",
      "X1.10    0.960082\n",
      "Name: 0, dtype: float64\n"
     ]
    }
   ],
   "source": [
    "\"\"\"\n",
    "Uji validitas bisa dilihat dari korelasi masing-masing item terhadap total keseluruhan. Jika nilai korelasi > 0.3, maka bisa \n",
    "dikatakan bahwa item tersebut valid.\n",
    "\"\"\"\n",
    "print(getValidity(dfX1))"
   ]
  },
  {
   "cell_type": "code",
   "execution_count": 92,
   "metadata": {},
   "outputs": [
    {
     "name": "stdout",
     "output_type": "stream",
     "text": [
      "X2.2     0.754807\n",
      "X2.3     0.734680\n",
      "X2.4     0.753406\n",
      "X2.5     0.802945\n",
      "X2.6     0.780495\n",
      "X2.7     0.822316\n",
      "X2.8     0.749776\n",
      "X2.9     0.718654\n",
      "X2.10    0.700450\n",
      "X2.11    0.656706\n",
      "X2.12    0.765308\n",
      "X2.13    0.696781\n",
      "X2.14    0.716865\n",
      "X2.15    0.538074\n",
      "Name: 0, dtype: float64\n"
     ]
    }
   ],
   "source": [
    "\"\"\"\n",
    "Uji validitas bisa dilihat dari korelasi masing-masing item terhadap total keseluruhan. Jika nilai korelasi > 0.3, maka bisa \n",
    "dikatakan bahwa item tersebut valid.\n",
    "\"\"\"\n",
    "print(getValidity(dfX2))"
   ]
  },
  {
   "cell_type": "code",
   "execution_count": 93,
   "metadata": {},
   "outputs": [
    {
     "name": "stdout",
     "output_type": "stream",
     "text": [
      "Y1.1    0.880265\n",
      "Y1.2    0.808982\n",
      "Y1.3    0.803754\n",
      "Y1.4    0.747185\n",
      "Y1.5    0.507276\n",
      "Y1.6    0.710964\n",
      "Y1.7    0.779009\n",
      "Y1.8    0.747826\n",
      "Y1.9    0.795323\n",
      "Name: 0, dtype: float64\n"
     ]
    }
   ],
   "source": [
    "\"\"\"\n",
    "Uji validitas bisa dilihat dari korelasi masing-masing item terhadap total keseluruhan. Jika nilai korelasi > 0.3, maka bisa \n",
    "dikatakan bahwa item tersebut valid.\n",
    "\"\"\"\n",
    "print(getValidity(dfY))"
   ]
  },
  {
   "cell_type": "markdown",
   "metadata": {},
   "source": [
    "## 2.2 Uji Reliabilitas"
   ]
  },
  {
   "cell_type": "code",
   "execution_count": 101,
   "metadata": {},
   "outputs": [],
   "source": [
    "def getReliability(df):\n",
    "    k = len(df.columns) # banyak butir pertanyaan\n",
    "    rb = sum(np.var(df)) # ragam tiap butir pertanyaan kemudian dijumlahkan\n",
    "    \n",
    "    total = df.sum(axis=1) # membuat variabel baru yaitu total item\n",
    "    rt = np.var(total)\n",
    "    \n",
    "    r11 = (k/(k-1))*(1-rb/rt)\n",
    "    \n",
    "    return r11"
   ]
  },
  {
   "cell_type": "code",
   "execution_count": 129,
   "metadata": {},
   "outputs": [],
   "source": [
    "def getReliabilityIfItemDeleted(df):\n",
    "    \n",
    "    kolom = df.columns.values.tolist()\n",
    "\n",
    "    Rel_per_item = []\n",
    "    for k in range(len(kolom)):\n",
    "        df_baru = df.drop(kolom[k],axis=1)\n",
    "        Rel_per_item.append([kolom[k],getReliability(df_baru)])\n",
    "\n",
    "    \n",
    "    return Rel_per_item"
   ]
  },
  {
   "cell_type": "code",
   "execution_count": 96,
   "metadata": {},
   "outputs": [
    {
     "name": "stdout",
     "output_type": "stream",
     "text": [
      "Nilai Alpha Cronbach X1 :  0.9529656069802052\n",
      "Nilai Alpha Cronbach X2 :  0.9280155491069348\n",
      "Nilai Alpha Cronbach Y :  0.8986873053872163\n"
     ]
    }
   ],
   "source": [
    "\"\"\"\n",
    "Alat ukur dikatakan reliabel jika nilai alpha cronbach > 0.6. \n",
    "\"\"\"\n",
    "print(\"Nilai Alpha Cronbach X1 : \",getReliability(dfX1))\n",
    "print(\"Nilai Alpha Cronbach X2 : \",getReliability(dfX2))\n",
    "print(\"Nilai Alpha Cronbach Y : \",getReliability(dfY))"
   ]
  },
  {
   "cell_type": "code",
   "execution_count": 124,
   "metadata": {},
   "outputs": [],
   "source": [
    "kolom = dfX1.columns.values.tolist()\n",
    "\n",
    "Rel_per_item = []\n",
    "for k in range(len(kolom)):\n",
    "    df_baru = dfX1.drop(kolom[k],axis=1)\n",
    "    Rel_per_item.append([kolom[k],getReliability(df_baru)])"
   ]
  },
  {
   "cell_type": "code",
   "execution_count": 131,
   "metadata": {},
   "outputs": [
    {
     "data": {
      "text/plain": [
       "[['X1.1', 0.9618050511360332],\n",
       " ['X1.2', 0.9593090264826554],\n",
       " ['X1.3', 0.9635491523186575],\n",
       " ['X1.4', 0.9415840919902898],\n",
       " ['X1.5', 0.9415840919902898],\n",
       " ['X1.6', 0.9415840919902898],\n",
       " ['X1.7', 0.9415840919902898],\n",
       " ['X1.8', 0.9415840919902898],\n",
       " ['X1.9', 0.9415840919902898],\n",
       " ['X1.10', 0.9415840919902898]]"
      ]
     },
     "execution_count": 131,
     "metadata": {},
     "output_type": "execute_result"
    }
   ],
   "source": [
    "# Alpha Cronbach if Item Deleted\n",
    "getReliabilityIfItemDeleted(dfX1)"
   ]
  },
  {
   "cell_type": "code",
   "execution_count": 132,
   "metadata": {},
   "outputs": [
    {
     "data": {
      "text/plain": [
       "[['X2.2', 0.9216016313770429],\n",
       " ['X2.3', 0.9222943928710184],\n",
       " ['X2.4', 0.9220973425202181],\n",
       " ['X2.5', 0.9198292689603472],\n",
       " ['X2.6', 0.9206848744645173],\n",
       " ['X2.7', 0.9190753200882998],\n",
       " ['X2.8', 0.9217896033526177],\n",
       " ['X2.9', 0.9228522615167838],\n",
       " ['X2.10', 0.9234577027298544],\n",
       " ['X2.11', 0.9290841935178895],\n",
       " ['X2.12', 0.9214951731055109],\n",
       " ['X2.13', 0.9239449374232036],\n",
       " ['X2.14', 0.9229296424923669],\n",
       " ['X2.15', 0.9293020085129022]]"
      ]
     },
     "execution_count": 132,
     "metadata": {},
     "output_type": "execute_result"
    }
   ],
   "source": [
    "# Alpha Cronbach if Item Deleted\n",
    "getReliabilityIfItemDeleted(dfX2)"
   ]
  },
  {
   "cell_type": "code",
   "execution_count": 133,
   "metadata": {},
   "outputs": [
    {
     "data": {
      "text/plain": [
       "[['Y1.1', 0.8772656323711754],\n",
       " ['Y1.2', 0.8812643311526909],\n",
       " ['Y1.3', 0.8821614318085684],\n",
       " ['Y1.4', 0.886783097350008],\n",
       " ['Y1.5', 0.9047304136581413],\n",
       " ['Y1.6', 0.8986988003566313],\n",
       " ['Y1.7', 0.8840366894379533],\n",
       " ['Y1.8', 0.8871660299960965],\n",
       " ['Y1.9', 0.8834772759450653]]"
      ]
     },
     "execution_count": 133,
     "metadata": {},
     "output_type": "execute_result"
    }
   ],
   "source": [
    "# Alpha Cronbach if Item Deleted\n",
    "getReliabilityIfItemDeleted(dfY)"
   ]
  },
  {
   "cell_type": "code",
   "execution_count": null,
   "metadata": {},
   "outputs": [],
   "source": []
  },
  {
   "cell_type": "markdown",
   "metadata": {},
   "source": [
    "# 3. Analisis Regresi Linier Berganda"
   ]
  },
  {
   "cell_type": "code",
   "execution_count": 134,
   "metadata": {},
   "outputs": [],
   "source": [
    "from sklearn.linear_model import LinearRegression"
   ]
  },
  {
   "cell_type": "code",
   "execution_count": 136,
   "metadata": {},
   "outputs": [],
   "source": [
    "df1 = df[['X1','X2','Y']]"
   ]
  },
  {
   "cell_type": "code",
   "execution_count": 138,
   "metadata": {},
   "outputs": [],
   "source": [
    "LR = LinearRegression()\n",
    "fit = LR.fit(df1[['X1','X2']],df['Y']) "
   ]
  },
  {
   "cell_type": "code",
   "execution_count": 142,
   "metadata": {},
   "outputs": [],
   "source": [
    "predictions = LR.predict(df1[['X1','X2']])\n",
    "residual = df1['Y'] - predictions"
   ]
  },
  {
   "cell_type": "code",
   "execution_count": 145,
   "metadata": {},
   "outputs": [
    {
     "data": {
      "text/plain": [
       "array([[2.9979038 ],\n",
       "       [0.18166322],\n",
       "       [0.45002419]])"
      ]
     },
     "execution_count": 145,
     "metadata": {},
     "output_type": "execute_result"
    }
   ],
   "source": [
    "koef_p = np.append(fit.intercept_,fit.coef_).reshape(-1,1)\n",
    "koef_p"
   ]
  },
  {
   "cell_type": "code",
   "execution_count": 179,
   "metadata": {},
   "outputs": [],
   "source": [
    "# X = sm.add_constant(df1[['X1','X2']])\n",
    "# est = sm.OLS(X, pd.DataFrame(df1['Y']))\n",
    "# est2 = est.fit()\n",
    "# print(est2.summary())"
   ]
  },
  {
   "cell_type": "markdown",
   "metadata": {},
   "source": [
    "# 4. Uji Asumsi Klasik\n",
    "Uji asumsi Klasik terdiri dari\n",
    "1. Normalitas Residual\n",
    "2. Homogenitas Ragam Residual\n",
    "3. Non-Autokorelasi\n",
    "4. Non-Multikolinieritas"
   ]
  },
  {
   "cell_type": "markdown",
   "metadata": {},
   "source": [
    "## 4.1 Normalitas Residual"
   ]
  },
  {
   "cell_type": "code",
   "execution_count": 148,
   "metadata": {},
   "outputs": [
    {
     "data": {
      "image/png": "[encoded data removed]",
      "text/plain": [
       "<Figure size 432x288 with 1 Axes>"
      ]
     },
     "metadata": {
      "needs_background": "light"
     },
     "output_type": "display_data"
    }
   ],
   "source": [
    "plt.hist(residual, color='blue')\n",
    "plt.show()"
   ]
  },
  {
   "cell_type": "code",
   "execution_count": 153,
   "metadata": {},
   "outputs": [
    {
     "data": {
      "text/plain": [
       "KstestResult(statistic=0.32179390840437516, pvalue=1.029228909614091e-09)"
      ]
     },
     "execution_count": 153,
     "metadata": {},
     "output_type": "execute_result"
    }
   ],
   "source": [
    "\"\"\"\n",
    "Hipotesis bagi uji kolmogorov smirnov\n",
    "    H0 : Residual berdistribusi normal\n",
    "    H1 : Residual tidak berdistribusi normal\n",
    "Asumsi Normalitas Residual Terpenuhi Jika pvalue > 0.05. Dapat dilihat bahwa pvalue < 0.05 maka tolah H0 sehingga residual tidak\n",
    "normal.\n",
    "\"\"\"\n",
    "stats.kstest(residual, 'norm')"
   ]
  },
  {
   "cell_type": "markdown",
   "metadata": {},
   "source": [
    "## 4.2 Homogenitas Ragam Residual"
   ]
  },
  {
   "cell_type": "code",
   "execution_count": 183,
   "metadata": {},
   "outputs": [],
   "source": [
    "Residual2 = residual*residual\n",
    "\n",
    "LR = LinearRegression()\n",
    "fit_2 = LR.fit(df1[['X1','X2']],Residual2) "
   ]
  },
  {
   "cell_type": "code",
   "execution_count": 182,
   "metadata": {},
   "outputs": [
    {
     "name": "stdout",
     "output_type": "stream",
     "text": [
      "                            OLS Regression Results                            \n",
      "==============================================================================\n",
      "Dep. Variable:                      Y   R-squared:                       0.006\n",
      "Model:                            OLS   Adj. R-squared:                 -0.015\n",
      "Method:                 Least Squares   F-statistic:                    0.2815\n",
      "Date:                Sat, 02 Jan 2021   Prob (F-statistic):              0.755\n",
      "Time:                        09:35:59   Log-Likelihood:                -401.76\n",
      "No. Observations:                 100   AIC:                             809.5\n",
      "Df Residuals:                      97   BIC:                             817.3\n",
      "Df Model:                           2                                         \n",
      "Covariance Type:            nonrobust                                         \n",
      "==============================================================================\n",
      "                 coef    std err          t      P>|t|      [0.025      0.975]\n",
      "------------------------------------------------------------------------------\n",
      "const         -0.5329     12.850     -0.041      0.967     -26.037      24.971\n",
      "X1             0.0090      0.284      0.032      0.975      -0.555       0.573\n",
      "X2             0.1339      0.213      0.629      0.531      -0.288       0.556\n",
      "==============================================================================\n",
      "Omnibus:                       71.394   Durbin-Watson:                   2.001\n",
      "Prob(Omnibus):                  0.000   Jarque-Bera (JB):              288.452\n",
      "Skew:                           2.579   Prob(JB):                     2.31e-63\n",
      "Kurtosis:                       9.528   Cond. No.                         721.\n",
      "==============================================================================\n",
      "\n",
      "Warnings:\n",
      "[1] Standard Errors assume that the covariance matrix of the errors is correctly specified.\n"
     ]
    }
   ],
   "source": [
    "\"\"\"\n",
    "Homgenitas ragam residual bisa diuji menggunakan uji Bresuh Pagan dengan hipotesis\n",
    "    H0 : Homoskedastisitas \n",
    "    H1 : Heteroskedastisitas\n",
    "\n",
    "Uji bresuh pagan membentuk auxilary regression terhadap variabel dependen residual kuadrat. Jika koefisien regresi tidak\n",
    "signifikan, maka asumsi homoskedastisitas terpenuhi.\n",
    "\"\"\"\n",
    "X = sm.add_constant(df1[['X1','X2']])\n",
    "est = sm.OLS(Residual2, X)\n",
    "est2 = est.fit()\n",
    "print(est2.summary())"
   ]
  },
  {
   "cell_type": "markdown",
   "metadata": {},
   "source": [
    "## 4.3 Non Multikolinieritas"
   ]
  },
  {
   "cell_type": "code",
   "execution_count": 198,
   "metadata": {},
   "outputs": [],
   "source": [
    "# Import library for VIF\n",
    "from statsmodels.stats.outliers_influence import variance_inflation_factor\n",
    "\n",
    "def calc_vif(X):\n",
    "\n",
    "    # Calculating VIF\n",
    "    vif = pd.DataFrame()\n",
    "    vif[\"variables\"] = X.columns\n",
    "    vif[\"VIF\"] = [variance_inflation_factor(X.values, i) for i in range(X.shape[1])]\n",
    "\n",
    "    return(vif)"
   ]
  },
  {
   "cell_type": "code",
   "execution_count": 199,
   "metadata": {},
   "outputs": [
    {
     "data": {
      "text/html": [
       "<div>\n",
       "<style scoped>\n",
       "    .dataframe tbody tr th:only-of-type {\n",
       "        vertical-align: middle;\n",
       "    }\n",
       "\n",
       "    .dataframe tbody tr th {\n",
       "        vertical-align: top;\n",
       "    }\n",
       "\n",
       "    .dataframe thead th {\n",
       "        text-align: right;\n",
       "    }\n",
       "</style>\n",
       "<table border=\"1\" class=\"dataframe\">\n",
       "  <thead>\n",
       "    <tr style=\"text-align: right;\">\n",
       "      <th></th>\n",
       "      <th>variables</th>\n",
       "      <th>VIF</th>\n",
       "    </tr>\n",
       "  </thead>\n",
       "  <tbody>\n",
       "    <tr>\n",
       "      <th>0</th>\n",
       "      <td>X1</td>\n",
       "      <td>68.155155</td>\n",
       "    </tr>\n",
       "    <tr>\n",
       "      <th>1</th>\n",
       "      <td>X2</td>\n",
       "      <td>68.155155</td>\n",
       "    </tr>\n",
       "  </tbody>\n",
       "</table>\n",
       "</div>"
      ],
      "text/plain": [
       "  variables        VIF\n",
       "0        X1  68.155155\n",
       "1        X2  68.155155"
      ]
     },
     "execution_count": 199,
     "metadata": {},
     "output_type": "execute_result"
    }
   ],
   "source": [
    "calc_vif(X)"
   ]
  },
  {
   "cell_type": "code",
   "execution_count": 190,
   "metadata": {},
   "outputs": [],
   "source": [
    "X = df[['X1','X2']]"
   ]
  },
  {
   "cell_type": "code",
   "execution_count": 192,
   "metadata": {},
   "outputs": [
    {
     "data": {
      "text/plain": [
       "[68.155154543989, 68.155154543989]"
      ]
     },
     "execution_count": 192,
     "metadata": {},
     "output_type": "execute_result"
    }
   ],
   "source": [
    "[variance_inflation_factor(X.values, i) for i in range(len(X.columns))] "
   ]
  },
  {
   "cell_type": "code",
   "execution_count": 197,
   "metadata": {},
   "outputs": [
    {
     "data": {
      "text/plain": [
       "68.155154543989"
      ]
     },
     "execution_count": 197,
     "metadata": {},
     "output_type": "execute_result"
    }
   ],
   "source": [
    "variance_inflation_factor(X.values,1)"
   ]
  },
  {
   "cell_type": "code",
   "execution_count": 193,
   "metadata": {},
   "outputs": [
    {
     "data": {
      "text/plain": [
       "1.349527665317139"
      ]
     },
     "execution_count": 193,
     "metadata": {},
     "output_type": "execute_result"
    }
   ],
   "source": [
    "R2 = 0.259\n",
    "VIF = 1/(1-R2)\n",
    "VIF"
   ]
  },
  {
   "cell_type": "markdown",
   "metadata": {},
   "source": [
    "# Refference\n",
    "1. https://towardsdatascience.com/cronbachs-alpha-theory-and-application-in-python-d2915dd63586\n",
    "2. https://docs.scipy.org/doc/scipy//reference/generated/scipy.stats.kstest.html\n",
    "3. https://haldir24.wordpress.com/2009/07/21/uji-reliabilitas-manual-tiap-variabel/"
   ]
  },
  {
   "cell_type": "code",
   "execution_count": null,
   "metadata": {},
   "outputs": [],
   "source": []
  }
 ],
 "metadata": {
  "kernelspec": {
   "display_name": "Python 3",
   "language": "python",
   "name": "python3"
  },
  "language_info": {
   "codemirror_mode": {
    "name": "ipython",
    "version": 3
   },
   "file_extension": ".py",
   "mimetype": "text/x-python",
   "name": "python",
   "nbconvert_exporter": "python",
   "pygments_lexer": "ipython3",
   "version": "3.7.6"
  }
 },
 "nbformat": 4,
 "nbformat_minor": 4
}
