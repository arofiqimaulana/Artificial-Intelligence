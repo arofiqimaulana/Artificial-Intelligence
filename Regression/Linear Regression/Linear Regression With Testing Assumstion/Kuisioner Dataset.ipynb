{
 "cells": [
  {
   "cell_type": "markdown",
   "metadata": {},
   "source": [
    "# 1. Import Data"
   ]
  },
  {
   "cell_type": "code",
   "execution_count": 1,
   "metadata": {},
   "outputs": [],
   "source": [
    "import pandas as pd\n",
    "import numpy as np\n",
    "import matplotlib.pyplot as plt\n",
    "from scipy import stats\n",
    "import statsmodels.api as sm\n",
    "from statsmodels.stats.outliers_influence import variance_inflation_factor"
   ]
  },
  {
   "cell_type": "code",
   "execution_count": 2,
   "metadata": {},
   "outputs": [],
   "source": [
    "df = pd.read_excel('data.xlsx')"
   ]
  },
  {
   "cell_type": "code",
   "execution_count": 3,
   "metadata": {},
   "outputs": [
    {
     "data": {
      "text/html": [
       "<div>\n",
       "<style scoped>\n",
       "    .dataframe tbody tr th:only-of-type {\n",
       "        vertical-align: middle;\n",
       "    }\n",
       "\n",
       "    .dataframe tbody tr th {\n",
       "        vertical-align: top;\n",
       "    }\n",
       "\n",
       "    .dataframe thead th {\n",
       "        text-align: right;\n",
       "    }\n",
       "</style>\n",
       "<table border=\"1\" class=\"dataframe\">\n",
       "  <thead>\n",
       "    <tr style=\"text-align: right;\">\n",
       "      <th></th>\n",
       "      <th>X1.1</th>\n",
       "      <th>X1.2</th>\n",
       "      <th>X1.3</th>\n",
       "      <th>X1</th>\n",
       "      <th>X2.1</th>\n",
       "      <th>X2.2</th>\n",
       "      <th>X2.3</th>\n",
       "      <th>X2.4</th>\n",
       "      <th>X2</th>\n",
       "      <th>Y1.1</th>\n",
       "      <th>Y1.2</th>\n",
       "      <th>Y1.3</th>\n",
       "      <th>Y1.4</th>\n",
       "      <th>Y1.5</th>\n",
       "      <th>Y</th>\n",
       "    </tr>\n",
       "  </thead>\n",
       "  <tbody>\n",
       "    <tr>\n",
       "      <th>0</th>\n",
       "      <td>5</td>\n",
       "      <td>5</td>\n",
       "      <td>5</td>\n",
       "      <td>15</td>\n",
       "      <td>5</td>\n",
       "      <td>5</td>\n",
       "      <td>5</td>\n",
       "      <td>4</td>\n",
       "      <td>19</td>\n",
       "      <td>5</td>\n",
       "      <td>5</td>\n",
       "      <td>5</td>\n",
       "      <td>5</td>\n",
       "      <td>4</td>\n",
       "      <td>24</td>\n",
       "    </tr>\n",
       "    <tr>\n",
       "      <th>1</th>\n",
       "      <td>5</td>\n",
       "      <td>5</td>\n",
       "      <td>5</td>\n",
       "      <td>15</td>\n",
       "      <td>5</td>\n",
       "      <td>5</td>\n",
       "      <td>5</td>\n",
       "      <td>5</td>\n",
       "      <td>20</td>\n",
       "      <td>4</td>\n",
       "      <td>3</td>\n",
       "      <td>3</td>\n",
       "      <td>4</td>\n",
       "      <td>3</td>\n",
       "      <td>17</td>\n",
       "    </tr>\n",
       "    <tr>\n",
       "      <th>2</th>\n",
       "      <td>5</td>\n",
       "      <td>5</td>\n",
       "      <td>5</td>\n",
       "      <td>15</td>\n",
       "      <td>5</td>\n",
       "      <td>5</td>\n",
       "      <td>5</td>\n",
       "      <td>5</td>\n",
       "      <td>20</td>\n",
       "      <td>5</td>\n",
       "      <td>5</td>\n",
       "      <td>5</td>\n",
       "      <td>5</td>\n",
       "      <td>5</td>\n",
       "      <td>25</td>\n",
       "    </tr>\n",
       "    <tr>\n",
       "      <th>3</th>\n",
       "      <td>3</td>\n",
       "      <td>3</td>\n",
       "      <td>3</td>\n",
       "      <td>9</td>\n",
       "      <td>3</td>\n",
       "      <td>3</td>\n",
       "      <td>3</td>\n",
       "      <td>3</td>\n",
       "      <td>12</td>\n",
       "      <td>3</td>\n",
       "      <td>3</td>\n",
       "      <td>3</td>\n",
       "      <td>3</td>\n",
       "      <td>3</td>\n",
       "      <td>15</td>\n",
       "    </tr>\n",
       "    <tr>\n",
       "      <th>4</th>\n",
       "      <td>5</td>\n",
       "      <td>5</td>\n",
       "      <td>5</td>\n",
       "      <td>15</td>\n",
       "      <td>5</td>\n",
       "      <td>5</td>\n",
       "      <td>5</td>\n",
       "      <td>5</td>\n",
       "      <td>20</td>\n",
       "      <td>5</td>\n",
       "      <td>5</td>\n",
       "      <td>5</td>\n",
       "      <td>5</td>\n",
       "      <td>5</td>\n",
       "      <td>25</td>\n",
       "    </tr>\n",
       "  </tbody>\n",
       "</table>\n",
       "</div>"
      ],
      "text/plain": [
       "   X1.1  X1.2  X1.3  X1  X2.1  X2.2  X2.3  X2.4  X2  Y1.1  Y1.2  Y1.3  Y1.4  \\\n",
       "0     5     5     5  15     5     5     5     4  19     5     5     5     5   \n",
       "1     5     5     5  15     5     5     5     5  20     4     3     3     4   \n",
       "2     5     5     5  15     5     5     5     5  20     5     5     5     5   \n",
       "3     3     3     3   9     3     3     3     3  12     3     3     3     3   \n",
       "4     5     5     5  15     5     5     5     5  20     5     5     5     5   \n",
       "\n",
       "   Y1.5   Y  \n",
       "0     4  24  \n",
       "1     3  17  \n",
       "2     5  25  \n",
       "3     3  15  \n",
       "4     5  25  "
      ]
     },
     "execution_count": 3,
     "metadata": {},
     "output_type": "execute_result"
    }
   ],
   "source": [
    "df.head()"
   ]
  },
  {
   "cell_type": "code",
   "execution_count": 41,
   "metadata": {},
   "outputs": [],
   "source": [
    "# Bagi data menjadi 3 dataframe berdasarkan variabelnya\n",
    "dfX1 = df.iloc[:,0:3]\n",
    "dfX2 = df.iloc[:,4:8]\n",
    "dfY = df.iloc[:,9:14]"
   ]
  },
  {
   "cell_type": "code",
   "execution_count": 42,
   "metadata": {},
   "outputs": [
    {
     "data": {
      "text/html": [
       "<div>\n",
       "<style scoped>\n",
       "    .dataframe tbody tr th:only-of-type {\n",
       "        vertical-align: middle;\n",
       "    }\n",
       "\n",
       "    .dataframe tbody tr th {\n",
       "        vertical-align: top;\n",
       "    }\n",
       "\n",
       "    .dataframe thead th {\n",
       "        text-align: right;\n",
       "    }\n",
       "</style>\n",
       "<table border=\"1\" class=\"dataframe\">\n",
       "  <thead>\n",
       "    <tr style=\"text-align: right;\">\n",
       "      <th></th>\n",
       "      <th>X1.1</th>\n",
       "      <th>X1.2</th>\n",
       "      <th>X1.3</th>\n",
       "    </tr>\n",
       "  </thead>\n",
       "  <tbody>\n",
       "    <tr>\n",
       "      <th>X1.1</th>\n",
       "      <td>1.000000</td>\n",
       "      <td>0.367673</td>\n",
       "      <td>0.367673</td>\n",
       "    </tr>\n",
       "    <tr>\n",
       "      <th>X1.2</th>\n",
       "      <td>0.367673</td>\n",
       "      <td>1.000000</td>\n",
       "      <td>1.000000</td>\n",
       "    </tr>\n",
       "    <tr>\n",
       "      <th>X1.3</th>\n",
       "      <td>0.367673</td>\n",
       "      <td>1.000000</td>\n",
       "      <td>1.000000</td>\n",
       "    </tr>\n",
       "  </tbody>\n",
       "</table>\n",
       "</div>"
      ],
      "text/plain": [
       "          X1.1      X1.2      X1.3\n",
       "X1.1  1.000000  0.367673  0.367673\n",
       "X1.2  0.367673  1.000000  1.000000\n",
       "X1.3  0.367673  1.000000  1.000000"
      ]
     },
     "execution_count": 42,
     "metadata": {},
     "output_type": "execute_result"
    }
   ],
   "source": [
    "dfX1.corr()"
   ]
  },
  {
   "cell_type": "code",
   "execution_count": 43,
   "metadata": {},
   "outputs": [
    {
     "data": {
      "text/html": [
       "<div>\n",
       "<style scoped>\n",
       "    .dataframe tbody tr th:only-of-type {\n",
       "        vertical-align: middle;\n",
       "    }\n",
       "\n",
       "    .dataframe tbody tr th {\n",
       "        vertical-align: top;\n",
       "    }\n",
       "\n",
       "    .dataframe thead th {\n",
       "        text-align: right;\n",
       "    }\n",
       "</style>\n",
       "<table border=\"1\" class=\"dataframe\">\n",
       "  <thead>\n",
       "    <tr style=\"text-align: right;\">\n",
       "      <th></th>\n",
       "      <th>X2.1</th>\n",
       "      <th>X2.2</th>\n",
       "      <th>X2.3</th>\n",
       "      <th>X2.4</th>\n",
       "    </tr>\n",
       "  </thead>\n",
       "  <tbody>\n",
       "    <tr>\n",
       "      <th>X2.1</th>\n",
       "      <td>1.000000</td>\n",
       "      <td>0.532098</td>\n",
       "      <td>0.511337</td>\n",
       "      <td>0.665214</td>\n",
       "    </tr>\n",
       "    <tr>\n",
       "      <th>X2.2</th>\n",
       "      <td>0.532098</td>\n",
       "      <td>1.000000</td>\n",
       "      <td>0.674900</td>\n",
       "      <td>0.513152</td>\n",
       "    </tr>\n",
       "    <tr>\n",
       "      <th>X2.3</th>\n",
       "      <td>0.511337</td>\n",
       "      <td>0.674900</td>\n",
       "      <td>1.000000</td>\n",
       "      <td>0.560246</td>\n",
       "    </tr>\n",
       "    <tr>\n",
       "      <th>X2.4</th>\n",
       "      <td>0.665214</td>\n",
       "      <td>0.513152</td>\n",
       "      <td>0.560246</td>\n",
       "      <td>1.000000</td>\n",
       "    </tr>\n",
       "  </tbody>\n",
       "</table>\n",
       "</div>"
      ],
      "text/plain": [
       "          X2.1      X2.2      X2.3      X2.4\n",
       "X2.1  1.000000  0.532098  0.511337  0.665214\n",
       "X2.2  0.532098  1.000000  0.674900  0.513152\n",
       "X2.3  0.511337  0.674900  1.000000  0.560246\n",
       "X2.4  0.665214  0.513152  0.560246  1.000000"
      ]
     },
     "execution_count": 43,
     "metadata": {},
     "output_type": "execute_result"
    }
   ],
   "source": [
    "dfX2.corr()"
   ]
  },
  {
   "cell_type": "code",
   "execution_count": 44,
   "metadata": {},
   "outputs": [
    {
     "data": {
      "text/html": [
       "<div>\n",
       "<style scoped>\n",
       "    .dataframe tbody tr th:only-of-type {\n",
       "        vertical-align: middle;\n",
       "    }\n",
       "\n",
       "    .dataframe tbody tr th {\n",
       "        vertical-align: top;\n",
       "    }\n",
       "\n",
       "    .dataframe thead th {\n",
       "        text-align: right;\n",
       "    }\n",
       "</style>\n",
       "<table border=\"1\" class=\"dataframe\">\n",
       "  <thead>\n",
       "    <tr style=\"text-align: right;\">\n",
       "      <th></th>\n",
       "      <th>Y1.1</th>\n",
       "      <th>Y1.2</th>\n",
       "      <th>Y1.3</th>\n",
       "      <th>Y1.4</th>\n",
       "      <th>Y1.5</th>\n",
       "    </tr>\n",
       "  </thead>\n",
       "  <tbody>\n",
       "    <tr>\n",
       "      <th>Y1.1</th>\n",
       "      <td>1.000000</td>\n",
       "      <td>0.710105</td>\n",
       "      <td>0.576263</td>\n",
       "      <td>0.610071</td>\n",
       "      <td>0.669093</td>\n",
       "    </tr>\n",
       "    <tr>\n",
       "      <th>Y1.2</th>\n",
       "      <td>0.710105</td>\n",
       "      <td>1.000000</td>\n",
       "      <td>0.535078</td>\n",
       "      <td>0.538636</td>\n",
       "      <td>0.607601</td>\n",
       "    </tr>\n",
       "    <tr>\n",
       "      <th>Y1.3</th>\n",
       "      <td>0.576263</td>\n",
       "      <td>0.535078</td>\n",
       "      <td>1.000000</td>\n",
       "      <td>0.440429</td>\n",
       "      <td>0.373697</td>\n",
       "    </tr>\n",
       "    <tr>\n",
       "      <th>Y1.4</th>\n",
       "      <td>0.610071</td>\n",
       "      <td>0.538636</td>\n",
       "      <td>0.440429</td>\n",
       "      <td>1.000000</td>\n",
       "      <td>0.561840</td>\n",
       "    </tr>\n",
       "    <tr>\n",
       "      <th>Y1.5</th>\n",
       "      <td>0.669093</td>\n",
       "      <td>0.607601</td>\n",
       "      <td>0.373697</td>\n",
       "      <td>0.561840</td>\n",
       "      <td>1.000000</td>\n",
       "    </tr>\n",
       "  </tbody>\n",
       "</table>\n",
       "</div>"
      ],
      "text/plain": [
       "          Y1.1      Y1.2      Y1.3      Y1.4      Y1.5\n",
       "Y1.1  1.000000  0.710105  0.576263  0.610071  0.669093\n",
       "Y1.2  0.710105  1.000000  0.535078  0.538636  0.607601\n",
       "Y1.3  0.576263  0.535078  1.000000  0.440429  0.373697\n",
       "Y1.4  0.610071  0.538636  0.440429  1.000000  0.561840\n",
       "Y1.5  0.669093  0.607601  0.373697  0.561840  1.000000"
      ]
     },
     "execution_count": 44,
     "metadata": {},
     "output_type": "execute_result"
    }
   ],
   "source": [
    "dfY.corr()"
   ]
  },
  {
   "cell_type": "markdown",
   "metadata": {},
   "source": [
    "# 2. Uji Instrument\n",
    "Pengujian alat ukur terdiri dari \n",
    "1. Uji Validitas\n",
    "   Uji ini memastikan bahwa alat ukur **mengukur apa yang seharusnya diukur**. Misal, jika kita mengukur kebijaksanaan, maka pertanyaan yang ditanyakan merepresentasikan kebijaksanaan.\n",
    "        \n",
    "2. Uji Reliabilitas\n",
    "Alat ukur yang reliabel artinya alat ukur tersebut jika digunakan oleh peneliti lainnya memberikan hasil yang sama dari waktu ke waktu.\n",
    "\n"
   ]
  },
  {
   "cell_type": "markdown",
   "metadata": {},
   "source": [
    "## 2.1 Uji Validitas"
   ]
  },
  {
   "cell_type": "code",
   "execution_count": 51,
   "metadata": {},
   "outputs": [],
   "source": [
    "def getValidity(df):\n",
    "    total = df.sum(axis=1)\n",
    "    df_baru = pd.concat([df,total],axis=1)\n",
    "    \n",
    "    return df_baru.corr()[0].drop(0)"
   ]
  },
  {
   "cell_type": "code",
   "execution_count": 52,
   "metadata": {},
   "outputs": [
    {
     "name": "stdout",
     "output_type": "stream",
     "text": [
      "X1.1    0.685957\n",
      "X1.2    0.928882\n",
      "X1.3    0.928882\n",
      "Name: 0, dtype: float64\n"
     ]
    }
   ],
   "source": [
    "\"\"\"\n",
    "Uji validitas bisa dilihat dari korelasi masing-masing item terhadap total keseluruhan. Jika nilai korelasi > 0.3, maka bisa \n",
    "dikatakan bahwa item tersebut valid.\n",
    "\"\"\"\n",
    "print(getValidity(dfX1))"
   ]
  },
  {
   "cell_type": "code",
   "execution_count": 53,
   "metadata": {},
   "outputs": [
    {
     "name": "stdout",
     "output_type": "stream",
     "text": [
      "X2.1    0.829294\n",
      "X2.2    0.816961\n",
      "X2.3    0.825132\n",
      "X2.4    0.831716\n",
      "Name: 0, dtype: float64\n"
     ]
    }
   ],
   "source": [
    "\"\"\"\n",
    "Uji validitas bisa dilihat dari korelasi masing-masing item terhadap total keseluruhan. Jika nilai korelasi > 0.3, maka bisa \n",
    "dikatakan bahwa item tersebut valid.\n",
    "\"\"\"\n",
    "print(getValidity(dfX2))"
   ]
  },
  {
   "cell_type": "code",
   "execution_count": 54,
   "metadata": {},
   "outputs": [
    {
     "name": "stdout",
     "output_type": "stream",
     "text": [
      "Y1.1    0.866690\n",
      "Y1.2    0.825052\n",
      "Y1.3    0.766907\n",
      "Y1.4    0.778573\n",
      "Y1.5    0.783905\n",
      "Name: 0, dtype: float64\n"
     ]
    }
   ],
   "source": [
    "\"\"\"\n",
    "Uji validitas bisa dilihat dari korelasi masing-masing item terhadap total keseluruhan. Jika nilai korelasi > 0.3, maka bisa \n",
    "dikatakan bahwa item tersebut valid.\n",
    "\"\"\"\n",
    "print(getValidity(dfY))"
   ]
  },
  {
   "cell_type": "markdown",
   "metadata": {},
   "source": [
    "## 2.2 Uji Reliabilitas"
   ]
  },
  {
   "cell_type": "code",
   "execution_count": 55,
   "metadata": {},
   "outputs": [],
   "source": [
    "def getReliability(df):\n",
    "    k = len(df.columns) # banyak butir pertanyaan\n",
    "    rb = sum(np.var(df)) # ragam tiap butir pertanyaan kemudian dijumlahkan\n",
    "    \n",
    "    total = df.sum(axis=1) # membuat variabel baru yaitu total item\n",
    "    rt = np.var(total)\n",
    "    \n",
    "    r11 = (k/(k-1))*(1-rb/rt)\n",
    "    \n",
    "    return r11"
   ]
  },
  {
   "cell_type": "code",
   "execution_count": 56,
   "metadata": {},
   "outputs": [],
   "source": [
    "def getReliabilityIfItemDeleted(df):\n",
    "    \n",
    "    kolom = df.columns.values.tolist()\n",
    "\n",
    "    Rel_per_item = []\n",
    "    for k in range(len(kolom)):\n",
    "        df_baru = df.drop(kolom[k],axis=1)\n",
    "        Rel_per_item.append([kolom[k],getReliability(df_baru)])\n",
    "\n",
    "    \n",
    "    return Rel_per_item"
   ]
  },
  {
   "cell_type": "code",
   "execution_count": 57,
   "metadata": {},
   "outputs": [
    {
     "name": "stdout",
     "output_type": "stream",
     "text": [
      "Nilai Alpha Cronbach X1 :  0.8029003194658804\n",
      "Nilai Alpha Cronbach X2 :  0.843896713615023\n",
      "Nilai Alpha Cronbach Y :  0.8451365385506973\n"
     ]
    }
   ],
   "source": [
    "\"\"\"\n",
    "Alat ukur dikatakan reliabel jika nilai alpha cronbach > 0.6. \n",
    "\"\"\"\n",
    "print(\"Nilai Alpha Cronbach X1 : \",getReliability(dfX1))\n",
    "print(\"Nilai Alpha Cronbach X2 : \",getReliability(dfX2))\n",
    "print(\"Nilai Alpha Cronbach Y : \",getReliability(dfY))"
   ]
  },
  {
   "cell_type": "code",
   "execution_count": 58,
   "metadata": {},
   "outputs": [],
   "source": [
    "kolom = dfX1.columns.values.tolist()\n",
    "\n",
    "Rel_per_item = []\n",
    "for k in range(len(kolom)):\n",
    "    df_baru = dfX1.drop(kolom[k],axis=1)\n",
    "    Rel_per_item.append([kolom[k],getReliability(df_baru)])"
   ]
  },
  {
   "cell_type": "code",
   "execution_count": 59,
   "metadata": {},
   "outputs": [
    {
     "data": {
      "text/plain": [
       "[['X1.1', 0.9999999999999998],\n",
       " ['X1.2', 0.5375999999999959],\n",
       " ['X1.3', 0.5375999999999959]]"
      ]
     },
     "execution_count": 59,
     "metadata": {},
     "output_type": "execute_result"
    }
   ],
   "source": [
    "# Alpha Cronbach if Item Deleted\n",
    "getReliabilityIfItemDeleted(dfX1)"
   ]
  },
  {
   "cell_type": "code",
   "execution_count": 60,
   "metadata": {},
   "outputs": [
    {
     "data": {
      "text/plain": [
       "[['X2.1', 0.8065184452209407],\n",
       " ['X2.2', 0.8048674615117468],\n",
       " ['X2.3', 0.7997717696629209],\n",
       " ['X2.4', 0.7975673327541271]]"
      ]
     },
     "execution_count": 60,
     "metadata": {},
     "output_type": "execute_result"
    }
   ],
   "source": [
    "# Alpha Cronbach if Item Deleted\n",
    "getReliabilityIfItemDeleted(dfX2)"
   ]
  },
  {
   "cell_type": "code",
   "execution_count": 61,
   "metadata": {},
   "outputs": [
    {
     "data": {
      "text/plain": [
       "[['Y1.1', 0.7879807078594938],\n",
       " ['Y1.2', 0.7976525110389203],\n",
       " ['Y1.3', 0.8580682816699055],\n",
       " ['Y1.4', 0.8160951327433625],\n",
       " ['Y1.5', 0.814313469624474]]"
      ]
     },
     "execution_count": 61,
     "metadata": {},
     "output_type": "execute_result"
    }
   ],
   "source": [
    "# Alpha Cronbach if Item Deleted\n",
    "getReliabilityIfItemDeleted(dfY)"
   ]
  },
  {
   "cell_type": "code",
   "execution_count": null,
   "metadata": {},
   "outputs": [],
   "source": []
  },
  {
   "cell_type": "markdown",
   "metadata": {},
   "source": [
    "# 3. Analisis Regresi Linier Berganda"
   ]
  },
  {
   "cell_type": "code",
   "execution_count": 62,
   "metadata": {},
   "outputs": [],
   "source": [
    "from sklearn.linear_model import LinearRegression"
   ]
  },
  {
   "cell_type": "code",
   "execution_count": 63,
   "metadata": {},
   "outputs": [],
   "source": [
    "df1 = df[['X1','X2','Y']]"
   ]
  },
  {
   "cell_type": "code",
   "execution_count": 64,
   "metadata": {},
   "outputs": [],
   "source": [
    "LR = LinearRegression()\n",
    "fit = LR.fit(df1[['X1','X2']],df['Y']) "
   ]
  },
  {
   "cell_type": "code",
   "execution_count": 65,
   "metadata": {},
   "outputs": [],
   "source": [
    "predictions = LR.predict(df1[['X1','X2']])\n",
    "residual = df1['Y'] - predictions"
   ]
  },
  {
   "cell_type": "code",
   "execution_count": 66,
   "metadata": {},
   "outputs": [
    {
     "data": {
      "text/plain": [
       "array([[2.13649607],\n",
       "       [0.49606954],\n",
       "       [0.69947976]])"
      ]
     },
     "execution_count": 66,
     "metadata": {},
     "output_type": "execute_result"
    }
   ],
   "source": [
    "koef_p = np.append(fit.intercept_,fit.coef_).reshape(-1,1)\n",
    "koef_p"
   ]
  },
  {
   "cell_type": "code",
   "execution_count": 67,
   "metadata": {},
   "outputs": [],
   "source": [
    "# X = sm.add_constant(df1[['X1','X2']])\n",
    "# est = sm.OLS(X, pd.DataFrame(df1['Y']))\n",
    "# est2 = est.fit()\n",
    "# print(est2.summary())"
   ]
  },
  {
   "cell_type": "markdown",
   "metadata": {},
   "source": [
    "# 4. Uji Asumsi Klasik\n",
    "Uji asumsi Klasik terdiri dari\n",
    "1. Normalitas Residual\n",
    "2. Homogenitas Ragam Residual\n",
    "3. Non-Autokorelasi\n",
    "4. Non-Multikolinieritas"
   ]
  },
  {
   "cell_type": "markdown",
   "metadata": {},
   "source": [
    "## 4.1 Normalitas Residual"
   ]
  },
  {
   "cell_type": "code",
   "execution_count": 68,
   "metadata": {},
   "outputs": [
    {
     "data": {
      "image/png": "[encoded data removed]",
      "text/plain": [
       "<Figure size 432x288 with 1 Axes>"
      ]
     },
     "metadata": {
      "needs_background": "light"
     },
     "output_type": "display_data"
    }
   ],
   "source": [
    "plt.hist(residual, color='blue')\n",
    "plt.show()"
   ]
  },
  {
   "cell_type": "code",
   "execution_count": 69,
   "metadata": {},
   "outputs": [
    {
     "data": {
      "text/plain": [
       "KstestResult(statistic=0.3317795502573426, pvalue=2.5966918556042513e-10)"
      ]
     },
     "execution_count": 69,
     "metadata": {},
     "output_type": "execute_result"
    }
   ],
   "source": [
    "\"\"\"\n",
    "Hipotesis bagi uji kolmogorov smirnov\n",
    "    H0 : Residual berdistribusi normal\n",
    "    H1 : Residual tidak berdistribusi normal\n",
    "Asumsi Normalitas Residual Terpenuhi Jika pvalue > 0.05. Dapat dilihat bahwa pvalue < 0.05 maka tolah H0 sehingga residual tidak\n",
    "normal.\n",
    "\"\"\"\n",
    "stats.kstest(residual, 'norm')"
   ]
  },
  {
   "cell_type": "markdown",
   "metadata": {},
   "source": [
    "## 4.2 Homogenitas Ragam Residual"
   ]
  },
  {
   "cell_type": "code",
   "execution_count": 70,
   "metadata": {},
   "outputs": [],
   "source": [
    "Residual2 = residual*residual\n",
    "\n",
    "LR = LinearRegression()\n",
    "fit_2 = LR.fit(df1[['X1','X2']],Residual2) "
   ]
  },
  {
   "cell_type": "code",
   "execution_count": 71,
   "metadata": {},
   "outputs": [
    {
     "name": "stdout",
     "output_type": "stream",
     "text": [
      "                            OLS Regression Results                            \n",
      "==============================================================================\n",
      "Dep. Variable:                      Y   R-squared:                       0.027\n",
      "Model:                            OLS   Adj. R-squared:                  0.007\n",
      "Method:                 Least Squares   F-statistic:                     1.330\n",
      "Date:                Sun, 24 Jan 2021   Prob (F-statistic):              0.269\n",
      "Time:                        20:05:44   Log-Likelihood:                -332.82\n",
      "No. Observations:                 100   AIC:                             671.6\n",
      "Df Residuals:                      97   BIC:                             679.5\n",
      "Df Model:                           2                                         \n",
      "Covariance Type:            nonrobust                                         \n",
      "==============================================================================\n",
      "                 coef    std err          t      P>|t|      [0.025      0.975]\n",
      "------------------------------------------------------------------------------\n",
      "const         -5.6664      6.393     -0.886      0.378     -18.355       7.022\n",
      "X1             0.2085      0.445      0.468      0.641      -0.675       1.092\n",
      "X2             0.3927      0.312      1.260      0.211      -0.226       1.011\n",
      "==============================================================================\n",
      "Omnibus:                      113.065   Durbin-Watson:                   1.985\n",
      "Prob(Omnibus):                  0.000   Jarque-Bera (JB):             1562.016\n",
      "Skew:                           3.902   Prob(JB):                         0.00\n",
      "Kurtosis:                      20.720   Cond. No.                         209.\n",
      "==============================================================================\n",
      "\n",
      "Warnings:\n",
      "[1] Standard Errors assume that the covariance matrix of the errors is correctly specified.\n"
     ]
    }
   ],
   "source": [
    "\"\"\"\n",
    "Homgenitas ragam residual bisa diuji menggunakan uji Bresuh Pagan dengan hipotesis\n",
    "    H0 : Homoskedastisitas \n",
    "    H1 : Heteroskedastisitas\n",
    "\n",
    "Uji bresuh pagan membentuk auxilary regression terhadap variabel dependen residual kuadrat. Jika koefisien regresi tidak\n",
    "signifikan, maka asumsi homoskedastisitas terpenuhi.\n",
    "\"\"\"\n",
    "X = sm.add_constant(df1[['X1','X2']])\n",
    "est = sm.OLS(Residual2, X)\n",
    "est2 = est.fit()\n",
    "print(est2.summary())"
   ]
  },
  {
   "cell_type": "markdown",
   "metadata": {},
   "source": [
    "## 4.3 Non Multikolinieritas"
   ]
  },
  {
   "cell_type": "code",
   "execution_count": 72,
   "metadata": {},
   "outputs": [],
   "source": [
    "# Import library for VIF\n",
    "from statsmodels.stats.outliers_influence import variance_inflation_factor\n",
    "\n",
    "def calc_vif(X):\n",
    "\n",
    "    # Calculating VIF\n",
    "    vif = pd.DataFrame()\n",
    "    vif[\"variables\"] = X.columns\n",
    "    vif[\"VIF\"] = [variance_inflation_factor(X.values, i) for i in range(X.shape[1])]\n",
    "\n",
    "    return(vif)"
   ]
  },
  {
   "cell_type": "code",
   "execution_count": 73,
   "metadata": {},
   "outputs": [
    {
     "data": {
      "text/html": [
       "<div>\n",
       "<style scoped>\n",
       "    .dataframe tbody tr th:only-of-type {\n",
       "        vertical-align: middle;\n",
       "    }\n",
       "\n",
       "    .dataframe tbody tr th {\n",
       "        vertical-align: top;\n",
       "    }\n",
       "\n",
       "    .dataframe thead th {\n",
       "        text-align: right;\n",
       "    }\n",
       "</style>\n",
       "<table border=\"1\" class=\"dataframe\">\n",
       "  <thead>\n",
       "    <tr style=\"text-align: right;\">\n",
       "      <th></th>\n",
       "      <th>variables</th>\n",
       "      <th>VIF</th>\n",
       "    </tr>\n",
       "  </thead>\n",
       "  <tbody>\n",
       "    <tr>\n",
       "      <th>0</th>\n",
       "      <td>const</td>\n",
       "      <td>87.060667</td>\n",
       "    </tr>\n",
       "    <tr>\n",
       "      <th>1</th>\n",
       "      <td>X1</td>\n",
       "      <td>1.175759</td>\n",
       "    </tr>\n",
       "    <tr>\n",
       "      <th>2</th>\n",
       "      <td>X2</td>\n",
       "      <td>1.175759</td>\n",
       "    </tr>\n",
       "  </tbody>\n",
       "</table>\n",
       "</div>"
      ],
      "text/plain": [
       "  variables        VIF\n",
       "0     const  87.060667\n",
       "1        X1   1.175759\n",
       "2        X2   1.175759"
      ]
     },
     "execution_count": 73,
     "metadata": {},
     "output_type": "execute_result"
    }
   ],
   "source": [
    "\"\"\"\n",
    "Karena nilai VIF < 10, maka dapat disimpulkan bahwa tidak terdapat multikolinieritas\n",
    "\"\"\"\n",
    "calc_vif(X)"
   ]
  },
  {
   "cell_type": "markdown",
   "metadata": {},
   "source": [
    "# Refference\n",
    "1. https://towardsdatascience.com/cronbachs-alpha-theory-and-application-in-python-d2915dd63586\n",
    "2. https://docs.scipy.org/doc/scipy//reference/generated/scipy.stats.kstest.html\n",
    "3. https://haldir24.wordpress.com/2009/07/21/uji-reliabilitas-manual-tiap-variabel/"
   ]
  },
  {
   "cell_type": "code",
   "execution_count": null,
   "metadata": {},
   "outputs": [],
   "source": []
  }
 ],
 "metadata": {
  "kernelspec": {
   "display_name": "Python 3",
   "language": "python",
   "name": "python3"
  },
  "language_info": {
   "codemirror_mode": {
    "name": "ipython",
    "version": 3
   },
   "file_extension": ".py",
   "mimetype": "text/x-python",
   "name": "python",
   "nbconvert_exporter": "python",
   "pygments_lexer": "ipython3",
   "version": "3.7.6"
  }
 },
 "nbformat": 4,
 "nbformat_minor": 4
}
