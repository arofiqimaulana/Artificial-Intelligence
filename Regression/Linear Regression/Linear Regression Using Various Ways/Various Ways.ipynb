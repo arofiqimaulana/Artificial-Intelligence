{
 "cells": [
  {
   "cell_type": "markdown",
   "metadata": {
    "colab_type": "text",
    "id": "wr8Yi1KT5ZQv"
   },
   "source": [
    "# Linear Regression Analysis\n",
    "Analisis Regresi merupakan analisis yang berfungsi untuk **mengetahui dan memodelkan** hubungan antara variabel independen dan variabel dependen. Berbeda dengan korelasi yang hanya mengetahui keeratan hubungan antar variabel, analisis regresi dapat mengetahui berapa besar pengaruh variabel independen ke variabel dependen. Jika X1, X2, X3 dan X4 adalah variabel independen dan variabel Y adalah variabel dependen, maka persamaan regresi dapat digambarakan sebagai berikut\n",
    "\n",
    "$$Y=a_{0} + a_{1}X_{1} + a_{2}X_{2} + a_{3}X_{3} + a_{4}X_{4}$$\n",
    "\n",
    "\n",
    "Tujuan utama analisis regresi adalah mendapatkan a0,a1,a2,a3, dan a4 yang terbaik. Definisi terbaik disini adalah nilai error paling kecil diantara nilai lainnya. Pencarian nilai a0, a1 , a2, a3, dan a4 ini sering disebut dengan **\"pendugaan parameter\"**. Beberapa metode pendugaan parameter yang bisa digunakan adalah metode moment, Ordinary Least Square (OLS), Maximum Likelihood, dan Metode Numerik.\n",
    "\n",
    "Berdasarkan **teorema Gauss Markov**, jika asumsi klasik regresi terpenuhi (normalitas, non-multikolinieritas, non-autokorelasi, homoskedastisitas), maka metode OLS adalah penduga terbaik dari semua metode. Tapi harus diingat bahwa Y harus bertipe numerik (bukan kategori, jika Y bertipe kategori maka analisis yang cocok adalah regresi logistik)\n",
    "\n",
    "Dalam project ini, kita akan melakukan analisis regresi dengan cara yang berbeda yaitu\n",
    "1. OLS ~ Pendekatan Matriks\n",
    "2. OLS ~ Pendekatan Non-Matriks\n",
    "3. OLS ~ Package python\n",
    "4. Metode Numerik\n",
    "\n"
   ]
  },
  {
   "cell_type": "code",
   "execution_count": 1,
   "metadata": {
    "colab": {},
    "colab_type": "code",
    "id": "yn5IMLTzPoAQ"
   },
   "outputs": [],
   "source": [
    "import torch\n",
    "import matplotlib.pyplot as plt\n",
    "import numpy as np\n",
    "import torch.nn as nn\n",
    "import pandas as pd\n",
    "import zipfile"
   ]
  },
  {
   "cell_type": "markdown",
   "metadata": {
    "colab_type": "text",
    "id": "73HV_xQpTgCP"
   },
   "source": [
    "# DATA PREPARATION"
   ]
  },
  {
   "cell_type": "code",
   "execution_count": 2,
   "metadata": {
    "colab": {
     "base_uri": "https://localhost:8080/",
     "height": 253
    },
    "colab_type": "code",
    "id": "7t0Ya3ZGTlPL",
    "outputId": "f633b053-92da-4124-bacb-587f3fa190cf"
   },
   "outputs": [
    {
     "data": {
      "text/html": [
       "<div>\n",
       "<style scoped>\n",
       "    .dataframe tbody tr th:only-of-type {\n",
       "        vertical-align: middle;\n",
       "    }\n",
       "\n",
       "    .dataframe tbody tr th {\n",
       "        vertical-align: top;\n",
       "    }\n",
       "\n",
       "    .dataframe thead th {\n",
       "        text-align: right;\n",
       "    }\n",
       "</style>\n",
       "<table border=\"1\" class=\"dataframe\">\n",
       "  <thead>\n",
       "    <tr style=\"text-align: right;\">\n",
       "      <th></th>\n",
       "      <th>Id</th>\n",
       "      <th>MSSubClass</th>\n",
       "      <th>MSZoning</th>\n",
       "      <th>LotFrontage</th>\n",
       "      <th>LotArea</th>\n",
       "      <th>Street</th>\n",
       "      <th>Alley</th>\n",
       "      <th>LotShape</th>\n",
       "      <th>LandContour</th>\n",
       "      <th>Utilities</th>\n",
       "      <th>LotConfig</th>\n",
       "      <th>LandSlope</th>\n",
       "      <th>Neighborhood</th>\n",
       "      <th>Condition1</th>\n",
       "      <th>Condition2</th>\n",
       "      <th>BldgType</th>\n",
       "      <th>HouseStyle</th>\n",
       "      <th>OverallQual</th>\n",
       "      <th>OverallCond</th>\n",
       "      <th>YearBuilt</th>\n",
       "      <th>YearRemodAdd</th>\n",
       "      <th>RoofStyle</th>\n",
       "      <th>RoofMatl</th>\n",
       "      <th>Exterior1st</th>\n",
       "      <th>Exterior2nd</th>\n",
       "      <th>MasVnrType</th>\n",
       "      <th>MasVnrArea</th>\n",
       "      <th>ExterQual</th>\n",
       "      <th>ExterCond</th>\n",
       "      <th>Foundation</th>\n",
       "      <th>BsmtQual</th>\n",
       "      <th>BsmtCond</th>\n",
       "      <th>BsmtExposure</th>\n",
       "      <th>BsmtFinType1</th>\n",
       "      <th>BsmtFinSF1</th>\n",
       "      <th>BsmtFinType2</th>\n",
       "      <th>BsmtFinSF2</th>\n",
       "      <th>BsmtUnfSF</th>\n",
       "      <th>TotalBsmtSF</th>\n",
       "      <th>Heating</th>\n",
       "      <th>...</th>\n",
       "      <th>CentralAir</th>\n",
       "      <th>Electrical</th>\n",
       "      <th>1stFlrSF</th>\n",
       "      <th>2ndFlrSF</th>\n",
       "      <th>LowQualFinSF</th>\n",
       "      <th>GrLivArea</th>\n",
       "      <th>BsmtFullBath</th>\n",
       "      <th>BsmtHalfBath</th>\n",
       "      <th>FullBath</th>\n",
       "      <th>HalfBath</th>\n",
       "      <th>BedroomAbvGr</th>\n",
       "      <th>KitchenAbvGr</th>\n",
       "      <th>KitchenQual</th>\n",
       "      <th>TotRmsAbvGrd</th>\n",
       "      <th>Functional</th>\n",
       "      <th>Fireplaces</th>\n",
       "      <th>FireplaceQu</th>\n",
       "      <th>GarageType</th>\n",
       "      <th>GarageYrBlt</th>\n",
       "      <th>GarageFinish</th>\n",
       "      <th>GarageCars</th>\n",
       "      <th>GarageArea</th>\n",
       "      <th>GarageQual</th>\n",
       "      <th>GarageCond</th>\n",
       "      <th>PavedDrive</th>\n",
       "      <th>WoodDeckSF</th>\n",
       "      <th>OpenPorchSF</th>\n",
       "      <th>EnclosedPorch</th>\n",
       "      <th>3SsnPorch</th>\n",
       "      <th>ScreenPorch</th>\n",
       "      <th>PoolArea</th>\n",
       "      <th>PoolQC</th>\n",
       "      <th>Fence</th>\n",
       "      <th>MiscFeature</th>\n",
       "      <th>MiscVal</th>\n",
       "      <th>MoSold</th>\n",
       "      <th>YrSold</th>\n",
       "      <th>SaleType</th>\n",
       "      <th>SaleCondition</th>\n",
       "      <th>SalePrice</th>\n",
       "    </tr>\n",
       "  </thead>\n",
       "  <tbody>\n",
       "    <tr>\n",
       "      <th>0</th>\n",
       "      <td>1</td>\n",
       "      <td>60</td>\n",
       "      <td>RL</td>\n",
       "      <td>65.0</td>\n",
       "      <td>8450</td>\n",
       "      <td>Pave</td>\n",
       "      <td>NaN</td>\n",
       "      <td>Reg</td>\n",
       "      <td>Lvl</td>\n",
       "      <td>AllPub</td>\n",
       "      <td>Inside</td>\n",
       "      <td>Gtl</td>\n",
       "      <td>CollgCr</td>\n",
       "      <td>Norm</td>\n",
       "      <td>Norm</td>\n",
       "      <td>1Fam</td>\n",
       "      <td>2Story</td>\n",
       "      <td>7</td>\n",
       "      <td>5</td>\n",
       "      <td>2003</td>\n",
       "      <td>2003</td>\n",
       "      <td>Gable</td>\n",
       "      <td>CompShg</td>\n",
       "      <td>VinylSd</td>\n",
       "      <td>VinylSd</td>\n",
       "      <td>BrkFace</td>\n",
       "      <td>196.0</td>\n",
       "      <td>Gd</td>\n",
       "      <td>TA</td>\n",
       "      <td>PConc</td>\n",
       "      <td>Gd</td>\n",
       "      <td>TA</td>\n",
       "      <td>No</td>\n",
       "      <td>GLQ</td>\n",
       "      <td>706</td>\n",
       "      <td>Unf</td>\n",
       "      <td>0</td>\n",
       "      <td>150</td>\n",
       "      <td>856</td>\n",
       "      <td>GasA</td>\n",
       "      <td>...</td>\n",
       "      <td>Y</td>\n",
       "      <td>SBrkr</td>\n",
       "      <td>856</td>\n",
       "      <td>854</td>\n",
       "      <td>0</td>\n",
       "      <td>1710</td>\n",
       "      <td>1</td>\n",
       "      <td>0</td>\n",
       "      <td>2</td>\n",
       "      <td>1</td>\n",
       "      <td>3</td>\n",
       "      <td>1</td>\n",
       "      <td>Gd</td>\n",
       "      <td>8</td>\n",
       "      <td>Typ</td>\n",
       "      <td>0</td>\n",
       "      <td>NaN</td>\n",
       "      <td>Attchd</td>\n",
       "      <td>2003.0</td>\n",
       "      <td>RFn</td>\n",
       "      <td>2</td>\n",
       "      <td>548</td>\n",
       "      <td>TA</td>\n",
       "      <td>TA</td>\n",
       "      <td>Y</td>\n",
       "      <td>0</td>\n",
       "      <td>61</td>\n",
       "      <td>0</td>\n",
       "      <td>0</td>\n",
       "      <td>0</td>\n",
       "      <td>0</td>\n",
       "      <td>NaN</td>\n",
       "      <td>NaN</td>\n",
       "      <td>NaN</td>\n",
       "      <td>0</td>\n",
       "      <td>2</td>\n",
       "      <td>2008</td>\n",
       "      <td>WD</td>\n",
       "      <td>Normal</td>\n",
       "      <td>208500</td>\n",
       "    </tr>\n",
       "    <tr>\n",
       "      <th>1</th>\n",
       "      <td>2</td>\n",
       "      <td>20</td>\n",
       "      <td>RL</td>\n",
       "      <td>80.0</td>\n",
       "      <td>9600</td>\n",
       "      <td>Pave</td>\n",
       "      <td>NaN</td>\n",
       "      <td>Reg</td>\n",
       "      <td>Lvl</td>\n",
       "      <td>AllPub</td>\n",
       "      <td>FR2</td>\n",
       "      <td>Gtl</td>\n",
       "      <td>Veenker</td>\n",
       "      <td>Feedr</td>\n",
       "      <td>Norm</td>\n",
       "      <td>1Fam</td>\n",
       "      <td>1Story</td>\n",
       "      <td>6</td>\n",
       "      <td>8</td>\n",
       "      <td>1976</td>\n",
       "      <td>1976</td>\n",
       "      <td>Gable</td>\n",
       "      <td>CompShg</td>\n",
       "      <td>MetalSd</td>\n",
       "      <td>MetalSd</td>\n",
       "      <td>None</td>\n",
       "      <td>0.0</td>\n",
       "      <td>TA</td>\n",
       "      <td>TA</td>\n",
       "      <td>CBlock</td>\n",
       "      <td>Gd</td>\n",
       "      <td>TA</td>\n",
       "      <td>Gd</td>\n",
       "      <td>ALQ</td>\n",
       "      <td>978</td>\n",
       "      <td>Unf</td>\n",
       "      <td>0</td>\n",
       "      <td>284</td>\n",
       "      <td>1262</td>\n",
       "      <td>GasA</td>\n",
       "      <td>...</td>\n",
       "      <td>Y</td>\n",
       "      <td>SBrkr</td>\n",
       "      <td>1262</td>\n",
       "      <td>0</td>\n",
       "      <td>0</td>\n",
       "      <td>1262</td>\n",
       "      <td>0</td>\n",
       "      <td>1</td>\n",
       "      <td>2</td>\n",
       "      <td>0</td>\n",
       "      <td>3</td>\n",
       "      <td>1</td>\n",
       "      <td>TA</td>\n",
       "      <td>6</td>\n",
       "      <td>Typ</td>\n",
       "      <td>1</td>\n",
       "      <td>TA</td>\n",
       "      <td>Attchd</td>\n",
       "      <td>1976.0</td>\n",
       "      <td>RFn</td>\n",
       "      <td>2</td>\n",
       "      <td>460</td>\n",
       "      <td>TA</td>\n",
       "      <td>TA</td>\n",
       "      <td>Y</td>\n",
       "      <td>298</td>\n",
       "      <td>0</td>\n",
       "      <td>0</td>\n",
       "      <td>0</td>\n",
       "      <td>0</td>\n",
       "      <td>0</td>\n",
       "      <td>NaN</td>\n",
       "      <td>NaN</td>\n",
       "      <td>NaN</td>\n",
       "      <td>0</td>\n",
       "      <td>5</td>\n",
       "      <td>2007</td>\n",
       "      <td>WD</td>\n",
       "      <td>Normal</td>\n",
       "      <td>181500</td>\n",
       "    </tr>\n",
       "    <tr>\n",
       "      <th>2</th>\n",
       "      <td>3</td>\n",
       "      <td>60</td>\n",
       "      <td>RL</td>\n",
       "      <td>68.0</td>\n",
       "      <td>11250</td>\n",
       "      <td>Pave</td>\n",
       "      <td>NaN</td>\n",
       "      <td>IR1</td>\n",
       "      <td>Lvl</td>\n",
       "      <td>AllPub</td>\n",
       "      <td>Inside</td>\n",
       "      <td>Gtl</td>\n",
       "      <td>CollgCr</td>\n",
       "      <td>Norm</td>\n",
       "      <td>Norm</td>\n",
       "      <td>1Fam</td>\n",
       "      <td>2Story</td>\n",
       "      <td>7</td>\n",
       "      <td>5</td>\n",
       "      <td>2001</td>\n",
       "      <td>2002</td>\n",
       "      <td>Gable</td>\n",
       "      <td>CompShg</td>\n",
       "      <td>VinylSd</td>\n",
       "      <td>VinylSd</td>\n",
       "      <td>BrkFace</td>\n",
       "      <td>162.0</td>\n",
       "      <td>Gd</td>\n",
       "      <td>TA</td>\n",
       "      <td>PConc</td>\n",
       "      <td>Gd</td>\n",
       "      <td>TA</td>\n",
       "      <td>Mn</td>\n",
       "      <td>GLQ</td>\n",
       "      <td>486</td>\n",
       "      <td>Unf</td>\n",
       "      <td>0</td>\n",
       "      <td>434</td>\n",
       "      <td>920</td>\n",
       "      <td>GasA</td>\n",
       "      <td>...</td>\n",
       "      <td>Y</td>\n",
       "      <td>SBrkr</td>\n",
       "      <td>920</td>\n",
       "      <td>866</td>\n",
       "      <td>0</td>\n",
       "      <td>1786</td>\n",
       "      <td>1</td>\n",
       "      <td>0</td>\n",
       "      <td>2</td>\n",
       "      <td>1</td>\n",
       "      <td>3</td>\n",
       "      <td>1</td>\n",
       "      <td>Gd</td>\n",
       "      <td>6</td>\n",
       "      <td>Typ</td>\n",
       "      <td>1</td>\n",
       "      <td>TA</td>\n",
       "      <td>Attchd</td>\n",
       "      <td>2001.0</td>\n",
       "      <td>RFn</td>\n",
       "      <td>2</td>\n",
       "      <td>608</td>\n",
       "      <td>TA</td>\n",
       "      <td>TA</td>\n",
       "      <td>Y</td>\n",
       "      <td>0</td>\n",
       "      <td>42</td>\n",
       "      <td>0</td>\n",
       "      <td>0</td>\n",
       "      <td>0</td>\n",
       "      <td>0</td>\n",
       "      <td>NaN</td>\n",
       "      <td>NaN</td>\n",
       "      <td>NaN</td>\n",
       "      <td>0</td>\n",
       "      <td>9</td>\n",
       "      <td>2008</td>\n",
       "      <td>WD</td>\n",
       "      <td>Normal</td>\n",
       "      <td>223500</td>\n",
       "    </tr>\n",
       "    <tr>\n",
       "      <th>3</th>\n",
       "      <td>4</td>\n",
       "      <td>70</td>\n",
       "      <td>RL</td>\n",
       "      <td>60.0</td>\n",
       "      <td>9550</td>\n",
       "      <td>Pave</td>\n",
       "      <td>NaN</td>\n",
       "      <td>IR1</td>\n",
       "      <td>Lvl</td>\n",
       "      <td>AllPub</td>\n",
       "      <td>Corner</td>\n",
       "      <td>Gtl</td>\n",
       "      <td>Crawfor</td>\n",
       "      <td>Norm</td>\n",
       "      <td>Norm</td>\n",
       "      <td>1Fam</td>\n",
       "      <td>2Story</td>\n",
       "      <td>7</td>\n",
       "      <td>5</td>\n",
       "      <td>1915</td>\n",
       "      <td>1970</td>\n",
       "      <td>Gable</td>\n",
       "      <td>CompShg</td>\n",
       "      <td>Wd Sdng</td>\n",
       "      <td>Wd Shng</td>\n",
       "      <td>None</td>\n",
       "      <td>0.0</td>\n",
       "      <td>TA</td>\n",
       "      <td>TA</td>\n",
       "      <td>BrkTil</td>\n",
       "      <td>TA</td>\n",
       "      <td>Gd</td>\n",
       "      <td>No</td>\n",
       "      <td>ALQ</td>\n",
       "      <td>216</td>\n",
       "      <td>Unf</td>\n",
       "      <td>0</td>\n",
       "      <td>540</td>\n",
       "      <td>756</td>\n",
       "      <td>GasA</td>\n",
       "      <td>...</td>\n",
       "      <td>Y</td>\n",
       "      <td>SBrkr</td>\n",
       "      <td>961</td>\n",
       "      <td>756</td>\n",
       "      <td>0</td>\n",
       "      <td>1717</td>\n",
       "      <td>1</td>\n",
       "      <td>0</td>\n",
       "      <td>1</td>\n",
       "      <td>0</td>\n",
       "      <td>3</td>\n",
       "      <td>1</td>\n",
       "      <td>Gd</td>\n",
       "      <td>7</td>\n",
       "      <td>Typ</td>\n",
       "      <td>1</td>\n",
       "      <td>Gd</td>\n",
       "      <td>Detchd</td>\n",
       "      <td>1998.0</td>\n",
       "      <td>Unf</td>\n",
       "      <td>3</td>\n",
       "      <td>642</td>\n",
       "      <td>TA</td>\n",
       "      <td>TA</td>\n",
       "      <td>Y</td>\n",
       "      <td>0</td>\n",
       "      <td>35</td>\n",
       "      <td>272</td>\n",
       "      <td>0</td>\n",
       "      <td>0</td>\n",
       "      <td>0</td>\n",
       "      <td>NaN</td>\n",
       "      <td>NaN</td>\n",
       "      <td>NaN</td>\n",
       "      <td>0</td>\n",
       "      <td>2</td>\n",
       "      <td>2006</td>\n",
       "      <td>WD</td>\n",
       "      <td>Abnorml</td>\n",
       "      <td>140000</td>\n",
       "    </tr>\n",
       "    <tr>\n",
       "      <th>4</th>\n",
       "      <td>5</td>\n",
       "      <td>60</td>\n",
       "      <td>RL</td>\n",
       "      <td>84.0</td>\n",
       "      <td>14260</td>\n",
       "      <td>Pave</td>\n",
       "      <td>NaN</td>\n",
       "      <td>IR1</td>\n",
       "      <td>Lvl</td>\n",
       "      <td>AllPub</td>\n",
       "      <td>FR2</td>\n",
       "      <td>Gtl</td>\n",
       "      <td>NoRidge</td>\n",
       "      <td>Norm</td>\n",
       "      <td>Norm</td>\n",
       "      <td>1Fam</td>\n",
       "      <td>2Story</td>\n",
       "      <td>8</td>\n",
       "      <td>5</td>\n",
       "      <td>2000</td>\n",
       "      <td>2000</td>\n",
       "      <td>Gable</td>\n",
       "      <td>CompShg</td>\n",
       "      <td>VinylSd</td>\n",
       "      <td>VinylSd</td>\n",
       "      <td>BrkFace</td>\n",
       "      <td>350.0</td>\n",
       "      <td>Gd</td>\n",
       "      <td>TA</td>\n",
       "      <td>PConc</td>\n",
       "      <td>Gd</td>\n",
       "      <td>TA</td>\n",
       "      <td>Av</td>\n",
       "      <td>GLQ</td>\n",
       "      <td>655</td>\n",
       "      <td>Unf</td>\n",
       "      <td>0</td>\n",
       "      <td>490</td>\n",
       "      <td>1145</td>\n",
       "      <td>GasA</td>\n",
       "      <td>...</td>\n",
       "      <td>Y</td>\n",
       "      <td>SBrkr</td>\n",
       "      <td>1145</td>\n",
       "      <td>1053</td>\n",
       "      <td>0</td>\n",
       "      <td>2198</td>\n",
       "      <td>1</td>\n",
       "      <td>0</td>\n",
       "      <td>2</td>\n",
       "      <td>1</td>\n",
       "      <td>4</td>\n",
       "      <td>1</td>\n",
       "      <td>Gd</td>\n",
       "      <td>9</td>\n",
       "      <td>Typ</td>\n",
       "      <td>1</td>\n",
       "      <td>TA</td>\n",
       "      <td>Attchd</td>\n",
       "      <td>2000.0</td>\n",
       "      <td>RFn</td>\n",
       "      <td>3</td>\n",
       "      <td>836</td>\n",
       "      <td>TA</td>\n",
       "      <td>TA</td>\n",
       "      <td>Y</td>\n",
       "      <td>192</td>\n",
       "      <td>84</td>\n",
       "      <td>0</td>\n",
       "      <td>0</td>\n",
       "      <td>0</td>\n",
       "      <td>0</td>\n",
       "      <td>NaN</td>\n",
       "      <td>NaN</td>\n",
       "      <td>NaN</td>\n",
       "      <td>0</td>\n",
       "      <td>12</td>\n",
       "      <td>2008</td>\n",
       "      <td>WD</td>\n",
       "      <td>Normal</td>\n",
       "      <td>250000</td>\n",
       "    </tr>\n",
       "  </tbody>\n",
       "</table>\n",
       "<p>5 rows × 81 columns</p>\n",
       "</div>"
      ],
      "text/plain": [
       "   Id  MSSubClass MSZoning  ...  SaleType  SaleCondition SalePrice\n",
       "0   1          60       RL  ...        WD         Normal    208500\n",
       "1   2          20       RL  ...        WD         Normal    181500\n",
       "2   3          60       RL  ...        WD         Normal    223500\n",
       "3   4          70       RL  ...        WD        Abnorml    140000\n",
       "4   5          60       RL  ...        WD         Normal    250000\n",
       "\n",
       "[5 rows x 81 columns]"
      ]
     },
     "execution_count": 2,
     "metadata": {
      "tags": []
     },
     "output_type": "execute_result"
    }
   ],
   "source": [
    "df = pd.read_csv('train.csv')\n",
    "df.head()"
   ]
  },
  {
   "cell_type": "code",
   "execution_count": 3,
   "metadata": {
    "colab": {},
    "colab_type": "code",
    "id": "ggPWBAlnUUkA"
   },
   "outputs": [],
   "source": [
    "# Kita akan ambil beberapa variabel saja\n",
    "dfFilter = df[['LotArea','YearBuilt','GrLivArea','1stFlrSF','2ndFlrSF','SalePrice']]"
   ]
  },
  {
   "cell_type": "code",
   "execution_count": 4,
   "metadata": {
    "colab": {
     "base_uri": "https://localhost:8080/",
     "height": 419
    },
    "colab_type": "code",
    "id": "yICtq51dHt-z",
    "outputId": "1bc45a1c-4ebf-4464-f5c9-0e07f9497a49"
   },
   "outputs": [
    {
     "data": {
      "text/html": [
       "<div>\n",
       "<style scoped>\n",
       "    .dataframe tbody tr th:only-of-type {\n",
       "        vertical-align: middle;\n",
       "    }\n",
       "\n",
       "    .dataframe tbody tr th {\n",
       "        vertical-align: top;\n",
       "    }\n",
       "\n",
       "    .dataframe thead th {\n",
       "        text-align: right;\n",
       "    }\n",
       "</style>\n",
       "<table border=\"1\" class=\"dataframe\">\n",
       "  <thead>\n",
       "    <tr style=\"text-align: right;\">\n",
       "      <th></th>\n",
       "      <th>LotArea</th>\n",
       "      <th>YearBuilt</th>\n",
       "      <th>GrLivArea</th>\n",
       "      <th>1stFlrSF</th>\n",
       "      <th>2ndFlrSF</th>\n",
       "      <th>SalePrice</th>\n",
       "    </tr>\n",
       "  </thead>\n",
       "  <tbody>\n",
       "    <tr>\n",
       "      <th>0</th>\n",
       "      <td>8450</td>\n",
       "      <td>2003</td>\n",
       "      <td>1710</td>\n",
       "      <td>856</td>\n",
       "      <td>854</td>\n",
       "      <td>208500</td>\n",
       "    </tr>\n",
       "    <tr>\n",
       "      <th>1</th>\n",
       "      <td>9600</td>\n",
       "      <td>1976</td>\n",
       "      <td>1262</td>\n",
       "      <td>1262</td>\n",
       "      <td>0</td>\n",
       "      <td>181500</td>\n",
       "    </tr>\n",
       "    <tr>\n",
       "      <th>2</th>\n",
       "      <td>11250</td>\n",
       "      <td>2001</td>\n",
       "      <td>1786</td>\n",
       "      <td>920</td>\n",
       "      <td>866</td>\n",
       "      <td>223500</td>\n",
       "    </tr>\n",
       "    <tr>\n",
       "      <th>3</th>\n",
       "      <td>9550</td>\n",
       "      <td>1915</td>\n",
       "      <td>1717</td>\n",
       "      <td>961</td>\n",
       "      <td>756</td>\n",
       "      <td>140000</td>\n",
       "    </tr>\n",
       "    <tr>\n",
       "      <th>4</th>\n",
       "      <td>14260</td>\n",
       "      <td>2000</td>\n",
       "      <td>2198</td>\n",
       "      <td>1145</td>\n",
       "      <td>1053</td>\n",
       "      <td>250000</td>\n",
       "    </tr>\n",
       "    <tr>\n",
       "      <th>...</th>\n",
       "      <td>...</td>\n",
       "      <td>...</td>\n",
       "      <td>...</td>\n",
       "      <td>...</td>\n",
       "      <td>...</td>\n",
       "      <td>...</td>\n",
       "    </tr>\n",
       "    <tr>\n",
       "      <th>1455</th>\n",
       "      <td>7917</td>\n",
       "      <td>1999</td>\n",
       "      <td>1647</td>\n",
       "      <td>953</td>\n",
       "      <td>694</td>\n",
       "      <td>175000</td>\n",
       "    </tr>\n",
       "    <tr>\n",
       "      <th>1456</th>\n",
       "      <td>13175</td>\n",
       "      <td>1978</td>\n",
       "      <td>2073</td>\n",
       "      <td>2073</td>\n",
       "      <td>0</td>\n",
       "      <td>210000</td>\n",
       "    </tr>\n",
       "    <tr>\n",
       "      <th>1457</th>\n",
       "      <td>9042</td>\n",
       "      <td>1941</td>\n",
       "      <td>2340</td>\n",
       "      <td>1188</td>\n",
       "      <td>1152</td>\n",
       "      <td>266500</td>\n",
       "    </tr>\n",
       "    <tr>\n",
       "      <th>1458</th>\n",
       "      <td>9717</td>\n",
       "      <td>1950</td>\n",
       "      <td>1078</td>\n",
       "      <td>1078</td>\n",
       "      <td>0</td>\n",
       "      <td>142125</td>\n",
       "    </tr>\n",
       "    <tr>\n",
       "      <th>1459</th>\n",
       "      <td>9937</td>\n",
       "      <td>1965</td>\n",
       "      <td>1256</td>\n",
       "      <td>1256</td>\n",
       "      <td>0</td>\n",
       "      <td>147500</td>\n",
       "    </tr>\n",
       "  </tbody>\n",
       "</table>\n",
       "<p>1460 rows × 6 columns</p>\n",
       "</div>"
      ],
      "text/plain": [
       "      LotArea  YearBuilt  GrLivArea  1stFlrSF  2ndFlrSF  SalePrice\n",
       "0        8450       2003       1710       856       854     208500\n",
       "1        9600       1976       1262      1262         0     181500\n",
       "2       11250       2001       1786       920       866     223500\n",
       "3        9550       1915       1717       961       756     140000\n",
       "4       14260       2000       2198      1145      1053     250000\n",
       "...       ...        ...        ...       ...       ...        ...\n",
       "1455     7917       1999       1647       953       694     175000\n",
       "1456    13175       1978       2073      2073         0     210000\n",
       "1457     9042       1941       2340      1188      1152     266500\n",
       "1458     9717       1950       1078      1078         0     142125\n",
       "1459     9937       1965       1256      1256         0     147500\n",
       "\n",
       "[1460 rows x 6 columns]"
      ]
     },
     "execution_count": 4,
     "metadata": {
      "tags": []
     },
     "output_type": "execute_result"
    }
   ],
   "source": [
    "dfFilter"
   ]
  },
  {
   "cell_type": "markdown",
   "metadata": {
    "colab_type": "text",
    "id": "E5wdlsrjS4VJ"
   },
   "source": [
    "## CARA 1 (Pendekatan Matriks)\n",
    "Pendugaan parameter menggunakan OLS dengan pendekatan matriks yaitu\n",
    "$$beta=(X^TX)^{-1}X^TY  $$\n",
    "jika kita menggunakan slope, maka kita perlu menambahkan kolom baru yang isinya 1 semua"
   ]
  },
  {
   "cell_type": "code",
   "execution_count": 5,
   "metadata": {
    "colab": {},
    "colab_type": "code",
    "id": "zeSfEbN_HxFj"
   },
   "outputs": [],
   "source": [
    "X = np.array(df[['LotArea','YearBuilt','GrLivArea','1stFlrSF','2ndFlrSF']])\n",
    "Y = np.array(df['SalePrice']).reshape(len(df.SalePrice),1)"
   ]
  },
  {
   "cell_type": "code",
   "execution_count": 6,
   "metadata": {
    "colab": {
     "base_uri": "https://localhost:8080/",
     "height": 51
    },
    "colab_type": "code",
    "id": "e86MAN0hCdh1",
    "outputId": "731928a7-4b55-4d83-fd04-b45f675d675a"
   },
   "outputs": [
    {
     "name": "stdout",
     "output_type": "stream",
     "text": [
      "(1460, 6)\n",
      "(1460, 1)\n"
     ]
    }
   ],
   "source": [
    "ones = np.ones(len(X)).reshape(len(X),1)\n",
    "XX = np.append(ones,X,axis=1)\n",
    "print(np.shape(XX))\n",
    "print(np.shape(Y))"
   ]
  },
  {
   "cell_type": "code",
   "execution_count": 7,
   "metadata": {
    "colab": {
     "base_uri": "https://localhost:8080/",
     "height": 119
    },
    "colab_type": "code",
    "id": "5mk5c3_8Rxyh",
    "outputId": "9164e6b1-f9d9-469a-cbb6-c031749bcee7"
   },
   "outputs": [
    {
     "data": {
      "text/plain": [
       "array([[-1.85691561e+06],\n",
       "       [ 5.23470322e-01],\n",
       "       [ 9.47963982e+02],\n",
       "       [ 3.49971005e+01],\n",
       "       [ 8.24026664e+01],\n",
       "       [ 4.26530830e+01]])"
      ]
     },
     "execution_count": 7,
     "metadata": {
      "tags": []
     },
     "output_type": "execute_result"
    }
   ],
   "source": [
    "# koef  = (Xt*X)-1*Xt*Y\n",
    "koef_m = np.matmul(np.linalg.inv(np.matmul(XX.T,XX)),(np.matmul(XX.T,Y)))\n",
    "koef_m"
   ]
  },
  {
   "cell_type": "markdown",
   "metadata": {
    "colab_type": "text",
    "id": "1RzFJrbmGkoN"
   },
   "source": [
    "## CARA 2 (OLS pendekatan Non-Matriks)\n",
    "Analisis regresi dengan pendekatan non-matriks dapat dilakukan dengan cara berikut ini jika variabel X yang digunakan adalah satu variabel, maka\n",
    "$$\\beta_{1}=(\\sum XY - \\sum X \\sum Y/n)/(\\sum X^2 - n.\\bar{X}^2)$$\n",
    "$$\\beta_{0}=(\\bar{Y} -\\beta_{1}\\bar{X})$$"
   ]
  },
  {
   "cell_type": "code",
   "execution_count": 9,
   "metadata": {
    "colab": {},
    "colab_type": "code",
    "id": "2fk06Wk-doB6"
   },
   "outputs": [],
   "source": [
    "X1 = X[:,0].reshape(1,-1)"
   ]
  },
  {
   "cell_type": "code",
   "execution_count": 13,
   "metadata": {
    "colab": {
     "base_uri": "https://localhost:8080/",
     "height": 34
    },
    "colab_type": "code",
    "id": "GelNVXxUxevd",
    "outputId": "289656b9-813c-41ec-950f-17a17adbe9d7"
   },
   "outputs": [
    {
     "name": "stdout",
     "output_type": "stream",
     "text": [
      "[[184974.72588053]] [[-0.38543275]]\n"
     ]
    }
   ],
   "source": [
    "beta1 = (np.matmul(X1,Y) - sum(X1[0])*sum(Y[0])/len(X1))/(sum(X1[0]**2)-len(X1)*(np.mean(X1))**2)\n",
    "beta0 = np.mean(Y) - beta1*np.mean(X1)\n",
    "print(beta0,beta1)"
   ]
  },
  {
   "cell_type": "markdown",
   "metadata": {
    "colab_type": "text",
    "id": "ENkz1gx9S92d"
   },
   "source": [
    "## CARA 3 (Menggunakan Package)"
   ]
  },
  {
   "cell_type": "code",
   "execution_count": 14,
   "metadata": {
    "colab": {},
    "colab_type": "code",
    "id": "SbLjgaqgS9Rt"
   },
   "outputs": [],
   "source": [
    "from sklearn.linear_model import LinearRegression\n",
    "import numpy as np\n",
    "model = LinearRegression()\n",
    "fit = model.fit(X,Y)"
   ]
  },
  {
   "cell_type": "code",
   "execution_count": 15,
   "metadata": {
    "colab": {
     "base_uri": "https://localhost:8080/",
     "height": 119
    },
    "colab_type": "code",
    "id": "afY43nAkSh6F",
    "outputId": "02a5dc84-725d-415c-d727-c58c3faea9f1"
   },
   "outputs": [
    {
     "data": {
      "text/plain": [
       "array([[-1.85691561e+06],\n",
       "       [ 5.23470322e-01],\n",
       "       [ 9.47963982e+02],\n",
       "       [ 3.49971005e+01],\n",
       "       [ 8.24026664e+01],\n",
       "       [ 4.26530830e+01]])"
      ]
     },
     "execution_count": 15,
     "metadata": {
      "tags": []
     },
     "output_type": "execute_result"
    }
   ],
   "source": [
    "koef_p = np.append(fit.intercept_,fit.coef_).reshape(6,1)\n",
    "koef_p"
   ]
  },
  {
   "cell_type": "markdown",
   "metadata": {
    "colab_type": "text",
    "id": "QuWvRqFvFw_j"
   },
   "source": [
    "## CARA 4 (Menggunakan Metode Numerik)\n",
    "Metode ini tergolong cukup rumit karena mengandalkan metode numerik seperti Newton Raphson, Gradient Descent untuk mendapatkan nilai a0,a1,a2,a3, dan a4. Metode ini berusaha untuk mengoptimasi nilai parameter agar menghasilkan error (loss terkecil). Nilai parameter yang terbaik ketika iterasi yang dilakukan menghasilkan konvergensi.\n",
    "\n",
    "Fungsi loss (MSE) yang digunakan adalah\n",
    "$$L=\\frac{1}{n} \\sum(y-\\hat{y})^2$$\n",
    "$$L=\\frac{1}{n} \\sum(y-(a_{0} + a_{1}X_{1} + a_{2}X_{2} + a_{3}X_{3} + a_{4}X_{4} ))^2$$\n",
    "\n",
    "Jika variabel X yang digunakan hanya 1, maka perhitungan global optimum dapat dihitung dengan cukup mudah. Namun jika variabel X lebih dari 1, maka pencarian global optimum akan melibatkan Matrik Hessian. "
   ]
  },
  {
   "cell_type": "markdown",
   "metadata": {
    "colab_type": "text",
    "id": "afxwlDNWSGWW"
   },
   "source": [
    "$$ dL/da_{0} = \\frac{-2}{n} \\sum(y-(a_{0} + a_{1}X_{1} + a_{2}X_{2} + a_{3}X_{3} + a_{4}X_{4} ))$$,\n",
    "$$ dL/da_{1} = \\frac{-2}{n} \\sum(X_{1})(y-(a_{0} + a_{1}X_{1} + a_{2}X_{2} + a_{3}X_{3} + a_{4}X_{4} ))$$,\n",
    "$$ dL/da_{2} = \\frac{-2}{n} \\sum(X_{2})(y-(a_{0} + a_{1}X_{1} + a_{2}X_{2} + a_{3}X_{3} + a_{4}X_{4} ))$$,\n",
    "$$ dL/da_{3} = \\frac{-2}{n} \\sum(X_{3})(y-(a_{0} + a_{1}X_{1} + a_{2}X_{2} + a_{3}X_{3} + a_{4}X_{4} ))$$,\n",
    "$$ dL/da_{4} = \\frac{-2}{n} \\sum(X_{4})(y-(a_{0} + a_{1}X_{1} + a_{2}X_{2} + a_{3}X_{3} + a_{4}X_{4} ))$$"
   ]
  },
  {
   "cell_type": "code",
   "execution_count": 16,
   "metadata": {
    "colab": {
     "base_uri": "https://localhost:8080/",
     "height": 527
    },
    "colab_type": "code",
    "id": "B9jMLEUphyK7",
    "outputId": "48c08804-543c-448d-b6fa-97c840d1aaf2"
   },
   "outputs": [
    {
     "name": "stdout",
     "output_type": "stream",
     "text": [
      "Epoch ke-0, Loss : 419702.357737774\n",
      "Epoch ke-1, Loss : -2185531630.0954227\n",
      "Epoch ke-2, Loss : 11499965125096.275\n",
      "Epoch ke-3, Loss : -6.0507488147225224e+16\n",
      "Epoch ke-4, Loss : 3.183624324999703e+20\n",
      "Epoch ke-5, Loss : -1.6750759562690604e+24\n",
      "Epoch ke-6, Loss : 8.813475375042747e+27\n",
      "Epoch ke-7, Loss : -4.637243337879795e+31\n",
      "Epoch ke-8, Loss : 2.4399030869937817e+35\n",
      "Epoch ke-9, Loss : -1.2837642194217109e+39\n",
      "Epoch ke-10, Loss : 6.754573900301948e+42\n",
      "Epoch ke-11, Loss : -3.5539445549582563e+46\n",
      "Epoch ke-12, Loss : 1.8699213430994997e+50\n",
      "Epoch ke-13, Loss : -9.838661732920888e+53\n",
      "Epoch ke-14, Loss : 5.176649009973419e+57\n",
      "Epoch ke-15, Loss : -2.723713417526258e+61\n",
      "Epoch ke-16, Loss : 1.4330920961648627e+65\n",
      "Epoch ke-17, Loss : -7.540268160647636e+68\n",
      "Epoch ke-18, Loss : 3.967340555895147e+72\n",
      "Epoch ke-19, Loss : -2.0874312094887766e+76\n",
      "Epoch ke-20, Loss : 1.0983098105538435e+80\n",
      "Epoch ke-21, Loss : -5.778798527469775e+83\n",
      "Epoch ke-22, Loss : 3.0405366591642322e+87\n",
      "Epoch ke-23, Loss : -1.5997898407040364e+91\n",
      "Epoch ke-24, Loss : 8.41735463608369e+94\n",
      "Epoch ke-25, Loss : -4.42882291579118e+98\n",
      "Epoch ke-26, Loss : 2.330241895161855e+102\n",
      "Epoch ke-27, Loss : -1.22606556938786e+106\n",
      "Epoch ke-28, Loss : 6.450990275127488e+109\n",
      "Epoch ke-29, Loss : -3.394212884598557e+113\n"
     ]
    }
   ],
   "source": [
    "Lr = 0.0001  # The learning Rate\n",
    "epochs = 30  # The number of iterations to perform gradient descent\n",
    "a0=a1=a2=a3=a4=0.05 # Inisiasi\n",
    "LosA1 = []\n",
    "n = len(X) # Banyaknya Observasi\n",
    "\n",
    "for k in range(epochs):\n",
    "  A = np.array([a0,a1,a2,a3,a4]).reshape(1,-1)\n",
    "\n",
    "  X1 = X[:,0].reshape(1,-1)\n",
    "  X2 = X[:,1].reshape(1,-1)\n",
    "  X3 = X[:,2].reshape(1,-1)\n",
    "  X4 = X[:,3].reshape(1,-1)\n",
    "\n",
    "  error = Y - np.matmul(A,X.T).reshape(-1,1)\n",
    "\n",
    "  sigma0 = sum(error[0])\n",
    "  sigma1 = np.matmul(X1,error)\n",
    "  sigma2 = np.matmul(X2,error)\n",
    "  sigma3 = np.matmul(X3,error)\n",
    "  sigma4 = np.matmul(X4,error)\n",
    "\n",
    "  L0 = -2*sigma0\n",
    "  L1 = -2*sigma1/n\n",
    "  L2 = -2*sigma2/n\n",
    "  L3 = -2*sigma3/n\n",
    "  L4 = -2*sigma4/n\n",
    "\n",
    "  parameter = [L0,L1[0].item(),L2[0].item(),L3[0].item(),L4[0].item()]\n",
    "\n",
    "  a0 = a0 - Lr*parameter[0]\n",
    "  a1 = a1 - Lr*parameter[1]\n",
    "  a2 = a2 - Lr*parameter[2]\n",
    "  a3 = a3 - Lr*parameter[3]\n",
    "  a4 = a4 - Lr*parameter[4]\n",
    "\n",
    "  print(\"Epoch ke-{}, Loss : {}\".format(k,a1))\n",
    "  LosA1.append(a1)  "
   ]
  },
  {
   "cell_type": "code",
   "execution_count": 17,
   "metadata": {
    "colab": {
     "base_uri": "https://localhost:8080/",
     "height": 293
    },
    "colab_type": "code",
    "id": "Pa2OfTfStiB7",
    "outputId": "611099f5-abfb-4ce0-f8d8-b83b12eb0203"
   },
   "outputs": [
    {
     "data": {
      "text/plain": [
       "[<matplotlib.lines.Line2D at 0x7f7aae11db00>]"
      ]
     },
     "execution_count": 17,
     "metadata": {
      "tags": []
     },
     "output_type": "execute_result"
    },
    {
     "data": {
      "image/png": "[encoded data removed]",
      "text/plain": [
       "<Figure size 432x288 with 1 Axes>"
      ]
     },
     "metadata": {
      "needs_background": "light",
      "tags": []
     },
     "output_type": "display_data"
    }
   ],
   "source": [
    "plt.plot(range(epochs),np.array(LosA1))"
   ]
  },
  {
   "cell_type": "markdown",
   "metadata": {
    "colab_type": "text",
    "id": "uFQL27Her-LO"
   },
   "source": [
    "Hal yang cukup sulit saat menggunakan metode numerik adalah menetapkan inisiasi parameter apalagi jika variabel independen cukup banyak. Nilai inisiasi yang salah bisa menyebabkan konvergensi tiap parameter tidak tercapai. Hal lain yang perlu diperhatikan adalah jika terjebak dalam local optimum."
   ]
  },
  {
   "cell_type": "markdown",
   "metadata": {
    "colab_type": "text",
    "id": "OZKmqQoJp69r"
   },
   "source": [
    "## CARA 5 (Menggunakan Metode Numerik via pytorch)\n",
    "An open source machine learning framework that accelerates the path from research prototyping to production deployment."
   ]
  },
  {
   "cell_type": "code",
   "execution_count": 18,
   "metadata": {
    "colab": {},
    "colab_type": "code",
    "id": "K4Zj0xzDQVGT"
   },
   "outputs": [],
   "source": [
    "x = torch.from_numpy(XX).float()\n",
    "y = torch.from_numpy(Y).float()"
   ]
  },
  {
   "cell_type": "code",
   "execution_count": 19,
   "metadata": {
    "colab": {},
    "colab_type": "code",
    "id": "tFFtLk2AF6Gk"
   },
   "outputs": [],
   "source": [
    "class LR(nn.Module):\n",
    "  def __init__(self,input_size,output_size):\n",
    "    super().__init__()\n",
    "    self.linear  = nn.Linear(input_size,output_size)\n",
    "  def forward(self,x):\n",
    "    pred = self.linear(x)\n",
    "    return pred"
   ]
  },
  {
   "cell_type": "code",
   "execution_count": 20,
   "metadata": {
    "colab": {},
    "colab_type": "code",
    "id": "ZLYTnDnrGmoI"
   },
   "outputs": [],
   "source": [
    "model = LR(6,1) # Create Model\n",
    "[a,b] = model.parameters() # Get parameter (weight & bias)"
   ]
  },
  {
   "cell_type": "code",
   "execution_count": 21,
   "metadata": {
    "colab": {},
    "colab_type": "code",
    "id": "iIeDtlazHTHN"
   },
   "outputs": [],
   "source": [
    "def get_params():\n",
    "  return a[0][0].item(),a[0][1].item(),a[0][2].item(),a[0][3].item(),a[0][4].item(),b[0].item()"
   ]
  },
  {
   "cell_type": "code",
   "execution_count": 22,
   "metadata": {
    "colab": {},
    "colab_type": "code",
    "id": "nLWsz_Y8NxbU"
   },
   "outputs": [],
   "source": [
    "[w1,w2,w3,w4,w5,b]= get_params()\n",
    "w1 = torch.tensor(w1,requires_grad=True)\n",
    "w2 = torch.tensor(w2,requires_grad=True)\n",
    "w3 = torch.tensor(w3,requires_grad=True)\n",
    "w4 = torch.tensor(w4,requires_grad=True)\n",
    "w5 = torch.tensor(w5,requires_grad=True)\n",
    "b = torch.tensor(b,requires_grad=True)"
   ]
  },
  {
   "cell_type": "code",
   "execution_count": 23,
   "metadata": {
    "colab": {},
    "colab_type": "code",
    "id": "J6F0DNTPM1Lt"
   },
   "outputs": [],
   "source": [
    "criterion = nn.MSELoss()\n",
    "optimizer = torch.optim.Adam(model.parameters(),lr=0.9)"
   ]
  },
  {
   "cell_type": "code",
   "execution_count": 24,
   "metadata": {
    "colab": {},
    "colab_type": "code",
    "id": "eRcYmWdCROB_"
   },
   "outputs": [],
   "source": [
    "def forward(x):\n",
    "  y = w1*x +w2*x +w3*x + w4*x + w5*x + b\n",
    "  return y"
   ]
  },
  {
   "cell_type": "code",
   "execution_count": 25,
   "metadata": {
    "colab": {
     "base_uri": "https://localhost:8080/",
     "height": 1000
    },
    "colab_type": "code",
    "id": "gp1TqIxZM3Nn",
    "outputId": "5115fc09-b8b8-49f3-f907-0ae92136d583"
   },
   "outputs": [
    {
     "name": "stdout",
     "output_type": "stream",
     "text": [
      "Epoch ke-0, Loss : 38528188416.0\n",
      "Epoch ke-1, Loss : 33323358208.0\n",
      "Epoch ke-2, Loss : 28699195392.0\n",
      "Epoch ke-3, Loss : 24662052864.0\n",
      "Epoch ke-4, Loss : 21212223488.0\n",
      "Epoch ke-5, Loss : 18342060032.0\n",
      "Epoch ke-6, Loss : 16034120704.0\n",
      "Epoch ke-7, Loss : 14259139584.0\n",
      "Epoch ke-8, Loss : 12974440448.0\n",
      "Epoch ke-9, Loss : 12123177984.0\n",
      "Epoch ke-10, Loss : 11635120128.0\n",
      "Epoch ke-11, Loss : 11429539840.0\n",
      "Epoch ke-12, Loss : 11420302336.0\n",
      "Epoch ke-13, Loss : 11522569216.0\n",
      "Epoch ke-14, Loss : 11659860992.0\n",
      "Epoch ke-15, Loss : 11769886720.0\n",
      "Epoch ke-16, Loss : 11808004096.0\n",
      "Epoch ke-17, Loss : 11747962880.0\n",
      "Epoch ke-18, Loss : 11580301312.0\n",
      "Epoch ke-19, Loss : 11309305856.0\n",
      "Epoch ke-20, Loss : 10949304320.0\n",
      "Epoch ke-21, Loss : 10521026560.0\n",
      "Epoch ke-22, Loss : 10048312320.0\n",
      "Epoch ke-23, Loss : 9555411968.0\n",
      "Epoch ke-24, Loss : 9064861696.0\n",
      "Epoch ke-25, Loss : 8595929088.0\n",
      "Epoch ke-26, Loss : 8163595776.0\n",
      "Epoch ke-27, Loss : 7777987072.0\n",
      "Epoch ke-28, Loss : 7444262400.0\n",
      "Epoch ke-29, Loss : 7162883584.0\n",
      "Epoch ke-30, Loss : 6930224640.0\n",
      "Epoch ke-31, Loss : 6739458048.0\n",
      "Epoch ke-32, Loss : 6581607936.0\n",
      "Epoch ke-33, Loss : 6446707712.0\n",
      "Epoch ke-34, Loss : 6324903936.0\n",
      "Epoch ke-35, Loss : 6207427584.0\n",
      "Epoch ke-36, Loss : 6087328256.0\n",
      "Epoch ke-37, Loss : 5959915520.0\n",
      "Epoch ke-38, Loss : 5822917632.0\n",
      "Epoch ke-39, Loss : 5676331008.0\n",
      "Epoch ke-40, Loss : 5522055680.0\n",
      "Epoch ke-41, Loss : 5363372032.0\n",
      "Epoch ke-42, Loss : 5204328960.0\n",
      "Epoch ke-43, Loss : 5049149952.0\n",
      "Epoch ke-44, Loss : 4901689856.0\n",
      "Epoch ke-45, Loss : 4765022720.0\n",
      "Epoch ke-46, Loss : 4641177088.0\n",
      "Epoch ke-47, Loss : 4531021312.0\n",
      "Epoch ke-48, Loss : 4434314240.0\n",
      "Epoch ke-49, Loss : 4349870080.0\n",
      "Epoch ke-50, Loss : 4275829760.0\n",
      "Epoch ke-51, Loss : 4209952512.0\n",
      "Epoch ke-52, Loss : 4149938176.0\n",
      "Epoch ke-53, Loss : 4093693440.0\n",
      "Epoch ke-54, Loss : 4039543040.0\n",
      "Epoch ke-55, Loss : 3986351360.0\n",
      "Epoch ke-56, Loss : 3933559808.0\n",
      "Epoch ke-57, Loss : 3881139712.0\n",
      "Epoch ke-58, Loss : 3829489920.0\n",
      "Epoch ke-59, Loss : 3779288064.0\n",
      "Epoch ke-60, Loss : 3731336448.0\n",
      "Epoch ke-61, Loss : 3686401024.0\n",
      "Epoch ke-62, Loss : 3645101568.0\n",
      "Epoch ke-63, Loss : 3607811328.0\n",
      "Epoch ke-64, Loss : 3574640896.0\n",
      "Epoch ke-65, Loss : 3545428736.0\n",
      "Epoch ke-66, Loss : 3519794944.0\n",
      "Epoch ke-67, Loss : 3497208832.0\n",
      "Epoch ke-68, Loss : 3477067008.0\n",
      "Epoch ke-69, Loss : 3458777856.0\n",
      "Epoch ke-70, Loss : 3441822976.0\n",
      "Epoch ke-71, Loss : 3425810432.0\n",
      "Epoch ke-72, Loss : 3410489600.0\n",
      "Epoch ke-73, Loss : 3395748352.0\n",
      "Epoch ke-74, Loss : 3381603072.0\n",
      "Epoch ke-75, Loss : 3368146432.0\n",
      "Epoch ke-76, Loss : 3355515136.0\n",
      "Epoch ke-77, Loss : 3343845376.0\n",
      "Epoch ke-78, Loss : 3333243648.0\n",
      "Epoch ke-79, Loss : 3323758592.0\n",
      "Epoch ke-80, Loss : 3315368192.0\n",
      "Epoch ke-81, Loss : 3308000256.0\n",
      "Epoch ke-82, Loss : 3301522944.0\n",
      "Epoch ke-83, Loss : 3295779840.0\n",
      "Epoch ke-84, Loss : 3290605312.0\n",
      "Epoch ke-85, Loss : 3285844992.0\n",
      "Epoch ke-86, Loss : 3281373440.0\n",
      "Epoch ke-87, Loss : 3277102336.0\n",
      "Epoch ke-88, Loss : 3272980224.0\n",
      "Epoch ke-89, Loss : 3268992000.0\n",
      "Epoch ke-90, Loss : 3265147392.0\n",
      "Epoch ke-91, Loss : 3261473792.0\n",
      "Epoch ke-92, Loss : 3257996032.0\n",
      "Epoch ke-93, Loss : 3254739200.0\n",
      "Epoch ke-94, Loss : 3251711488.0\n",
      "Epoch ke-95, Loss : 3248910080.0\n",
      "Epoch ke-96, Loss : 3246309376.0\n",
      "Epoch ke-97, Loss : 3243877632.0\n",
      "Epoch ke-98, Loss : 3241572864.0\n",
      "Epoch ke-99, Loss : 3239358720.0\n"
     ]
    }
   ],
   "source": [
    "epochs = 100\n",
    "losses = []\n",
    "for i in range(epochs):\n",
    "  y_pred = model.forward(x)\n",
    "  loss = criterion(y_pred,y)\n",
    "  print(\"Epoch ke-{}, Loss : {}\".format(i,loss))\n",
    "  losses.append(loss)\n",
    "\n",
    "  optimizer.zero_grad() # agar tidak diakumulasi nilai gradiennya\n",
    "  loss.backward()\n",
    "  optimizer.step()\n"
   ]
  },
  {
   "cell_type": "code",
   "execution_count": 26,
   "metadata": {
    "colab": {
     "base_uri": "https://localhost:8080/",
     "height": 293
    },
    "colab_type": "code",
    "id": "oUJjYtvjrlAp",
    "outputId": "fed12963-80d3-46b8-c216-e219091fa540"
   },
   "outputs": [
    {
     "data": {
      "text/plain": [
       "[<matplotlib.lines.Line2D at 0x7f7aad403a20>]"
      ]
     },
     "execution_count": 26,
     "metadata": {
      "tags": []
     },
     "output_type": "execute_result"
    },
    {
     "data": {
      "image/png": "[encoded data removed]",
      "text/plain": [
       "<Figure size 432x288 with 1 Axes>"
      ]
     },
     "metadata": {
      "needs_background": "light",
      "tags": []
     },
     "output_type": "display_data"
    }
   ],
   "source": [
    "plt.plot(range(epochs),losses)"
   ]
  },
  {
   "cell_type": "markdown",
   "metadata": {
    "colab_type": "text",
    "id": "RCSZ0jvuRh5u"
   },
   "source": [
    "# Refference\n",
    "1. https://www.kaggle.com/general/51898\n",
    "2. https://pytorch.org/tutorials/beginner/pytorch_with_examples.html\n",
    "3. https://jupyter-notebook.readthedocs.io/en/stable/examples/Notebook/Working%20With%20Markdown%20Cells.html\n",
    "4. https://csrgxtu.github.io/2015/03/20/Writing-Mathematic-Fomulars-in-Markdown/\n",
    "5. https://www.youtube.com/watch?v=HA37MORSoBM"
   ]
  },
  {
   "cell_type": "code",
   "execution_count": null,
   "metadata": {
    "colab": {},
    "colab_type": "code",
    "id": "eI5AgUs6gNnU"
   },
   "outputs": [],
   "source": []
  }
 ],
 "metadata": {
  "colab": {
   "collapsed_sections": [],
   "name": "Regression Analysis Using Several Ways.ipynb",
   "provenance": []
  },
  "kernelspec": {
   "display_name": "Python 3",
   "language": "python",
   "name": "python3"
  },
  "language_info": {
   "codemirror_mode": {
    "name": "ipython",
    "version": 3
   },
   "file_extension": ".py",
   "mimetype": "text/x-python",
   "name": "python",
   "nbconvert_exporter": "python",
   "pygments_lexer": "ipython3",
   "version": "3.7.6"
  }
 },
 "nbformat": 4,
 "nbformat_minor": 1
}
