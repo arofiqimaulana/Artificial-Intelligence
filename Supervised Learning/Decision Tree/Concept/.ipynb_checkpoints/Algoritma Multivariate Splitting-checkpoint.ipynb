{
 "cells": [
  {
   "cell_type": "markdown",
   "metadata": {},
   "source": [
    "# Algoritma Multivariate Splitting\n",
    "Algoritma ID3 maupun C4.5, melakukan pengecekan untuk satu per satu variabel pada setiap simpul (yang bukan simpul daun). Hal ini disebut dengan univariate splitting. Metode univariate splitting yang menghasilkan garis pemisah seperti tangga yang **relatif kaku, kurang fleksibel, dan sangat rentan salah** untuk sampel-sampel data baru yang terdistribusi relatif acak, tidak teratur, membentuk area seperti anak-anak tangga.\n",
    "\n",
    "Untuk mengtasi masalah tersebut, kita bisa melakukajn pengecekan lebih dari satu variabel (atribut) pada satu simpul pengecekan, atau yang disebut multivariate splitting. Sebagai contoh, kita bisa menggunakan dua atribut Kamera dan Baterai pada sat simpul pengekcak, yaotiu Kamera + 3/5*Baterai =18, yang menghasilkan sebuah batas pemisah berupa garis lurus condong ke kiri. Garis lurus ini terlihata lebih fleksibel dan berhasil mengklasifikkasika sampel-sampel data lama maupun keda sampel data baru yang belum pernah dipelajari. Perbedaan antara univaraite splitting dan multivariate splitting.\n",
    "\n",
    "Sayangnya, metode multivariate splitting ini sulit dilakukan. Bagaimana menemukan sejumlah atribut yang layak dikombinasikan dalam suatu simpul pengecekan ? Berapa nilai batas pada kombinasi sejumlah atribut tersebut ? Oleh karena itu, metode multivariate splitting ini **relatif jarang digunakan secara praktis**. Pada banyak kasus dunia nyata, para praktisi masih lebih banyak menggunakan univariate splitting. Namun, jika anda mampu menemukan cara yang simpel untuk multivariate splitting, anda bisa menggunakannya pada banyak kasus dunia nyata. Jika tidak sanggup, maka bisa menggunakan teknik klasifikasi lain yang disebut **Artificial Neural Network** (ANN)"
   ]
  },
  {
   "cell_type": "markdown",
   "metadata": {},
   "source": [
    "## REFFERENCE\n",
    "\n",
    "Suyanto. 2018. Machine Learning Tingkat Dasar Dan Lanjut. Informatika. Bandung.\n"
   ]
  },
  {
   "cell_type": "code",
   "execution_count": null,
   "metadata": {},
   "outputs": [],
   "source": []
  }
 ],
 "metadata": {
  "kernelspec": {
   "display_name": "Python 3",
   "language": "python",
   "name": "python3"
  },
  "language_info": {
   "codemirror_mode": {
    "name": "ipython",
    "version": 3
   },
   "file_extension": ".py",
   "mimetype": "text/x-python",
   "name": "python",
   "nbconvert_exporter": "python",
   "pygments_lexer": "ipython3",
   "version": "3.7.6"
  }
 },
 "nbformat": 4,
 "nbformat_minor": 4
}
