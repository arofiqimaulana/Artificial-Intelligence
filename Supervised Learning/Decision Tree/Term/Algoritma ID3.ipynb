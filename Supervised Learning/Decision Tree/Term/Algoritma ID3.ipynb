{
 "cells": [
  {
   "cell_type": "code",
   "execution_count": 1,
   "metadata": {},
   "outputs": [],
   "source": [
    "import pandas as pd\n",
    "import math\n",
    "import numpy\n",
    "from scipy.stats import entropy\n",
    "import matplotlib.pyplot as plt"
   ]
  },
  {
   "cell_type": "markdown",
   "metadata": {},
   "source": [
    "## Algoritma ID3\n",
    "1. Hitung nilai Entropy untuk semua variabel"
   ]
  },
  {
   "cell_type": "markdown",
   "metadata": {},
   "source": [
    "# 1. Import Data"
   ]
  },
  {
   "cell_type": "code",
   "execution_count": 2,
   "metadata": {},
   "outputs": [],
   "source": [
    "df = pd.read_excel('Hp.xlsx')"
   ]
  },
  {
   "cell_type": "code",
   "execution_count": 24,
   "metadata": {},
   "outputs": [
    {
     "data": {
      "text/html": [
       "<div>\n",
       "<style scoped>\n",
       "    .dataframe tbody tr th:only-of-type {\n",
       "        vertical-align: middle;\n",
       "    }\n",
       "\n",
       "    .dataframe tbody tr th {\n",
       "        vertical-align: top;\n",
       "    }\n",
       "\n",
       "    .dataframe thead th {\n",
       "        text-align: right;\n",
       "    }\n",
       "</style>\n",
       "<table border=\"1\" class=\"dataframe\">\n",
       "  <thead>\n",
       "    <tr style=\"text-align: right;\">\n",
       "      <th></th>\n",
       "      <th>Handphone</th>\n",
       "      <th>Baterai</th>\n",
       "      <th>Kamera</th>\n",
       "      <th>Harga</th>\n",
       "      <th>Layak Direkomendasikan</th>\n",
       "    </tr>\n",
       "  </thead>\n",
       "  <tbody>\n",
       "    <tr>\n",
       "      <th>0</th>\n",
       "      <td>H1</td>\n",
       "      <td>Kuat</td>\n",
       "      <td>Tinggi</td>\n",
       "      <td>Sangat Murah</td>\n",
       "      <td>Ya</td>\n",
       "    </tr>\n",
       "    <tr>\n",
       "      <th>1</th>\n",
       "      <td>H2</td>\n",
       "      <td>Kuat</td>\n",
       "      <td>Tinggi</td>\n",
       "      <td>Sangat Mahal</td>\n",
       "      <td>Ya</td>\n",
       "    </tr>\n",
       "    <tr>\n",
       "      <th>2</th>\n",
       "      <td>H3</td>\n",
       "      <td>Kuat</td>\n",
       "      <td>Sedang</td>\n",
       "      <td>Mahal</td>\n",
       "      <td>Ya</td>\n",
       "    </tr>\n",
       "    <tr>\n",
       "      <th>3</th>\n",
       "      <td>H4</td>\n",
       "      <td>Kuat</td>\n",
       "      <td>Rendah</td>\n",
       "      <td>Mahal</td>\n",
       "      <td>Tidak</td>\n",
       "    </tr>\n",
       "    <tr>\n",
       "      <th>4</th>\n",
       "      <td>H5</td>\n",
       "      <td>Cukup</td>\n",
       "      <td>Tinggi</td>\n",
       "      <td>Sangat Murah</td>\n",
       "      <td>Ya</td>\n",
       "    </tr>\n",
       "    <tr>\n",
       "      <th>5</th>\n",
       "      <td>H6</td>\n",
       "      <td>Cukup</td>\n",
       "      <td>Sedang</td>\n",
       "      <td>Mahal</td>\n",
       "      <td>Ya</td>\n",
       "    </tr>\n",
       "    <tr>\n",
       "      <th>6</th>\n",
       "      <td>H7</td>\n",
       "      <td>Cukup</td>\n",
       "      <td>Sedang</td>\n",
       "      <td>Sangat Mahal</td>\n",
       "      <td>Ya</td>\n",
       "    </tr>\n",
       "    <tr>\n",
       "      <th>7</th>\n",
       "      <td>H8</td>\n",
       "      <td>Cukup</td>\n",
       "      <td>Tinggi</td>\n",
       "      <td>Murah</td>\n",
       "      <td>Ya</td>\n",
       "    </tr>\n",
       "    <tr>\n",
       "      <th>8</th>\n",
       "      <td>H9</td>\n",
       "      <td>Cukup</td>\n",
       "      <td>Rendah</td>\n",
       "      <td>Mahal</td>\n",
       "      <td>Tidak</td>\n",
       "    </tr>\n",
       "    <tr>\n",
       "      <th>9</th>\n",
       "      <td>H10</td>\n",
       "      <td>Lemah</td>\n",
       "      <td>Tinggi</td>\n",
       "      <td>Sangat Murah</td>\n",
       "      <td>Ya</td>\n",
       "    </tr>\n",
       "    <tr>\n",
       "      <th>10</th>\n",
       "      <td>H11</td>\n",
       "      <td>Lemah</td>\n",
       "      <td>Tinggi</td>\n",
       "      <td>Sangat Mahal</td>\n",
       "      <td>Tidak</td>\n",
       "    </tr>\n",
       "    <tr>\n",
       "      <th>11</th>\n",
       "      <td>H12</td>\n",
       "      <td>Lemah</td>\n",
       "      <td>Sedang</td>\n",
       "      <td>Mahal</td>\n",
       "      <td>Tidak</td>\n",
       "    </tr>\n",
       "    <tr>\n",
       "      <th>12</th>\n",
       "      <td>H13</td>\n",
       "      <td>Lemah</td>\n",
       "      <td>Sedang</td>\n",
       "      <td>Murah</td>\n",
       "      <td>Tidak</td>\n",
       "    </tr>\n",
       "    <tr>\n",
       "      <th>13</th>\n",
       "      <td>H14</td>\n",
       "      <td>Lemah</td>\n",
       "      <td>Rendah</td>\n",
       "      <td>Sangat Mahal</td>\n",
       "      <td>Tidak</td>\n",
       "    </tr>\n",
       "  </tbody>\n",
       "</table>\n",
       "</div>"
      ],
      "text/plain": [
       "   Handphone Baterai  Kamera         Harga Layak Direkomendasikan\n",
       "0         H1    Kuat  Tinggi  Sangat Murah                     Ya\n",
       "1         H2    Kuat  Tinggi  Sangat Mahal                     Ya\n",
       "2         H3    Kuat  Sedang         Mahal                     Ya\n",
       "3         H4    Kuat  Rendah         Mahal                  Tidak\n",
       "4         H5   Cukup  Tinggi  Sangat Murah                     Ya\n",
       "5         H6   Cukup  Sedang         Mahal                     Ya\n",
       "6         H7   Cukup  Sedang  Sangat Mahal                     Ya\n",
       "7         H8   Cukup  Tinggi         Murah                     Ya\n",
       "8         H9   Cukup  Rendah         Mahal                  Tidak\n",
       "9        H10   Lemah  Tinggi  Sangat Murah                     Ya\n",
       "10       H11   Lemah  Tinggi  Sangat Mahal                  Tidak\n",
       "11       H12   Lemah  Sedang         Mahal                  Tidak\n",
       "12       H13   Lemah  Sedang         Murah                  Tidak\n",
       "13       H14   Lemah  Rendah  Sangat Mahal                  Tidak"
      ]
     },
     "execution_count": 24,
     "metadata": {},
     "output_type": "execute_result"
    }
   ],
   "source": [
    "df"
   ]
  },
  {
   "cell_type": "markdown",
   "metadata": {},
   "source": [
    "# 2. Descriptive"
   ]
  },
  {
   "cell_type": "code",
   "execution_count": 36,
   "metadata": {},
   "outputs": [
    {
     "data": {
      "text/plain": [
       "Cukup    5\n",
       "Lemah    5\n",
       "Kuat     4\n",
       "Name: Baterai, dtype: int64"
      ]
     },
     "execution_count": 36,
     "metadata": {},
     "output_type": "execute_result"
    }
   ],
   "source": [
    "df['Baterai'].value_counts()"
   ]
  },
  {
   "cell_type": "code",
   "execution_count": 37,
   "metadata": {},
   "outputs": [
    {
     "data": {
      "text/plain": [
       "Tinggi    6\n",
       "Sedang    5\n",
       "Rendah    3\n",
       "Name: Kamera, dtype: int64"
      ]
     },
     "execution_count": 37,
     "metadata": {},
     "output_type": "execute_result"
    }
   ],
   "source": [
    "df['Kamera'].value_counts()"
   ]
  },
  {
   "cell_type": "code",
   "execution_count": 39,
   "metadata": {},
   "outputs": [
    {
     "data": {
      "text/plain": [
       "Mahal           5\n",
       "Sangat Mahal    4\n",
       "Sangat Murah    3\n",
       "Murah           2\n",
       "Name: Harga, dtype: int64"
      ]
     },
     "execution_count": 39,
     "metadata": {},
     "output_type": "execute_result"
    }
   ],
   "source": [
    "df['Harga'].value_counts()"
   ]
  },
  {
   "cell_type": "code",
   "execution_count": 40,
   "metadata": {},
   "outputs": [
    {
     "data": {
      "text/plain": [
       "Ya       8\n",
       "Tidak    6\n",
       "Name: Layak Direkomendasikan, dtype: int64"
      ]
     },
     "execution_count": 40,
     "metadata": {},
     "output_type": "execute_result"
    }
   ],
   "source": [
    "df['Layak Direkomendasikan'].value_counts()"
   ]
  },
  {
   "cell_type": "markdown",
   "metadata": {},
   "source": [
    "# 3. Hitung nilai Gain Ratio"
   ]
  },
  {
   "cell_type": "code",
   "execution_count": 68,
   "metadata": {},
   "outputs": [
    {
     "data": {
      "text/plain": [
       "0.15073571333777758"
      ]
     },
     "execution_count": 68,
     "metadata": {},
     "output_type": "execute_result"
    }
   ],
   "source": [
    "## Gain Ratio untuk variabel Baterai\n",
    "S = entropy([8/14, 6/14], base=2)\n",
    "\n",
    "S_kuat = entropy([3/4, 1/4], base=2)\n",
    "S_cukup = entropy([4/5, 1/5], base=2)\n",
    "S_lemah = entropy([1/5, 4/5], base=2)\n",
    "\n",
    "gain = S - (4/14)*S_kuat - (5/14)*S_cukup - (5/14)*S_lemah\n",
    "\n",
    "split = entropy([4/14, 5/14,5/14], base=2)\n",
    "\n",
    "gain_ratio = gain/split\n",
    "gain_ratio"
   ]
  },
  {
   "cell_type": "code",
   "execution_count": 69,
   "metadata": {},
   "outputs": [
    {
     "data": {
      "text/plain": [
       "0.23511992857012567"
      ]
     },
     "execution_count": 69,
     "metadata": {},
     "output_type": "execute_result"
    }
   ],
   "source": [
    "## Gain Ratio untuk variabel Kamera\n",
    "S = entropy([8/14, 6/14], base=2)\n",
    "\n",
    "S_Tinggi = entropy([5/6, 1/6], base=2)\n",
    "S_Sedang = entropy([3/5, 2/5], base=2)\n",
    "S_Rendah = entropy([0/3, 3/3], base=2)\n",
    "\n",
    "gain = S - (6/14)*S_Tinggi - (5/14)*S_Sedang - (3/14)*S_Rendah\n",
    "\n",
    "split = entropy([6/14, 5/14,3/14], base=2)\n",
    "\n",
    "gain_ratio = gain/split\n",
    "gain_ratio"
   ]
  },
  {
   "cell_type": "code",
   "execution_count": 70,
   "metadata": {},
   "outputs": [
    {
     "data": {
      "text/plain": [
       "0.10907984391528512"
      ]
     },
     "execution_count": 70,
     "metadata": {},
     "output_type": "execute_result"
    }
   ],
   "source": [
    "## Gain Ratio untuk variabel Harga\n",
    "S = entropy([8/14, 6/14], base=2)\n",
    "\n",
    "S_Mahal = entropy([2/5, 3/5], base=2)\n",
    "S_SangatMahal = entropy([2/4, 2/4], base=2)\n",
    "S_SangatMurah = entropy([3/3, 0/3], base=2)\n",
    "S_Murah = entropy([1/2, 1/2], base=2)\n",
    "\n",
    "gain = S - (5/14)*S_Mahal - (4/14)*S_SangatMahal - (3/14)*S_SangatMurah -(2/14)*S_Murah\n",
    "\n",
    "split = entropy([5/14, 4/14,3/14,2/14], base=2)\n",
    "\n",
    "gain_ratio = gain/split\n",
    "gain_ratio"
   ]
  },
  {
   "cell_type": "code",
   "execution_count": 72,
   "metadata": {},
   "outputs": [],
   "source": [
    "## Berdasarkan gain ratio, variabel yang akan dijadikan sebagai root adalah Kamera karena memiliki gain tertinggi"
   ]
  },
  {
   "cell_type": "markdown",
   "metadata": {},
   "source": [
    "# 4. Percabangan variabel Kamera\n",
    "Variabel kamera ditetapkan sebagai root, sehingga perlu di buat percabangan di tiap kelasnya. Percabangan dari kelas mana, akan kita pilih dari count yang terbanyak."
   ]
  },
  {
   "cell_type": "code",
   "execution_count": 77,
   "metadata": {},
   "outputs": [
    {
     "data": {
      "text/plain": [
       "Tinggi    6\n",
       "Sedang    5\n",
       "Rendah    3\n",
       "Name: Kamera, dtype: int64"
      ]
     },
     "execution_count": 77,
     "metadata": {},
     "output_type": "execute_result"
    }
   ],
   "source": [
    "df['Kamera'].value_counts()"
   ]
  },
  {
   "cell_type": "code",
   "execution_count": 75,
   "metadata": {},
   "outputs": [
    {
     "data": {
      "text/html": [
       "<div>\n",
       "<style scoped>\n",
       "    .dataframe tbody tr th:only-of-type {\n",
       "        vertical-align: middle;\n",
       "    }\n",
       "\n",
       "    .dataframe tbody tr th {\n",
       "        vertical-align: top;\n",
       "    }\n",
       "\n",
       "    .dataframe thead th {\n",
       "        text-align: right;\n",
       "    }\n",
       "</style>\n",
       "<table border=\"1\" class=\"dataframe\">\n",
       "  <thead>\n",
       "    <tr style=\"text-align: right;\">\n",
       "      <th></th>\n",
       "      <th>Handphone</th>\n",
       "      <th>Baterai</th>\n",
       "      <th>Kamera</th>\n",
       "      <th>Harga</th>\n",
       "      <th>Layak Direkomendasikan</th>\n",
       "    </tr>\n",
       "  </thead>\n",
       "  <tbody>\n",
       "    <tr>\n",
       "      <th>0</th>\n",
       "      <td>H1</td>\n",
       "      <td>Kuat</td>\n",
       "      <td>Tinggi</td>\n",
       "      <td>Sangat Murah</td>\n",
       "      <td>Ya</td>\n",
       "    </tr>\n",
       "    <tr>\n",
       "      <th>1</th>\n",
       "      <td>H2</td>\n",
       "      <td>Kuat</td>\n",
       "      <td>Tinggi</td>\n",
       "      <td>Sangat Mahal</td>\n",
       "      <td>Ya</td>\n",
       "    </tr>\n",
       "    <tr>\n",
       "      <th>4</th>\n",
       "      <td>H5</td>\n",
       "      <td>Cukup</td>\n",
       "      <td>Tinggi</td>\n",
       "      <td>Sangat Murah</td>\n",
       "      <td>Ya</td>\n",
       "    </tr>\n",
       "    <tr>\n",
       "      <th>7</th>\n",
       "      <td>H8</td>\n",
       "      <td>Cukup</td>\n",
       "      <td>Tinggi</td>\n",
       "      <td>Murah</td>\n",
       "      <td>Ya</td>\n",
       "    </tr>\n",
       "    <tr>\n",
       "      <th>9</th>\n",
       "      <td>H10</td>\n",
       "      <td>Lemah</td>\n",
       "      <td>Tinggi</td>\n",
       "      <td>Sangat Murah</td>\n",
       "      <td>Ya</td>\n",
       "    </tr>\n",
       "    <tr>\n",
       "      <th>10</th>\n",
       "      <td>H11</td>\n",
       "      <td>Lemah</td>\n",
       "      <td>Tinggi</td>\n",
       "      <td>Sangat Mahal</td>\n",
       "      <td>Tidak</td>\n",
       "    </tr>\n",
       "  </tbody>\n",
       "</table>\n",
       "</div>"
      ],
      "text/plain": [
       "   Handphone Baterai  Kamera         Harga Layak Direkomendasikan\n",
       "0         H1    Kuat  Tinggi  Sangat Murah                     Ya\n",
       "1         H2    Kuat  Tinggi  Sangat Mahal                     Ya\n",
       "4         H5   Cukup  Tinggi  Sangat Murah                     Ya\n",
       "7         H8   Cukup  Tinggi         Murah                     Ya\n",
       "9        H10   Lemah  Tinggi  Sangat Murah                     Ya\n",
       "10       H11   Lemah  Tinggi  Sangat Mahal                  Tidak"
      ]
     },
     "execution_count": 75,
     "metadata": {},
     "output_type": "execute_result"
    }
   ],
   "source": [
    "df[df.Kamera=='Tinggi']"
   ]
  },
  {
   "cell_type": "code",
   "execution_count": 78,
   "metadata": {},
   "outputs": [
    {
     "data": {
      "text/plain": [
       "0.1998085684493656"
      ]
     },
     "execution_count": 78,
     "metadata": {},
     "output_type": "execute_result"
    }
   ],
   "source": [
    "## Gain Ratio untuk variabel baterai\n",
    "S = entropy([5/6, 1/6], base=2)\n",
    "\n",
    "S_kuat = entropy([2/2, 0/2], base=2)\n",
    "S_cukup = entropy([2/2, 0/2], base=2)\n",
    "S_lemah = entropy([1/2, 1/2], base=2)\n",
    "\n",
    "gain = S - (2/6)*S_kuat - (2/6)*S_cukup - (2/6)*S_lemah\n",
    "\n",
    "split = entropy([2/6, 2/6, 2/6], base=2)\n",
    "\n",
    "gain_ratio = gain/split\n",
    "gain_ratio"
   ]
  },
  {
   "cell_type": "code",
   "execution_count": 83,
   "metadata": {},
   "outputs": [
    {
     "data": {
      "text/plain": [
       "0.21703700126592965"
      ]
     },
     "execution_count": 83,
     "metadata": {},
     "output_type": "execute_result"
    }
   ],
   "source": [
    "## Gain Ratio untuk variabel Harga\n",
    "S = entropy([5/6, 1/6], base=2)\n",
    "\n",
    "S_SangatMahal = entropy([1/2, 1/2], base=2)\n",
    "S_SangatMurah = entropy([3/3, 0/3], base=2)\n",
    "S_Murah = entropy([1/1, 0/1], base=2)\n",
    "\n",
    "gain = S - (2/6)*S_SangatMahal - (3/6)*S_SangatMurah -(1/6)*S_Murah\n",
    "\n",
    "split = entropy([0/6, 2/6,3/6,1/6], base=2)\n",
    "\n",
    "gain_ratio = gain/split\n",
    "gain_ratio"
   ]
  },
  {
   "cell_type": "markdown",
   "metadata": {},
   "source": [
    "# 5. Percabangan Variabel Harga\n",
    "pada tabel dibawah ini, variabel harga dengan kelas \"Sangat Murah\" menghasilkan Hasil \"Ya\" Semua, sehingga kelas tersebut akan tidak akan dibuat cabang lagi."
   ]
  },
  {
   "cell_type": "code",
   "execution_count": 84,
   "metadata": {},
   "outputs": [
    {
     "data": {
      "text/html": [
       "<div>\n",
       "<style scoped>\n",
       "    .dataframe tbody tr th:only-of-type {\n",
       "        vertical-align: middle;\n",
       "    }\n",
       "\n",
       "    .dataframe tbody tr th {\n",
       "        vertical-align: top;\n",
       "    }\n",
       "\n",
       "    .dataframe thead th {\n",
       "        text-align: right;\n",
       "    }\n",
       "</style>\n",
       "<table border=\"1\" class=\"dataframe\">\n",
       "  <thead>\n",
       "    <tr style=\"text-align: right;\">\n",
       "      <th></th>\n",
       "      <th>Handphone</th>\n",
       "      <th>Baterai</th>\n",
       "      <th>Kamera</th>\n",
       "      <th>Harga</th>\n",
       "      <th>Layak Direkomendasikan</th>\n",
       "    </tr>\n",
       "  </thead>\n",
       "  <tbody>\n",
       "    <tr>\n",
       "      <th>0</th>\n",
       "      <td>H1</td>\n",
       "      <td>Kuat</td>\n",
       "      <td>Tinggi</td>\n",
       "      <td>Sangat Murah</td>\n",
       "      <td>Ya</td>\n",
       "    </tr>\n",
       "    <tr>\n",
       "      <th>1</th>\n",
       "      <td>H2</td>\n",
       "      <td>Kuat</td>\n",
       "      <td>Tinggi</td>\n",
       "      <td>Sangat Mahal</td>\n",
       "      <td>Ya</td>\n",
       "    </tr>\n",
       "    <tr>\n",
       "      <th>4</th>\n",
       "      <td>H5</td>\n",
       "      <td>Cukup</td>\n",
       "      <td>Tinggi</td>\n",
       "      <td>Sangat Murah</td>\n",
       "      <td>Ya</td>\n",
       "    </tr>\n",
       "    <tr>\n",
       "      <th>7</th>\n",
       "      <td>H8</td>\n",
       "      <td>Cukup</td>\n",
       "      <td>Tinggi</td>\n",
       "      <td>Murah</td>\n",
       "      <td>Ya</td>\n",
       "    </tr>\n",
       "    <tr>\n",
       "      <th>9</th>\n",
       "      <td>H10</td>\n",
       "      <td>Lemah</td>\n",
       "      <td>Tinggi</td>\n",
       "      <td>Sangat Murah</td>\n",
       "      <td>Ya</td>\n",
       "    </tr>\n",
       "    <tr>\n",
       "      <th>10</th>\n",
       "      <td>H11</td>\n",
       "      <td>Lemah</td>\n",
       "      <td>Tinggi</td>\n",
       "      <td>Sangat Mahal</td>\n",
       "      <td>Tidak</td>\n",
       "    </tr>\n",
       "  </tbody>\n",
       "</table>\n",
       "</div>"
      ],
      "text/plain": [
       "   Handphone Baterai  Kamera         Harga Layak Direkomendasikan\n",
       "0         H1    Kuat  Tinggi  Sangat Murah                     Ya\n",
       "1         H2    Kuat  Tinggi  Sangat Mahal                     Ya\n",
       "4         H5   Cukup  Tinggi  Sangat Murah                     Ya\n",
       "7         H8   Cukup  Tinggi         Murah                     Ya\n",
       "9        H10   Lemah  Tinggi  Sangat Murah                     Ya\n",
       "10       H11   Lemah  Tinggi  Sangat Mahal                  Tidak"
      ]
     },
     "execution_count": 84,
     "metadata": {},
     "output_type": "execute_result"
    }
   ],
   "source": [
    "df[df.Kamera=='Tinggi']"
   ]
  },
  {
   "cell_type": "code",
   "execution_count": 85,
   "metadata": {},
   "outputs": [
    {
     "data": {
      "text/html": [
       "<div>\n",
       "<style scoped>\n",
       "    .dataframe tbody tr th:only-of-type {\n",
       "        vertical-align: middle;\n",
       "    }\n",
       "\n",
       "    .dataframe tbody tr th {\n",
       "        vertical-align: top;\n",
       "    }\n",
       "\n",
       "    .dataframe thead th {\n",
       "        text-align: right;\n",
       "    }\n",
       "</style>\n",
       "<table border=\"1\" class=\"dataframe\">\n",
       "  <thead>\n",
       "    <tr style=\"text-align: right;\">\n",
       "      <th></th>\n",
       "      <th>Handphone</th>\n",
       "      <th>Baterai</th>\n",
       "      <th>Kamera</th>\n",
       "      <th>Harga</th>\n",
       "      <th>Layak Direkomendasikan</th>\n",
       "    </tr>\n",
       "  </thead>\n",
       "  <tbody>\n",
       "    <tr>\n",
       "      <th>0</th>\n",
       "      <td>H1</td>\n",
       "      <td>Kuat</td>\n",
       "      <td>Tinggi</td>\n",
       "      <td>Sangat Murah</td>\n",
       "      <td>Ya</td>\n",
       "    </tr>\n",
       "    <tr>\n",
       "      <th>4</th>\n",
       "      <td>H5</td>\n",
       "      <td>Cukup</td>\n",
       "      <td>Tinggi</td>\n",
       "      <td>Sangat Murah</td>\n",
       "      <td>Ya</td>\n",
       "    </tr>\n",
       "    <tr>\n",
       "      <th>9</th>\n",
       "      <td>H10</td>\n",
       "      <td>Lemah</td>\n",
       "      <td>Tinggi</td>\n",
       "      <td>Sangat Murah</td>\n",
       "      <td>Ya</td>\n",
       "    </tr>\n",
       "  </tbody>\n",
       "</table>\n",
       "</div>"
      ],
      "text/plain": [
       "  Handphone Baterai  Kamera         Harga Layak Direkomendasikan\n",
       "0        H1    Kuat  Tinggi  Sangat Murah                     Ya\n",
       "4        H5   Cukup  Tinggi  Sangat Murah                     Ya\n",
       "9       H10   Lemah  Tinggi  Sangat Murah                     Ya"
      ]
     },
     "execution_count": 85,
     "metadata": {},
     "output_type": "execute_result"
    }
   ],
   "source": [
    "df[df.Kamera=='Tinggi'][df[df.Kamera=='Tinggi'].Harga=='Sangat Murah']"
   ]
  },
  {
   "cell_type": "code",
   "execution_count": null,
   "metadata": {},
   "outputs": [],
   "source": []
  },
  {
   "cell_type": "markdown",
   "metadata": {},
   "source": [
    "# 6. Percabangan Kelas Harga"
   ]
  },
  {
   "cell_type": "code",
   "execution_count": 87,
   "metadata": {},
   "outputs": [
    {
     "data": {
      "text/html": [
       "<div>\n",
       "<style scoped>\n",
       "    .dataframe tbody tr th:only-of-type {\n",
       "        vertical-align: middle;\n",
       "    }\n",
       "\n",
       "    .dataframe tbody tr th {\n",
       "        vertical-align: top;\n",
       "    }\n",
       "\n",
       "    .dataframe thead th {\n",
       "        text-align: right;\n",
       "    }\n",
       "</style>\n",
       "<table border=\"1\" class=\"dataframe\">\n",
       "  <thead>\n",
       "    <tr style=\"text-align: right;\">\n",
       "      <th></th>\n",
       "      <th>Handphone</th>\n",
       "      <th>Baterai</th>\n",
       "      <th>Kamera</th>\n",
       "      <th>Harga</th>\n",
       "      <th>Layak Direkomendasikan</th>\n",
       "    </tr>\n",
       "  </thead>\n",
       "  <tbody>\n",
       "    <tr>\n",
       "      <th>7</th>\n",
       "      <td>H8</td>\n",
       "      <td>Cukup</td>\n",
       "      <td>Tinggi</td>\n",
       "      <td>Murah</td>\n",
       "      <td>Ya</td>\n",
       "    </tr>\n",
       "  </tbody>\n",
       "</table>\n",
       "</div>"
      ],
      "text/plain": [
       "  Handphone Baterai  Kamera  Harga Layak Direkomendasikan\n",
       "7        H8   Cukup  Tinggi  Murah                     Ya"
      ]
     },
     "execution_count": 87,
     "metadata": {},
     "output_type": "execute_result"
    }
   ],
   "source": [
    "df[df.Kamera=='Tinggi'][df[df.Kamera=='Tinggi'].Harga== 'Murah']"
   ]
  },
  {
   "cell_type": "code",
   "execution_count": 88,
   "metadata": {},
   "outputs": [
    {
     "data": {
      "text/html": [
       "<div>\n",
       "<style scoped>\n",
       "    .dataframe tbody tr th:only-of-type {\n",
       "        vertical-align: middle;\n",
       "    }\n",
       "\n",
       "    .dataframe tbody tr th {\n",
       "        vertical-align: top;\n",
       "    }\n",
       "\n",
       "    .dataframe thead th {\n",
       "        text-align: right;\n",
       "    }\n",
       "</style>\n",
       "<table border=\"1\" class=\"dataframe\">\n",
       "  <thead>\n",
       "    <tr style=\"text-align: right;\">\n",
       "      <th></th>\n",
       "      <th>Handphone</th>\n",
       "      <th>Baterai</th>\n",
       "      <th>Kamera</th>\n",
       "      <th>Harga</th>\n",
       "      <th>Layak Direkomendasikan</th>\n",
       "    </tr>\n",
       "  </thead>\n",
       "  <tbody>\n",
       "    <tr>\n",
       "      <th>0</th>\n",
       "      <td>H1</td>\n",
       "      <td>Kuat</td>\n",
       "      <td>Tinggi</td>\n",
       "      <td>Sangat Murah</td>\n",
       "      <td>Ya</td>\n",
       "    </tr>\n",
       "    <tr>\n",
       "      <th>4</th>\n",
       "      <td>H5</td>\n",
       "      <td>Cukup</td>\n",
       "      <td>Tinggi</td>\n",
       "      <td>Sangat Murah</td>\n",
       "      <td>Ya</td>\n",
       "    </tr>\n",
       "    <tr>\n",
       "      <th>9</th>\n",
       "      <td>H10</td>\n",
       "      <td>Lemah</td>\n",
       "      <td>Tinggi</td>\n",
       "      <td>Sangat Murah</td>\n",
       "      <td>Ya</td>\n",
       "    </tr>\n",
       "  </tbody>\n",
       "</table>\n",
       "</div>"
      ],
      "text/plain": [
       "  Handphone Baterai  Kamera         Harga Layak Direkomendasikan\n",
       "0        H1    Kuat  Tinggi  Sangat Murah                     Ya\n",
       "4        H5   Cukup  Tinggi  Sangat Murah                     Ya\n",
       "9       H10   Lemah  Tinggi  Sangat Murah                     Ya"
      ]
     },
     "execution_count": 88,
     "metadata": {},
     "output_type": "execute_result"
    }
   ],
   "source": [
    "df[df.Kamera=='Tinggi'][df[df.Kamera=='Tinggi'].Harga== 'Sangat Murah']"
   ]
  },
  {
   "cell_type": "code",
   "execution_count": 89,
   "metadata": {},
   "outputs": [
    {
     "data": {
      "text/html": [
       "<div>\n",
       "<style scoped>\n",
       "    .dataframe tbody tr th:only-of-type {\n",
       "        vertical-align: middle;\n",
       "    }\n",
       "\n",
       "    .dataframe tbody tr th {\n",
       "        vertical-align: top;\n",
       "    }\n",
       "\n",
       "    .dataframe thead th {\n",
       "        text-align: right;\n",
       "    }\n",
       "</style>\n",
       "<table border=\"1\" class=\"dataframe\">\n",
       "  <thead>\n",
       "    <tr style=\"text-align: right;\">\n",
       "      <th></th>\n",
       "      <th>Handphone</th>\n",
       "      <th>Baterai</th>\n",
       "      <th>Kamera</th>\n",
       "      <th>Harga</th>\n",
       "      <th>Layak Direkomendasikan</th>\n",
       "    </tr>\n",
       "  </thead>\n",
       "  <tbody>\n",
       "    <tr>\n",
       "      <th>1</th>\n",
       "      <td>H2</td>\n",
       "      <td>Kuat</td>\n",
       "      <td>Tinggi</td>\n",
       "      <td>Sangat Mahal</td>\n",
       "      <td>Ya</td>\n",
       "    </tr>\n",
       "    <tr>\n",
       "      <th>10</th>\n",
       "      <td>H11</td>\n",
       "      <td>Lemah</td>\n",
       "      <td>Tinggi</td>\n",
       "      <td>Sangat Mahal</td>\n",
       "      <td>Tidak</td>\n",
       "    </tr>\n",
       "  </tbody>\n",
       "</table>\n",
       "</div>"
      ],
      "text/plain": [
       "   Handphone Baterai  Kamera         Harga Layak Direkomendasikan\n",
       "1         H2    Kuat  Tinggi  Sangat Mahal                     Ya\n",
       "10       H11   Lemah  Tinggi  Sangat Mahal                  Tidak"
      ]
     },
     "execution_count": 89,
     "metadata": {},
     "output_type": "execute_result"
    }
   ],
   "source": [
    "df[df.Kamera=='Tinggi'][df[df.Kamera=='Tinggi'].Harga== 'Sangat Mahal']"
   ]
  },
  {
   "cell_type": "markdown",
   "metadata": {},
   "source": [
    "# 7. Next Step\n",
    "iterasi akan terus dilakukan sampai entropy pada masing-masing kelas = 0 dan kemudian dilanjutkan iterasi ke variabel lain"
   ]
  },
  {
   "cell_type": "code",
   "execution_count": null,
   "metadata": {},
   "outputs": [],
   "source": []
  }
 ],
 "metadata": {
  "kernelspec": {
   "display_name": "Python 3",
   "language": "python",
   "name": "python3"
  },
  "language_info": {
   "codemirror_mode": {
    "name": "ipython",
    "version": 3
   },
   "file_extension": ".py",
   "mimetype": "text/x-python",
   "name": "python",
   "nbconvert_exporter": "python",
   "pygments_lexer": "ipython3",
   "version": "3.7.6"
  }
 },
 "nbformat": 4,
 "nbformat_minor": 4
}
