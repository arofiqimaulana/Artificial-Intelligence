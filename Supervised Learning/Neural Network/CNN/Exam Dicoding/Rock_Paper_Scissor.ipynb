{
  "nbformat": 4,
  "nbformat_minor": 0,
  "metadata": {
    "colab": {
      "name": "Rock Paper Scissor.ipynb",
      "provenance": [],
      "collapsed_sections": []
    },
    "kernelspec": {
      "name": "python3",
      "display_name": "Python 3"
    }
  },
  "cells": [
    {
      "cell_type": "code",
      "metadata": {
        "id": "ujmRTnOdczet",
        "colab_type": "code",
        "colab": {}
      },
      "source": [
        "import pandas as pd\n",
        "import numpy as np\n",
        "import os\n",
        "import cv2\n",
        "import tensorflow as tf\n",
        "import sys\n",
        "import pathlib\n",
        "import matplotlib.pyplot as plt\n",
        "import numpy"
      ],
      "execution_count": 0,
      "outputs": []
    },
    {
      "cell_type": "markdown",
      "metadata": {
        "id": "mTF8nzaVTw6O",
        "colab_type": "text"
      },
      "source": [
        "Hal yang perlu di ingat ketika ingin melakukan analisis Deep Learning adalah data preparation"
      ]
    },
    {
      "cell_type": "markdown",
      "metadata": {
        "id": "jGYIjDOVVIht",
        "colab_type": "text"
      },
      "source": [
        "1. Alat yang digunakan bisa menggunakan jupyter notebook maupun google colab. Namun sebaiknya menggunakan google colab untuk menghindari adanya crash dependency \n",
        "\n",
        "2. Upload data bisa menggunakan local computer, upload data ke google drive maupun menggunakan url. Jika cara menggunakan url gagal atau susah bisa menggunakan cara upload data dulu ke google drive.\n",
        "\n",
        "3. Sebelum di upload ke google drive, data terlebih dahulu harus dibagi ke dua folder train dan test. \n",
        "\n",
        "4. Untuk mendapatkan path dari data yang sudah diupload, bisa menggunakan seperti cara mencari data di mac atau ubuntu. Yaitu %pwd untuk mengetahui lokasi saat ini, %ls untuk menampilkan list file dan %cd untuk berpindah direktori\n",
        "\n",
        "5. Cek dan pastikan data telah berhasil di input\n",
        "\n",
        "6. Buatlah 1 list yang berisi data training. Data yang awalnya berbentuk image perlu diubah ke dalam bentuk matriks. Warna image perlu diubah ke dalam bentuk warna grayscale agar tidak memberatkan komputasi.Image yang mempunyai warna akan membuat ukuran matriks akan menjadi besar. Padahal sebenarnya warna tidak akan mempengaruhi analisis secara siginigikan. Sehingga jika diubah ke grayscale pun tidak menjadi masalah\n",
        "\n",
        "7. Image juga bisa diubah ke dimensinya ke yang lebih kecil, efeknya gambar tidak terlalu tajam, namun sebisa mungkin masih bisa menggambarkan sebagian besar makna gambar tersebut.\n",
        "\n",
        "8. Pada data training, perlu dilakukan pengacakan urutan agar satu kelas tidak mengumpul.\n",
        "\n",
        "9. \n",
        "\n",
        "\n"
      ]
    },
    {
      "cell_type": "code",
      "metadata": {
        "id": "HnDImh8pm3wr",
        "colab_type": "code",
        "outputId": "c5528ac0-6539-46aa-8914-9a4dca022979",
        "colab": {
          "base_uri": "https://localhost:8080/",
          "height": 34
        }
      },
      "source": [
        "from google.colab import drive\n",
        "drive.mount('/content/gdrive')"
      ],
      "execution_count": 2,
      "outputs": [
        {
          "output_type": "stream",
          "text": [
            "Mounted at /content/gdrive\n"
          ],
          "name": "stdout"
        }
      ]
    },
    {
      "cell_type": "code",
      "metadata": {
        "id": "fjPaqK-PysAK",
        "colab_type": "code",
        "colab": {
          "base_uri": "https://localhost:8080/",
          "height": 34
        },
        "outputId": "21437e52-0e8b-454c-c169-5dc04c81ddf6"
      },
      "source": [
        "!ls \"content/gdrive/My Drive/DATASET\""
      ],
      "execution_count": 5,
      "outputs": [
        {
          "output_type": "stream",
          "text": [
            "ls: cannot access 'content/gdrive/My Drive/DATASET': No such file or directory\n"
          ],
          "name": "stdout"
        }
      ]
    },
    {
      "cell_type": "code",
      "metadata": {
        "id": "iGtQ2YYk07Cw",
        "colab_type": "code",
        "colab": {
          "base_uri": "https://localhost:8080/",
          "height": 34
        },
        "outputId": "9cacd146-d895-463b-a119-e1648755f205"
      },
      "source": [
        "%pwd"
      ],
      "execution_count": 6,
      "outputs": [
        {
          "output_type": "execute_result",
          "data": {
            "text/plain": [
              "'/content'"
            ]
          },
          "metadata": {
            "tags": []
          },
          "execution_count": 6
        }
      ]
    },
    {
      "cell_type": "code",
      "metadata": {
        "id": "QXCSXJ5ixUz8",
        "colab_type": "code",
        "colab": {
          "base_uri": "https://localhost:8080/",
          "height": 51
        },
        "outputId": "94cef951-5d88-444d-9c53-2a238771b8ff"
      },
      "source": [
        "%ls"
      ],
      "execution_count": 7,
      "outputs": [
        {
          "output_type": "stream",
          "text": [
            "ls: cannot access 'drive': Transport endpoint is not connected\n",
            "\u001b[0m\u001b[01;34mdrive\u001b[0m/  \u001b[01;34mgdrive\u001b[0m/  \u001b[01;34msample_data\u001b[0m/\n"
          ],
          "name": "stdout"
        }
      ]
    },
    {
      "cell_type": "code",
      "metadata": {
        "id": "zMLBOAIs1IRy",
        "colab_type": "code",
        "colab": {
          "base_uri": "https://localhost:8080/",
          "height": 34
        },
        "outputId": "e863de52-3b9c-4722-efe6-4ed2e61747d5"
      },
      "source": [
        "%cd 'gdrive'"
      ],
      "execution_count": 8,
      "outputs": [
        {
          "output_type": "stream",
          "text": [
            "/content/gdrive\n"
          ],
          "name": "stdout"
        }
      ]
    },
    {
      "cell_type": "code",
      "metadata": {
        "id": "i1mvg9d51IYR",
        "colab_type": "code",
        "colab": {
          "base_uri": "https://localhost:8080/",
          "height": 34
        },
        "outputId": "78a84490-e466-4cb0-cf28-58afc351795c"
      },
      "source": [
        "%ls"
      ],
      "execution_count": 9,
      "outputs": [
        {
          "output_type": "stream",
          "text": [
            "\u001b[0m\u001b[01;34m'My Drive'\u001b[0m/\n"
          ],
          "name": "stdout"
        }
      ]
    },
    {
      "cell_type": "code",
      "metadata": {
        "id": "0ZZcElaM1IWE",
        "colab_type": "code",
        "colab": {
          "base_uri": "https://localhost:8080/",
          "height": 34
        },
        "outputId": "d0affa94-4d7f-432b-e638-97cb6c284d9d"
      },
      "source": [
        "%cd 'My Drive'"
      ],
      "execution_count": 10,
      "outputs": [
        {
          "output_type": "stream",
          "text": [
            "/content/gdrive/My Drive\n"
          ],
          "name": "stdout"
        }
      ]
    },
    {
      "cell_type": "code",
      "metadata": {
        "id": "ybimvSWy1a5u",
        "colab_type": "code",
        "colab": {
          "base_uri": "https://localhost:8080/",
          "height": 714
        },
        "outputId": "de182d3a-cb2e-45fb-a544-80bd6ed20ddb"
      },
      "source": [
        "%ls"
      ],
      "execution_count": 11,
      "outputs": [
        {
          "output_type": "stream",
          "text": [
            " 20191114_000212.jpg\n",
            " 20191114_004753.jpg\n",
            "'API Google.gdoc'\n",
            "'A ROFIQI MAULANA_125090500111025.pdf'\n",
            "\u001b[0m\u001b[01;34m'BISMILLAH BEASISWA'\u001b[0m/\n",
            "\u001b[01;34m'BISMILLAH BLOG'\u001b[0m/\n",
            "\u001b[01;34m'BISMILLAH KERJA'\u001b[0m/\n",
            "\u001b[01;34m'BISMILLAH KOMPETISI'\u001b[0m/\n",
            "\u001b[01;34m'BISMILLAH KULIAH'\u001b[0m/\n",
            "\u001b[01;34m'BISMILLAH SKRIPSI'\u001b[0m/\n",
            "\u001b[01;34m'Colab Notebooks'\u001b[0m/\n",
            "'Curriculum Vitae [A Rofiqi Maulana].pdf'\n",
            "'Data Science.rar'\n",
            " \u001b[01;34mDATASET\u001b[0m/\n",
            " \u001b[01;34mDoa\u001b[0m/\n",
            "'DSI WEB binar.gdoc'\n",
            "'Dummy Data.gsheet'\n",
            "'Forecasting using fbpropet.gdoc'\n",
            " \u001b[01;34mFoto\u001b[0m/\n",
            " \u001b[01;34mHALBIL-ONLINE\u001b[0m/\n",
            "'Hutang Saya.gsheet'\n",
            "\u001b[01;34m'IELTS PREPARATION'\u001b[0m/\n",
            " \u001b[01;34mLAIN\u001b[0m/\n",
            " mtcars.gsheet\n",
            "'Nodeflux AI.gdoc'\n",
            "'Perjalanan Software Analitik Yang Aku Gunakan [KULIAH TO KERJA].gdoc'\n",
            "'Python Curriculum.gdoc'\n",
            "'Python Curriculum.gsheet'\n",
            " Python.rar\n",
            "'SEMINAR MINGGU.gdoc'\n",
            "'SEMINAR SABTU.gdoc'\n",
            " \u001b[01;34mSERTIFIKAT\u001b[0m/\n",
            " Survival_DSI_A.RofiqiMaulana.gdoc\n",
            "\u001b[01;34m'Tabel Statistika'\u001b[0m/\n",
            "\u001b[01;34m'Tactical Planning'\u001b[0m/\n",
            "'Tensorflow Coba.ipynb'\n",
            "'Tensorflow Exercise.ipynb'\n",
            "'Untitled document.gdoc'\n",
            "'Untitled spreadsheet.gsheet'\n",
            " UUD45.gsheet\n",
            "'Workshop Analisis Survival.gdoc'\n"
          ],
          "name": "stdout"
        }
      ]
    },
    {
      "cell_type": "code",
      "metadata": {
        "id": "hg45kxUN1a9n",
        "colab_type": "code",
        "colab": {
          "base_uri": "https://localhost:8080/",
          "height": 34
        },
        "outputId": "9f8041fb-a9a2-49e4-a5e7-5c7b88b1d13f"
      },
      "source": [
        "% cd 'DATASET'"
      ],
      "execution_count": 12,
      "outputs": [
        {
          "output_type": "stream",
          "text": [
            "/content/gdrive/My Drive/DATASET\n"
          ],
          "name": "stdout"
        }
      ]
    },
    {
      "cell_type": "code",
      "metadata": {
        "id": "epMYNJi12Oag",
        "colab_type": "code",
        "colab": {
          "base_uri": "https://localhost:8080/",
          "height": 34
        },
        "outputId": "c14ccbc7-7d8b-4206-8632-d07911a0ce68"
      },
      "source": [
        "%ls"
      ],
      "execution_count": 13,
      "outputs": [
        {
          "output_type": "stream",
          "text": [
            "\u001b[0m\u001b[01;34mRock-Paper-Scissors\u001b[0m/  rockpaperscissors.zip\n"
          ],
          "name": "stdout"
        }
      ]
    },
    {
      "cell_type": "code",
      "metadata": {
        "id": "ZeeABXfq2R5P",
        "colab_type": "code",
        "colab": {
          "base_uri": "https://localhost:8080/",
          "height": 34
        },
        "outputId": "182bd2c7-c422-4eae-e026-61e2bb297fa1"
      },
      "source": [
        "%cd 'Rock-Paper-Scissors'"
      ],
      "execution_count": 14,
      "outputs": [
        {
          "output_type": "stream",
          "text": [
            "/content/gdrive/My Drive/DATASET/Rock-Paper-Scissors\n"
          ],
          "name": "stdout"
        }
      ]
    },
    {
      "cell_type": "code",
      "metadata": {
        "id": "utA1nKz12djZ",
        "colab_type": "code",
        "colab": {
          "base_uri": "https://localhost:8080/",
          "height": 34
        },
        "outputId": "acbd3ee1-91e3-49d9-88c1-020eac91c286"
      },
      "source": [
        "%pwd"
      ],
      "execution_count": 16,
      "outputs": [
        {
          "output_type": "execute_result",
          "data": {
            "text/plain": [
              "'/content/gdrive/My Drive/DATASET/Rock-Paper-Scissors'"
            ]
          },
          "metadata": {
            "tags": []
          },
          "execution_count": 16
        }
      ]
    },
    {
      "cell_type": "code",
      "metadata": {
        "id": "rIVRoXm23M8a",
        "colab_type": "code",
        "colab": {
          "base_uri": "https://localhost:8080/",
          "height": 34
        },
        "outputId": "15bab4d4-ef31-48e7-c026-e1bbc9c7fcc8"
      },
      "source": [
        "!ls '/content/gdrive/My Drive/DATASET/Rock-Paper-Scissors'"
      ],
      "execution_count": 17,
      "outputs": [
        {
          "output_type": "stream",
          "text": [
            "Test  Train\n"
          ],
          "name": "stdout"
        }
      ]
    },
    {
      "cell_type": "code",
      "metadata": {
        "id": "mHDbwRG-3zDI",
        "colab_type": "code",
        "colab": {}
      },
      "source": [
        "data_dir = '/content/gdrive/My Drive/DATASET/Rock-Paper-Scissors/Train'"
      ],
      "execution_count": 0,
      "outputs": []
    },
    {
      "cell_type": "code",
      "metadata": {
        "id": "SNpogHD634yB",
        "colab_type": "code",
        "colab": {
          "base_uri": "https://localhost:8080/",
          "height": 269
        },
        "outputId": "f1bb5f69-414f-414b-fee4-1a39b0513189"
      },
      "source": [
        "categories = ['paper','rock','scissors']\n",
        "\n",
        "for k in categories:\n",
        "\tpath = os.path.join(data_dir,k)\n",
        "\tfor img in os.listdir(path):\n",
        "\t\timg_array = cv2.imread(os.path.join(path,img),cv2.IMREAD_GRAYSCALE)\n",
        "\t\tplt.imshow(img_array,cmap='gray')\n",
        "\t\tplt.show \n",
        "\t\tbreak\n",
        "\tbreak"
      ],
      "execution_count": 4,
      "outputs": [
        {
          "output_type": "display_data",
          "data": {
            "image/png": "[encoded data removed]",
            "text/plain": [
              "<Figure size 432x288 with 1 Axes>"
            ]
          },
          "metadata": {
            "tags": [],
            "needs_background": "light"
          }
        }
      ]
    },
    {
      "cell_type": "code",
      "metadata": {
        "id": "TaHI6vx7ebfW",
        "colab_type": "code",
        "colab": {
          "base_uri": "https://localhost:8080/",
          "height": 136
        },
        "outputId": "26d3265f-e923-41c8-fd53-16783296ba19"
      },
      "source": [
        "print(img_array)"
      ],
      "execution_count": 5,
      "outputs": [
        {
          "output_type": "stream",
          "text": [
            "[[87 85 84 ... 85 84 84]\n",
            " [84 85 84 ... 86 83 85]\n",
            " [83 84 84 ... 86 84 85]\n",
            " ...\n",
            " [86 86 86 ... 91 92 89]\n",
            " [86 86 86 ... 91 91 89]\n",
            " [86 87 86 ... 90 91 89]]\n"
          ],
          "name": "stdout"
        }
      ]
    },
    {
      "cell_type": "code",
      "metadata": {
        "id": "68cEAa7k35IB",
        "colab_type": "code",
        "colab": {
          "base_uri": "https://localhost:8080/",
          "height": 34
        },
        "outputId": "2ea2d03c-0442-4dbb-b9f6-f6c8916cedf5"
      },
      "source": [
        "print(img_array.shape)"
      ],
      "execution_count": 6,
      "outputs": [
        {
          "output_type": "stream",
          "text": [
            "(200, 300)\n"
          ],
          "name": "stdout"
        }
      ]
    },
    {
      "cell_type": "code",
      "metadata": {
        "id": "ioIOHh917WyW",
        "colab_type": "code",
        "colab": {
          "base_uri": "https://localhost:8080/",
          "height": 269
        },
        "outputId": "31a9f870-c5dc-4d06-f554-0ee514964625"
      },
      "source": [
        "img_size = 300\n",
        "\n",
        "new_array = cv2.resize(img_array,(img_size,img_size))\n",
        "plt.imshow(new_array,cmap='gray')\n",
        "plt.show()"
      ],
      "execution_count": 7,
      "outputs": [
        {
          "output_type": "display_data",
          "data": {
            "image/png": "[encoded data removed]",
            "text/plain": [
              "<Figure size 432x288 with 1 Axes>"
            ]
          },
          "metadata": {
            "tags": [],
            "needs_background": "light"
          }
        }
      ]
    },
    {
      "cell_type": "code",
      "metadata": {
        "id": "96vvi2qDCuMh",
        "colab_type": "code",
        "colab": {}
      },
      "source": [
        "\n",
        "training_data = []\n",
        "def create_training_data():\n",
        "\tfor k in categories:\n",
        "\t\tpath = os.path.join(data_dir,k)\n",
        "\t\tclass_num = categories.index(k)\n",
        "\t\tfor img in os.listdir(path):\n",
        "\t\t\ttry:\n",
        "\t\t\t\timg_array = cv2.imread(os.path.join(path,img),cv2.IMREAD_GRAYSCALE)\n",
        "\t\t\t\tnew_array = cv2.resize(img_array,(img_size,img_size))\n",
        "\t\t\t\ttraining_data.append([new_array,class_num])\n",
        "\t\t\texcept Exception as e:\n",
        "\t\t\t\tpass\n",
        "        \n",
        "create_training_data()\n",
        "    "
      ],
      "execution_count": 0,
      "outputs": []
    },
    {
      "cell_type": "code",
      "metadata": {
        "id": "LvF_8FkkLVVa",
        "colab_type": "code",
        "colab": {
          "base_uri": "https://localhost:8080/",
          "height": 34
        },
        "outputId": "13142e42-6261-407b-fbfe-fa10dd860cdc"
      },
      "source": [
        "print(len(training_data))"
      ],
      "execution_count": 9,
      "outputs": [
        {
          "output_type": "stream",
          "text": [
            "1533\n"
          ],
          "name": "stdout"
        }
      ]
    },
    {
      "cell_type": "code",
      "metadata": {
        "id": "RwgX_lqlN7hj",
        "colab_type": "code",
        "colab": {
          "base_uri": "https://localhost:8080/",
          "height": 187
        },
        "outputId": "8e2ce12d-4847-4ff4-dd35-fd54d6b6de68"
      },
      "source": [
        "for sample in training_data[:10]:\n",
        "  print(sample[1])\n",
        "\n"
      ],
      "execution_count": 10,
      "outputs": [
        {
          "output_type": "stream",
          "text": [
            "0\n",
            "0\n",
            "0\n",
            "0\n",
            "0\n",
            "0\n",
            "0\n",
            "0\n",
            "0\n",
            "0\n"
          ],
          "name": "stdout"
        }
      ]
    },
    {
      "cell_type": "code",
      "metadata": {
        "id": "GNM8kujvTpkB",
        "colab_type": "code",
        "colab": {}
      },
      "source": [
        "import random\n",
        "\n",
        "random.shuffle(training_data)"
      ],
      "execution_count": 0,
      "outputs": []
    },
    {
      "cell_type": "code",
      "metadata": {
        "id": "1XoUDvdLTs9T",
        "colab_type": "code",
        "colab": {
          "base_uri": "https://localhost:8080/",
          "height": 187
        },
        "outputId": "afa7e22a-74ab-4be5-ee15-bf62e9443c1e"
      },
      "source": [
        "for sample in training_data[:10]:\n",
        "  print(sample[1])\n"
      ],
      "execution_count": 12,
      "outputs": [
        {
          "output_type": "stream",
          "text": [
            "0\n",
            "2\n",
            "2\n",
            "2\n",
            "1\n",
            "2\n",
            "0\n",
            "1\n",
            "2\n",
            "1\n"
          ],
          "name": "stdout"
        }
      ]
    },
    {
      "cell_type": "code",
      "metadata": {
        "id": "rJRpVBsIeNtn",
        "colab_type": "code",
        "colab": {}
      },
      "source": [
        "X = []\n",
        "y = []\n",
        "for features, label in training_data:\n",
        "  X.append(features)\n",
        "  y.append(label)\n",
        "\n",
        "X = np.array(X).reshape(-1,img_size,img_size,1)\n",
        "y = np.array(y) "
      ],
      "execution_count": 0,
      "outputs": []
    },
    {
      "cell_type": "code",
      "metadata": {
        "id": "xVy4YgUjgDtz",
        "colab_type": "code",
        "colab": {}
      },
      "source": [
        "import pickle\n",
        "\n",
        "pickle_out = open(\"X.pickle\",\"wb\")\n",
        "pickle.dump(X,pickle_out)\n",
        "pickle_out.close()\n",
        "\n",
        "pickle_out = open(\"y.pickle\",\"wb\")\n",
        "pickle.dump(y,pickle_out)\n",
        "pickle_out.close()\n"
      ],
      "execution_count": 0,
      "outputs": []
    },
    {
      "cell_type": "code",
      "metadata": {
        "id": "sE0fs_L1gD44",
        "colab_type": "code",
        "colab": {}
      },
      "source": [
        "pickle_in = open(\"X.pickle\",\"rb\")\n",
        "X = pickle.load(pickle_in)"
      ],
      "execution_count": 0,
      "outputs": []
    },
    {
      "cell_type": "code",
      "metadata": {
        "id": "XsYT1ZuOp0DC",
        "colab_type": "code",
        "colab": {}
      },
      "source": [
        "pickle_in = open(\"y.pickle\",\"rb\")\n",
        "y = pickle.load(pickle_in)"
      ],
      "execution_count": 0,
      "outputs": []
    },
    {
      "cell_type": "code",
      "metadata": {
        "id": "L0AsQ3xgiNSS",
        "colab_type": "code",
        "colab": {
          "base_uri": "https://localhost:8080/",
          "height": 850
        },
        "outputId": "a7ae1f67-3a0d-4f0c-ceb2-9474cbaf95d5"
      },
      "source": [
        "X[1]"
      ],
      "execution_count": 17,
      "outputs": [
        {
          "output_type": "execute_result",
          "data": {
            "text/plain": [
              "array([[[82],\n",
              "        [83],\n",
              "        [81],\n",
              "        ...,\n",
              "        [87],\n",
              "        [86],\n",
              "        [85]],\n",
              "\n",
              "       [[82],\n",
              "        [83],\n",
              "        [81],\n",
              "        ...,\n",
              "        [86],\n",
              "        [86],\n",
              "        [85]],\n",
              "\n",
              "       [[81],\n",
              "        [83],\n",
              "        [81],\n",
              "        ...,\n",
              "        [85],\n",
              "        [85],\n",
              "        [85]],\n",
              "\n",
              "       ...,\n",
              "\n",
              "       [[85],\n",
              "        [82],\n",
              "        [84],\n",
              "        ...,\n",
              "        [87],\n",
              "        [87],\n",
              "        [87]],\n",
              "\n",
              "       [[85],\n",
              "        [84],\n",
              "        [85],\n",
              "        ...,\n",
              "        [87],\n",
              "        [88],\n",
              "        [87]],\n",
              "\n",
              "       [[85],\n",
              "        [85],\n",
              "        [84],\n",
              "        ...,\n",
              "        [87],\n",
              "        [88],\n",
              "        [87]]], dtype=uint8)"
            ]
          },
          "metadata": {
            "tags": []
          },
          "execution_count": 17
        }
      ]
    },
    {
      "cell_type": "code",
      "metadata": {
        "id": "nQYhabXJkGHx",
        "colab_type": "code",
        "colab": {}
      },
      "source": [
        "import tensorflow as tf\n",
        "from tensorflow.keras.models import Sequential\n",
        "from tensorflow.keras.layers import Dense, Dropout, Activation, Flatten, Conv2D, MaxPool2D\n",
        "import pickle"
      ],
      "execution_count": 0,
      "outputs": []
    },
    {
      "cell_type": "code",
      "metadata": {
        "id": "P-FF1Fuhk-h-",
        "colab_type": "code",
        "colab": {}
      },
      "source": [
        "X = pickle.load(open(\"X.pickle\",\"rb\"))\n",
        "y = pickle.load(open(\"y.pickle\",\"rb\"))\n",
        "X = X/225\n"
      ],
      "execution_count": 0,
      "outputs": []
    },
    {
      "cell_type": "code",
      "metadata": {
        "id": "4YSfgXlvn41-",
        "colab_type": "code",
        "colab": {
          "base_uri": "https://localhost:8080/",
          "height": 34
        },
        "outputId": "1851bba1-f71f-4e09-98c2-22bfed1df4f8"
      },
      "source": [
        "type(X)"
      ],
      "execution_count": 20,
      "outputs": [
        {
          "output_type": "execute_result",
          "data": {
            "text/plain": [
              "numpy.ndarray"
            ]
          },
          "metadata": {
            "tags": []
          },
          "execution_count": 20
        }
      ]
    },
    {
      "cell_type": "code",
      "metadata": {
        "id": "El9PJ9VnpdO6",
        "colab_type": "code",
        "colab": {
          "base_uri": "https://localhost:8080/",
          "height": 34
        },
        "outputId": "ec12b675-eaed-4b11-dbb6-3307d149fc3d"
      },
      "source": [
        "type(y)"
      ],
      "execution_count": 21,
      "outputs": [
        {
          "output_type": "execute_result",
          "data": {
            "text/plain": [
              "numpy.ndarray"
            ]
          },
          "metadata": {
            "tags": []
          },
          "execution_count": 21
        }
      ]
    },
    {
      "cell_type": "code",
      "metadata": {
        "id": "q0ltSdS5k-sX",
        "colab_type": "code",
        "colab": {
          "base_uri": "https://localhost:8080/",
          "height": 156
        },
        "outputId": "71d68ac9-8b84-4c09-d27c-e311f665f8b7"
      },
      "source": [
        "model = Sequential()\n",
        "\n",
        "model.add(Conv2D(64,(3,3),input_shape=X.shape[1:]))\n",
        "model.add(Activation(\"relu\"))\n",
        "model.add(MaxPool2D(pool_size=(2,2)))\n",
        "\n",
        "model.add(Conv2D(64,(3,3)))\n",
        "model.add(Activation(\"relu\"))\n",
        "model.add(MaxPool2D(pool_size=(2,2)))\n",
        "\n",
        "model.add(Flatten())\n",
        "model.add(Dense(64))\n",
        "\n",
        "model.add(Dense(1))\n",
        "model.add(Activation('sigmoid'))\n",
        "\n",
        "model.compile(loss=\"binary_crossentropy\",\n",
        "              optimizer=\"adam\",\n",
        "              metrics=['accuracy'])\n",
        "\n",
        "model.fit(X,y,batch_size = 32,epochs=3,validation_split = 0.1)\n"
      ],
      "execution_count": 22,
      "outputs": [
        {
          "output_type": "stream",
          "text": [
            "Epoch 1/3\n",
            "44/44 [==============================] - 243s 6s/step - loss: 1.5407 - accuracy: 0.3408 - val_loss: -7.6165 - val_accuracy: 0.2727\n",
            "Epoch 2/3\n",
            "44/44 [==============================] - 244s 6s/step - loss: 0.7515 - accuracy: 0.3387 - val_loss: -64.7629 - val_accuracy: 0.2727\n",
            "Epoch 3/3\n",
            "44/44 [==============================] - 239s 5s/step - loss: -17.5002 - accuracy: 0.3394 - val_loss: -294.4856 - val_accuracy: 0.2727\n"
          ],
          "name": "stdout"
        },
        {
          "output_type": "execute_result",
          "data": {
            "text/plain": [
              "<tensorflow.python.keras.callbacks.History at 0x7f38c8b8ff28>"
            ]
          },
          "metadata": {
            "tags": []
          },
          "execution_count": 22
        }
      ]
    },
    {
      "cell_type": "markdown",
      "metadata": {
        "id": "NKwwR8-XzPO8",
        "colab_type": "text"
      },
      "source": [
        "## REFFERENCE\n",
        "1. https://colab.research.google.com/github/tensorflow/docs/blob/master/site/en/tutorials/load_data/images.ipynb#scrollTo=rN-Pc6Zd6awg\n",
        "\n",
        "2. https://support.google.com/drive/thread/13694646?hl=en\n",
        "\n",
        "3. https://pythonprogramming.net/convolutional-neural-network-deep-learning-python-tensorflow-keras/\n",
        "\n",
        "4. https://www.youtube.com/watch?v=s-V7gKrsels"
      ]
    },
    {
      "cell_type": "code",
      "metadata": {
        "id": "TythaVufidAP",
        "colab_type": "code",
        "colab": {}
      },
      "source": [
        ""
      ],
      "execution_count": 0,
      "outputs": []
    }
  ]
}