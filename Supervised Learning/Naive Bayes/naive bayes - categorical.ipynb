{
 "cells": [
  {
   "cell_type": "code",
   "execution_count": 1,
   "id": "0b25e8a1",
   "metadata": {},
   "outputs": [],
   "source": [
    "import pandas as pd"
   ]
  },
  {
   "cell_type": "markdown",
   "id": "97b9c8f0",
   "metadata": {},
   "source": [
    "# 1. Import dataset"
   ]
  },
  {
   "cell_type": "code",
   "execution_count": 2,
   "id": "8c250636",
   "metadata": {},
   "outputs": [],
   "source": [
    "df = pd.read_csv('tennis.txt',sep=' ',header=None)"
   ]
  },
  {
   "cell_type": "code",
   "execution_count": 3,
   "id": "5656a20a",
   "metadata": {},
   "outputs": [],
   "source": [
    "df.columns = ['id','cuaca','suhu','kelembapan','arah_angin','is_play_tennis']"
   ]
  },
  {
   "cell_type": "code",
   "execution_count": 4,
   "id": "18ec7a86",
   "metadata": {},
   "outputs": [
    {
     "data": {
      "text/html": [
       "<div>\n",
       "<style scoped>\n",
       "    .dataframe tbody tr th:only-of-type {\n",
       "        vertical-align: middle;\n",
       "    }\n",
       "\n",
       "    .dataframe tbody tr th {\n",
       "        vertical-align: top;\n",
       "    }\n",
       "\n",
       "    .dataframe thead th {\n",
       "        text-align: right;\n",
       "    }\n",
       "</style>\n",
       "<table border=\"1\" class=\"dataframe\">\n",
       "  <thead>\n",
       "    <tr style=\"text-align: right;\">\n",
       "      <th></th>\n",
       "      <th>id</th>\n",
       "      <th>cuaca</th>\n",
       "      <th>suhu</th>\n",
       "      <th>kelembapan</th>\n",
       "      <th>arah_angin</th>\n",
       "      <th>is_play_tennis</th>\n",
       "    </tr>\n",
       "  </thead>\n",
       "  <tbody>\n",
       "    <tr>\n",
       "      <th>0</th>\n",
       "      <td>1</td>\n",
       "      <td>Cerah</td>\n",
       "      <td>Panas</td>\n",
       "      <td>Tinggi</td>\n",
       "      <td>Stabil</td>\n",
       "      <td>Tidak</td>\n",
       "    </tr>\n",
       "    <tr>\n",
       "      <th>1</th>\n",
       "      <td>2</td>\n",
       "      <td>Cerah</td>\n",
       "      <td>Panas</td>\n",
       "      <td>Tinggi</td>\n",
       "      <td>Labil</td>\n",
       "      <td>Tidak</td>\n",
       "    </tr>\n",
       "    <tr>\n",
       "      <th>2</th>\n",
       "      <td>3</td>\n",
       "      <td>Mendung</td>\n",
       "      <td>Panas</td>\n",
       "      <td>Tinggi</td>\n",
       "      <td>Stabil</td>\n",
       "      <td>Ya</td>\n",
       "    </tr>\n",
       "    <tr>\n",
       "      <th>3</th>\n",
       "      <td>4</td>\n",
       "      <td>Hujan</td>\n",
       "      <td>Sedang</td>\n",
       "      <td>Tinggi</td>\n",
       "      <td>Stabil</td>\n",
       "      <td>Ya</td>\n",
       "    </tr>\n",
       "    <tr>\n",
       "      <th>4</th>\n",
       "      <td>5</td>\n",
       "      <td>Hujan</td>\n",
       "      <td>Dingin</td>\n",
       "      <td>Normal</td>\n",
       "      <td>Stabil</td>\n",
       "      <td>Ya</td>\n",
       "    </tr>\n",
       "    <tr>\n",
       "      <th>5</th>\n",
       "      <td>6</td>\n",
       "      <td>Hujan</td>\n",
       "      <td>Dingin</td>\n",
       "      <td>Normal</td>\n",
       "      <td>Labil</td>\n",
       "      <td>Tidak</td>\n",
       "    </tr>\n",
       "    <tr>\n",
       "      <th>6</th>\n",
       "      <td>7</td>\n",
       "      <td>Mendung</td>\n",
       "      <td>Dingin</td>\n",
       "      <td>Normal</td>\n",
       "      <td>Labil</td>\n",
       "      <td>Ya</td>\n",
       "    </tr>\n",
       "    <tr>\n",
       "      <th>7</th>\n",
       "      <td>8</td>\n",
       "      <td>Cerah</td>\n",
       "      <td>Dingin</td>\n",
       "      <td>Tinggi</td>\n",
       "      <td>Stabil</td>\n",
       "      <td>Tidak</td>\n",
       "    </tr>\n",
       "    <tr>\n",
       "      <th>8</th>\n",
       "      <td>9</td>\n",
       "      <td>Cerah</td>\n",
       "      <td>Dingin</td>\n",
       "      <td>Normal</td>\n",
       "      <td>Stabil</td>\n",
       "      <td>Ya</td>\n",
       "    </tr>\n",
       "    <tr>\n",
       "      <th>9</th>\n",
       "      <td>10</td>\n",
       "      <td>Hujan</td>\n",
       "      <td>Sedang</td>\n",
       "      <td>Normal</td>\n",
       "      <td>Stabil</td>\n",
       "      <td>Ya</td>\n",
       "    </tr>\n",
       "    <tr>\n",
       "      <th>10</th>\n",
       "      <td>11</td>\n",
       "      <td>Cerah</td>\n",
       "      <td>Sedang</td>\n",
       "      <td>Normal</td>\n",
       "      <td>Labil</td>\n",
       "      <td>Ya</td>\n",
       "    </tr>\n",
       "    <tr>\n",
       "      <th>11</th>\n",
       "      <td>12</td>\n",
       "      <td>Mendung</td>\n",
       "      <td>Sedang</td>\n",
       "      <td>Tinggi</td>\n",
       "      <td>Labil</td>\n",
       "      <td>Ya</td>\n",
       "    </tr>\n",
       "    <tr>\n",
       "      <th>12</th>\n",
       "      <td>13</td>\n",
       "      <td>Mendung</td>\n",
       "      <td>Panas</td>\n",
       "      <td>Normal</td>\n",
       "      <td>Stabil</td>\n",
       "      <td>Ya</td>\n",
       "    </tr>\n",
       "    <tr>\n",
       "      <th>13</th>\n",
       "      <td>14</td>\n",
       "      <td>Hujan</td>\n",
       "      <td>Sedang</td>\n",
       "      <td>Tinggi</td>\n",
       "      <td>Labil</td>\n",
       "      <td>Tidak</td>\n",
       "    </tr>\n",
       "  </tbody>\n",
       "</table>\n",
       "</div>"
      ],
      "text/plain": [
       "    id    cuaca    suhu kelembapan arah_angin is_play_tennis\n",
       "0    1    Cerah   Panas     Tinggi     Stabil          Tidak\n",
       "1    2    Cerah   Panas     Tinggi      Labil          Tidak\n",
       "2    3  Mendung   Panas     Tinggi     Stabil             Ya\n",
       "3    4    Hujan  Sedang     Tinggi     Stabil             Ya\n",
       "4    5    Hujan  Dingin     Normal     Stabil             Ya\n",
       "5    6    Hujan  Dingin     Normal      Labil          Tidak\n",
       "6    7  Mendung  Dingin     Normal      Labil             Ya\n",
       "7    8    Cerah  Dingin     Tinggi     Stabil          Tidak\n",
       "8    9    Cerah  Dingin     Normal     Stabil             Ya\n",
       "9   10    Hujan  Sedang     Normal     Stabil             Ya\n",
       "10  11    Cerah  Sedang     Normal      Labil             Ya\n",
       "11  12  Mendung  Sedang     Tinggi      Labil             Ya\n",
       "12  13  Mendung   Panas     Normal     Stabil             Ya\n",
       "13  14    Hujan  Sedang     Tinggi      Labil          Tidak"
      ]
     },
     "execution_count": 4,
     "metadata": {},
     "output_type": "execute_result"
    }
   ],
   "source": [
    "df"
   ]
  },
  {
   "cell_type": "markdown",
   "id": "ae1678c9",
   "metadata": {},
   "source": [
    "# 2. Calculate probability"
   ]
  },
  {
   "cell_type": "markdown",
   "id": "3870a747",
   "metadata": {},
   "source": [
    "Jika Cuaca=Cerah, Suhu=Dingin, Kelembaban=Tinggi, Angin=Labil apakah kita sebaiknya\n",
    "main tennis ?\n",
    "\n",
    "- jika peluang bermain tennis > peluang tidak bermain tennis, maka kita sebaiknya bermain tennis\n",
    "- dan sebaliknya\n"
   ]
  },
  {
   "cell_type": "code",
   "execution_count": 13,
   "id": "df85d8f4",
   "metadata": {},
   "outputs": [
    {
     "name": "stdout",
     "output_type": "stream",
     "text": [
      "0.6428571428571429\n",
      "0.35714285714285715\n"
     ]
    }
   ],
   "source": [
    "# bermain tennis atau tidak\n",
    "total_ya = len(df[df.is_play_tennis=='Ya'])\n",
    "total_tidak = len(df[df.is_play_tennis=='Tidak'])\n",
    "\n",
    "prob_ya = total_ya/len(df)\n",
    "prob_tidak = total_tidak/len(df)\n",
    "\n",
    "print(prob_ya)\n",
    "print(prob_tidak)"
   ]
  },
  {
   "cell_type": "code",
   "execution_count": 6,
   "id": "61dda286",
   "metadata": {},
   "outputs": [],
   "source": [
    "## cuaca\n",
    "prob_cerah_dan_bermain = len(df[(df.cuaca=='Cerah')&(df.is_play_tennis=='Ya')])/total_ya\n",
    "prob_cerah_dan_tidakbermain = len(df[(df.cuaca=='Cerah')&(df.is_play_tennis=='Tidak')])/total_tidak"
   ]
  },
  {
   "cell_type": "code",
   "execution_count": 7,
   "id": "2ab05eab",
   "metadata": {},
   "outputs": [],
   "source": [
    "## suhu\n",
    "prob_dingin_dan_bermain = len(df[(df.suhu=='Dingin')&(df.is_play_tennis=='Ya')])/total_ya\n",
    "prob_dingin_dan_tidakbermain = len(df[(df.suhu=='Dingin')&(df.is_play_tennis=='Tidak')])/total_tidak"
   ]
  },
  {
   "cell_type": "code",
   "execution_count": 8,
   "id": "97b26599",
   "metadata": {},
   "outputs": [],
   "source": [
    "## kelembapan\n",
    "prob_tinggi_dan_bermain = len(df[(df.kelembapan=='Tinggi')&(df.is_play_tennis=='Ya')])/total_ya\n",
    "prob_tinggi_dan_tidakbermain = len(df[(df.kelembapan=='Tinggi')&(df.is_play_tennis=='Tidak')])/total_tidak"
   ]
  },
  {
   "cell_type": "code",
   "execution_count": 9,
   "id": "8fa81f78",
   "metadata": {},
   "outputs": [],
   "source": [
    "## arah angin\n",
    "prob_labil_dan_bermain = len(df[(df.arah_angin=='Labil')&(df.is_play_tennis=='Ya')])/total_ya\n",
    "prob_labil_dan_tidakbermain = len(df[(df.arah_angin=='Labil')&(df.is_play_tennis=='Tidak')])/total_tidak"
   ]
  },
  {
   "cell_type": "markdown",
   "id": "d72abf89",
   "metadata": {},
   "source": [
    "## 2.1 Peluang Bermain Tennis\n",
    "Kita akan menghitung peluang bermain tennis ketika\n",
    "- Cuaca=Cerah\n",
    "- Suhu=Dingin\n",
    "- Kelembaban=Tinggi\n",
    "- Angin=Labil"
   ]
  },
  {
   "cell_type": "code",
   "execution_count": 10,
   "id": "a17a34c8",
   "metadata": {},
   "outputs": [
    {
     "data": {
      "text/plain": [
       "0.005291005291005291"
      ]
     },
     "execution_count": 10,
     "metadata": {},
     "output_type": "execute_result"
    }
   ],
   "source": [
    "Peluang_Bermain_Tennis = prob_cerah_dan_bermain*prob_dingin_dan_bermain*prob_tinggi_dan_bermain*prob_labil_dan_bermain*prob_ya\n",
    "Peluang_Bermain_Tennis"
   ]
  },
  {
   "cell_type": "markdown",
   "id": "4933653e",
   "metadata": {},
   "source": [
    "## 2.2 Peluang Tidak Bermain Tennis\n",
    "Kita akan menghitung peluang tidak bermain tennis ketika\n",
    "- Cuaca=Cerah\n",
    "- Suhu=Dingin\n",
    "- Kelembaban=Tinggi\n",
    "- Angin=Labil"
   ]
  },
  {
   "cell_type": "code",
   "execution_count": 11,
   "id": "09b5d2f3",
   "metadata": {},
   "outputs": [
    {
     "data": {
      "text/plain": [
       "0.04114285714285714"
      ]
     },
     "execution_count": 11,
     "metadata": {},
     "output_type": "execute_result"
    }
   ],
   "source": [
    "Peluang_Tidak_Bermain_Tennis = prob_cerah_dan_tidakbermain*prob_dingin_dan_tidakbermain*prob_tinggi_dan_tidakbermain*prob_labil_dan_tidakbermain*prob_tidak\n",
    "Peluang_Tidak_Bermain_Tennis"
   ]
  },
  {
   "cell_type": "markdown",
   "id": "8bac6170",
   "metadata": {},
   "source": [
    "# 3. Decision\n",
    "Mana yang lebih tinggi peluangnya ?"
   ]
  },
  {
   "cell_type": "code",
   "execution_count": 15,
   "id": "55ac403b",
   "metadata": {},
   "outputs": [
    {
     "name": "stdout",
     "output_type": "stream",
     "text": [
      "Peluang Bermain Tennis = 0.005291005291005291\n",
      "Peluang Tidak Bermain Tennis = 0.04114285714285714\n"
     ]
    }
   ],
   "source": [
    "\"\"\"\n",
    "Karena peluang tidak bermain tennis > peluang bermain tennis (0.00529 > 0.0411),\n",
    "maka kita seharusnya tidak bermain tennis\n",
    "\"\"\"\n",
    "print(\"Peluang Bermain Tennis =\",Peluang_Bermain_Tennis)\n",
    "print(\"Peluang Tidak Bermain Tennis =\",Peluang_Tidak_Bermain_Tennis)"
   ]
  },
  {
   "cell_type": "code",
   "execution_count": null,
   "id": "0360a69a",
   "metadata": {},
   "outputs": [],
   "source": []
  },
  {
   "cell_type": "code",
   "execution_count": null,
   "id": "00dfec19",
   "metadata": {},
   "outputs": [],
   "source": []
  }
 ],
 "metadata": {
  "kernelspec": {
   "display_name": "Python 3 (ipykernel)",
   "language": "python",
   "name": "python3"
  },
  "language_info": {
   "codemirror_mode": {
    "name": "ipython",
    "version": 3
   },
   "file_extension": ".py",
   "mimetype": "text/x-python",
   "name": "python",
   "nbconvert_exporter": "python",
   "pygments_lexer": "ipython3",
   "version": "3.10.10"
  }
 },
 "nbformat": 4,
 "nbformat_minor": 5
}
