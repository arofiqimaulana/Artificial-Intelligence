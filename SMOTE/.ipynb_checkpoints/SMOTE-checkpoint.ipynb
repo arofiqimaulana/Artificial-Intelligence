{
 "cells": [
  {
   "attachments": {},
   "cell_type": "markdown",
   "metadata": {},
   "source": [
    "### SMOTE (Synthetic Minority Oversampling Technique)\n",
    "Metode ini digunakan pada kasus Imbalance Class. Peristiwa ini terjadi ketika banyaknya pengamatan antar kelas tidak proporsional, sehingga \n",
    "bisa ditimbulkan bias. Cara mengatasi imbalance class bisa dengan cara undersampling maupun oversampling.\n",
    "\n",
    "Beberapa hal terkait SMOTE \n",
    "1. Dilihat dari penamaan, dapat dilihat bahwa metode ini, pada kelas minoritas akan di-generate sampel baru (secara sintetik). \n",
    "2. Teknik ini dinamakan oversampling karena menambahkan data baru dalam proses analisis data. \n",
    "3. Berlainan dengan oversampling, undersampling akan mengurangi data dalam proses analisis data.\n",
    "\n",
    "\n",
    "<img src=\"image/chart1.png?1\" alt=\"Schema of adaptive filter\" height=\"100\"/>\n",
    "<img src=\"image/chart2.png?1\" alt=\"Schema of adaptive filter\" height=\"100\"/>\n",
    "<img src=\"image/chart2.png?1\" alt=\"Schema of adaptive filter\" height=\"100\"/>"
   ]
  },
  {
   "cell_type": "markdown",
   "metadata": {},
   "source": [
    "### Refference\n",
    "1. https://www.youtube.com/watch?v=FheTDyCwRdE\n",
    "2. https://machinelearningmastery.com/smote-oversampling-for-imbalanced-classification/"
   ]
  },
  {
   "cell_type": "code",
   "execution_count": null,
   "metadata": {},
   "outputs": [],
   "source": []
  },
  {
   "cell_type": "code",
   "execution_count": null,
   "metadata": {},
   "outputs": [],
   "source": []
  }
 ],
 "metadata": {
  "kernelspec": {
   "display_name": "Python 3",
   "language": "python",
   "name": "python3"
  },
  "language_info": {
   "codemirror_mode": {
    "name": "ipython",
    "version": 3
   },
   "file_extension": ".py",
   "mimetype": "text/x-python",
   "name": "python",
   "nbconvert_exporter": "python",
   "pygments_lexer": "ipython3",
   "version": "3.7.4"
  }
 },
 "nbformat": 4,
 "nbformat_minor": 2
}
