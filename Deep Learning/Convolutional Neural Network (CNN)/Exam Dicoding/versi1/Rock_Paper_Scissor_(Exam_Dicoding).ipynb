{
  "nbformat": 4,
  "nbformat_minor": 0,
  "metadata": {
    "colab": {
      "name": "Rock Paper Scissor (Exam Dicoding).ipynb",
      "provenance": [],
      "collapsed_sections": []
    },
    "kernelspec": {
      "name": "python3",
      "display_name": "Python 3"
    },
    "accelerator": "GPU"
  },
  "cells": [
    {
      "cell_type": "code",
      "metadata": {
        "id": "pk6k7P3lQxeb",
        "colab_type": "code",
        "colab": {}
      },
      "source": [
        "import tensorflow as tf\n",
        "from tensorflow.keras.optimizers import RMSprop\n",
        "from tensorflow.keras.preprocessing.image import ImageDataGenerator\n"
      ],
      "execution_count": 3,
      "outputs": []
    },
    {
      "cell_type": "code",
      "metadata": {
        "id": "7VUuT3TxRuU3",
        "colab_type": "code",
        "colab": {
          "base_uri": "https://localhost:8080/",
          "height": 224
        },
        "outputId": "cd568489-f3c7-47f3-f92c-94ac4b0b694a"
      },
      "source": [
        "!wget https://dicodingacademy.blob.core.windows.net/picodiploma/ml_pemula_academy/rockpaperscissors.zip \\\n"
      ],
      "execution_count": 6,
      "outputs": [
        {
          "output_type": "stream",
          "text": [
            "--2020-06-28 23:40:02--  https://dicodingacademy.blob.core.windows.net/picodiploma/ml_pemula_academy/rockpaperscissors.zip\n",
            "Resolving dicodingacademy.blob.core.windows.net (dicodingacademy.blob.core.windows.net)... 52.239.197.36\n",
            "Connecting to dicodingacademy.blob.core.windows.net (dicodingacademy.blob.core.windows.net)|52.239.197.36|:443... connected.\n",
            "HTTP request sent, awaiting response... 200 OK\n",
            "Length: 322873683 (308M) [application/zip]\n",
            "Saving to: ‘rockpaperscissors.zip’\n",
            "\n",
            "rockpaperscissors.z 100%[===================>] 307.92M  6.15MB/s    in 54s     \n",
            "\n",
            "2020-06-28 23:40:56 (5.73 MB/s) - ‘rockpaperscissors.zip’ saved [322873683/322873683]\n",
            "\n"
          ],
          "name": "stdout"
        }
      ]
    },
    {
      "cell_type": "code",
      "metadata": {
        "id": "RK6sThbwS_Ba",
        "colab_type": "code",
        "colab": {}
      },
      "source": [
        "import zipfile,os"
      ],
      "execution_count": 7,
      "outputs": []
    },
    {
      "cell_type": "code",
      "metadata": {
        "id": "CO8qzH0eTiyh",
        "colab_type": "code",
        "colab": {}
      },
      "source": [
        "local_zip = 'rockpaperscissors.zip'\n",
        "zip_ref = zipfile.ZipFile(local_zip,'r')\n",
        "zip_ref.extractall()\n",
        "zip_ref.close()\n"
      ],
      "execution_count": 12,
      "outputs": []
    },
    {
      "cell_type": "code",
      "metadata": {
        "id": "OwdKCbaLT_m8",
        "colab_type": "code",
        "colab": {}
      },
      "source": [
        "basedir = 'rockpaperscissors/rps-cv-images'"
      ],
      "execution_count": 13,
      "outputs": []
    },
    {
      "cell_type": "code",
      "metadata": {
        "id": "U_o2tBh9UzuZ",
        "colab_type": "code",
        "colab": {
          "base_uri": "https://localhost:8080/",
          "height": 34
        },
        "outputId": "36ca292b-9a36-457b-ed03-7e147a674318"
      },
      "source": [
        "os.listdir(basedir)"
      ],
      "execution_count": 14,
      "outputs": [
        {
          "output_type": "execute_result",
          "data": {
            "text/plain": [
              "['scissors', 'README_rpc-cv-images.txt', 'paper', 'rock']"
            ]
          },
          "metadata": {
            "tags": []
          },
          "execution_count": 14
        }
      ]
    },
    {
      "cell_type": "code",
      "metadata": {
        "id": "mGUXg-AvU4IU",
        "colab_type": "code",
        "colab": {}
      },
      "source": [
        "data_generator = ImageDataGenerator(\n",
        "\trescale=1./225,\n",
        "\trotation_range=20,\n",
        "\thorizontal_flip=True,\n",
        "\tshear_range=0.2,\n",
        "\tfill_mode='wrap',\n",
        "\tvalidation_split = 0.2\n",
        "\t)\n"
      ],
      "execution_count": 15,
      "outputs": []
    },
    {
      "cell_type": "code",
      "metadata": {
        "id": "tL2uHen8VLNz",
        "colab_type": "code",
        "colab": {
          "base_uri": "https://localhost:8080/",
          "height": 34
        },
        "outputId": "b627f1ad-5b29-4421-f44a-07a6d2d14e82"
      },
      "source": [
        "train_generator = data_generator.flow_from_directory(\n",
        "\tbasedir,\n",
        "\ttarget_size=(100,150),\n",
        "\tshuffle=True,\n",
        "\tsubset='training'\n",
        "\t)"
      ],
      "execution_count": 17,
      "outputs": [
        {
          "output_type": "stream",
          "text": [
            "Found 1751 images belonging to 3 classes.\n"
          ],
          "name": "stdout"
        }
      ]
    },
    {
      "cell_type": "code",
      "metadata": {
        "id": "xnT8u-IFVOoR",
        "colab_type": "code",
        "colab": {
          "base_uri": "https://localhost:8080/",
          "height": 34
        },
        "outputId": "ec5fd8f4-8de6-4ad9-99e4-a876fd290aac"
      },
      "source": [
        "\n",
        "validation_generator = data_generator.flow_from_directory(\n",
        "\tbasedir,\n",
        "  target_size=(100,150),\n",
        "\tsubset='validation'\n",
        "\t)"
      ],
      "execution_count": 18,
      "outputs": [
        {
          "output_type": "stream",
          "text": [
            "Found 437 images belonging to 3 classes.\n"
          ],
          "name": "stdout"
        }
      ]
    },
    {
      "cell_type": "code",
      "metadata": {
        "id": "LL0uo-gnVjbx",
        "colab_type": "code",
        "colab": {}
      },
      "source": [
        "model = tf.keras.models.Sequential([\n",
        "  tf.keras.layers.Conv2D(16,(3,3),activation='relu',input_shape=(100,150,3)),\n",
        "  tf.keras.layers.MaxPooling2D(2,2),\n",
        "  tf.keras.layers.Conv2D(32,(3,3),activation='relu'),\n",
        "  tf.keras.layers.MaxPooling2D(2,2),\n",
        "  tf.keras.layers.Conv2D(64,(3,3),activation='relu'),\n",
        "  tf.keras.layers.MaxPooling2D(2,2),\n",
        "  tf.keras.layers.Flatten(),\n",
        "  tf.keras.layers.Dense(512,activation='relu'),\n",
        "  tf.keras.layers.Dense(3,activation='softmax')\n",
        "])"
      ],
      "execution_count": 23,
      "outputs": []
    },
    {
      "cell_type": "code",
      "metadata": {
        "id": "ttkt5UqdXVYv",
        "colab_type": "code",
        "colab": {}
      },
      "source": [
        "model.compile(loss='categorical_crossentropy',\n",
        "              optimizer=tf.optimizers.Adam(),\n",
        "              metrics=['accuracy'])"
      ],
      "execution_count": 24,
      "outputs": []
    },
    {
      "cell_type": "code",
      "metadata": {
        "id": "Ub9MgdzDX5Tq",
        "colab_type": "code",
        "colab": {
          "base_uri": "https://localhost:8080/",
          "height": 578
        },
        "outputId": "23ad1882-5624-41da-ec37-9816693dc7e8"
      },
      "source": [
        "model.fit(\n",
        "    train_generator,\n",
        "    steps_per_epoch = 16,\n",
        "    epochs=16,\n",
        "    validation_data=validation_generator,\n",
        "    validation_steps=4,\n",
        "    verbose=2\n",
        ")"
      ],
      "execution_count": 25,
      "outputs": [
        {
          "output_type": "stream",
          "text": [
            "Epoch 1/16\n",
            "16/16 - 4s - loss: 1.1628 - accuracy: 0.3618 - val_loss: 1.0307 - val_accuracy: 0.4297\n",
            "Epoch 2/16\n",
            "16/16 - 4s - loss: 0.8973 - accuracy: 0.6044 - val_loss: 0.6918 - val_accuracy: 0.7969\n",
            "Epoch 3/16\n",
            "16/16 - 3s - loss: 0.5311 - accuracy: 0.7932 - val_loss: 0.3806 - val_accuracy: 0.8828\n",
            "Epoch 4/16\n",
            "16/16 - 3s - loss: 0.3492 - accuracy: 0.8787 - val_loss: 0.2974 - val_accuracy: 0.8984\n",
            "Epoch 5/16\n",
            "16/16 - 3s - loss: 0.3164 - accuracy: 0.8867 - val_loss: 0.3043 - val_accuracy: 0.9141\n",
            "Epoch 6/16\n",
            "16/16 - 4s - loss: 0.3417 - accuracy: 0.8867 - val_loss: 0.2784 - val_accuracy: 0.9375\n",
            "Epoch 7/16\n",
            "16/16 - 4s - loss: 0.2593 - accuracy: 0.9066 - val_loss: 0.1747 - val_accuracy: 0.9375\n",
            "Epoch 8/16\n",
            "16/16 - 4s - loss: 0.2303 - accuracy: 0.9062 - val_loss: 0.1777 - val_accuracy: 0.9297\n",
            "Epoch 9/16\n",
            "16/16 - 4s - loss: 0.2483 - accuracy: 0.9219 - val_loss: 0.1891 - val_accuracy: 0.9375\n",
            "Epoch 10/16\n",
            "16/16 - 4s - loss: 0.1769 - accuracy: 0.9375 - val_loss: 0.1454 - val_accuracy: 0.9531\n",
            "Epoch 11/16\n",
            "16/16 - 4s - loss: 0.1892 - accuracy: 0.9355 - val_loss: 0.1398 - val_accuracy: 0.9453\n",
            "Epoch 12/16\n",
            "16/16 - 3s - loss: 0.1083 - accuracy: 0.9602 - val_loss: 0.2170 - val_accuracy: 0.9375\n",
            "Epoch 13/16\n",
            "16/16 - 3s - loss: 0.1275 - accuracy: 0.9523 - val_loss: 0.1874 - val_accuracy: 0.9375\n",
            "Epoch 14/16\n",
            "16/16 - 4s - loss: 0.1977 - accuracy: 0.9336 - val_loss: 0.0661 - val_accuracy: 0.9922\n",
            "Epoch 15/16\n",
            "16/16 - 3s - loss: 0.1356 - accuracy: 0.9622 - val_loss: 0.0545 - val_accuracy: 0.9766\n",
            "Epoch 16/16\n",
            "16/16 - 4s - loss: 0.1375 - accuracy: 0.9551 - val_loss: 0.1165 - val_accuracy: 0.9609\n"
          ],
          "name": "stdout"
        },
        {
          "output_type": "execute_result",
          "data": {
            "text/plain": [
              "<tensorflow.python.keras.callbacks.History at 0x7f9a10193278>"
            ]
          },
          "metadata": {
            "tags": []
          },
          "execution_count": 25
        }
      ]
    },
    {
      "cell_type": "code",
      "metadata": {
        "id": "MrS9eMZhYc_i",
        "colab_type": "code",
        "colab": {}
      },
      "source": [
        ""
      ],
      "execution_count": null,
      "outputs": []
    }
  ]
}