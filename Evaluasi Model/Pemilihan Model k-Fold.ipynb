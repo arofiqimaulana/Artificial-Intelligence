{
 "cells": [
  {
   "cell_type": "code",
   "execution_count": 1,
   "id": "b1494999",
   "metadata": {},
   "outputs": [],
   "source": [
    "from sklearn.model_selection import cross_val_score\n",
    "from sklearn.datasets import make_regression\n",
    "from sklearn.linear_model import LinearRegression, Ridge, Lasso\n",
    "from sklearn.metrics import mean_squared_error\n",
    "\n",
    "# Siapkan data\n",
    "X, y = make_regression(n_samples=1000, n_features=20, noise=0.1)"
   ]
  },
  {
   "cell_type": "code",
   "execution_count": 2,
   "id": "6dbe1349",
   "metadata": {},
   "outputs": [],
   "source": [
    "# Daftar model kandidat\n",
    "models = {\n",
    "    \"LinearRegression\": LinearRegression(),\n",
    "    \"Ridge\": Ridge(),\n",
    "    \"Lasso\": Lasso()\n",
    "}"
   ]
  },
  {
   "cell_type": "code",
   "execution_count": 3,
   "id": "5bc016ce",
   "metadata": {},
   "outputs": [],
   "source": [
    "# Lakukan K-Fold cross-validation dan simpan hasilnya\n",
    "results = {}\n",
    "for name, model in models.items():\n",
    "    scores = cross_val_score(model, X, y, cv=5, scoring=\"neg_mean_squared_error\")\n",
    "    results[name] = scores"
   ]
  },
  {
   "cell_type": "code",
   "execution_count": 4,
   "id": "b570c1e2",
   "metadata": {},
   "outputs": [
    {
     "name": "stdout",
     "output_type": "stream",
     "text": [
      "LinearRegression: Mean MSE: 0.010472614727625704, Std: 0.0006805636401459765\n",
      "Ridge: Mean MSE: 0.08890350096962156, Std: 0.012665888555955131\n",
      "Lasso: Mean MSE: 10.110753043500832, Std: 1.312854949650279\n"
     ]
    }
   ],
   "source": [
    "# Bandingkan kinerja\n",
    "for name, scores in results.items():\n",
    "    print(f\"{name}: Mean MSE: {-scores.mean()}, Std: {scores.std()}\")"
   ]
  },
  {
   "cell_type": "code",
   "execution_count": 5,
   "id": "203e76a7",
   "metadata": {},
   "outputs": [
    {
     "name": "stdout",
     "output_type": "stream",
     "text": [
      "Model terbaik: LinearRegression\n"
     ]
    }
   ],
   "source": [
    "# Pilih model dengan rata-rata MSE terendah (karena kita menggunakan negatif, pilih nilai terbesar)\n",
    "best_model_name = max(results, key=lambda x: results[x].mean())\n",
    "best_model = models[best_model_name]\n",
    "print(f\"Model terbaik: {best_model_name}\")"
   ]
  },
  {
   "cell_type": "code",
   "execution_count": null,
   "id": "eadab7fa",
   "metadata": {},
   "outputs": [],
   "source": []
  }
 ],
 "metadata": {
  "kernelspec": {
   "display_name": "Python 3 (ipykernel)",
   "language": "python",
   "name": "python3"
  },
  "language_info": {
   "codemirror_mode": {
    "name": "ipython",
    "version": 3
   },
   "file_extension": ".py",
   "mimetype": "text/x-python",
   "name": "python",
   "nbconvert_exporter": "python",
   "pygments_lexer": "ipython3",
   "version": "3.10.10"
  }
 },
 "nbformat": 4,
 "nbformat_minor": 5
}
