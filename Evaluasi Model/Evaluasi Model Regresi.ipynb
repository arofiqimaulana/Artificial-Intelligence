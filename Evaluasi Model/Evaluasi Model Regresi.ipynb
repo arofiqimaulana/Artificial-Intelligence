{
 "cells": [
  {
   "cell_type": "code",
   "execution_count": 5,
   "metadata": {
    "colab": {},
    "colab_type": "code",
    "executionInfo": {
     "elapsed": 2318,
     "status": "ok",
     "timestamp": 1593311792635,
     "user": {
      "displayName": "Galuh Sahid",
      "photoUrl": "https://lh3.googleusercontent.com/a-/AOh14GjWQwMfkxYcPgWkCjwXHvqwc9wEl-WA6ojDsyJUfA=s64",
      "userId": "03255550178648543649"
     },
     "user_tz": -420
    },
    "id": "gmshJj25kT0Q"
   },
   "outputs": [],
   "source": [
    "import numpy as np\n",
    "import pandas as pd\n",
    "import statsmodels.api as sm\n",
    "import matplotlib.pyplot as plt"
   ]
  },
  {
   "cell_type": "markdown",
   "metadata": {},
   "source": [
    "# 1. Import data"
   ]
  },
  {
   "cell_type": "code",
   "execution_count": 10,
   "metadata": {},
   "outputs": [],
   "source": [
    "url = 'https://raw.githubusercontent.com/arofiqimaulana/Statistics/master/Linear%20Regression/regresi-data.csv'"
   ]
  },
  {
   "cell_type": "code",
   "execution_count": 11,
   "metadata": {},
   "outputs": [],
   "source": [
    "df = pd.read_csv(url)"
   ]
  },
  {
   "cell_type": "code",
   "execution_count": 12,
   "metadata": {},
   "outputs": [
    {
     "data": {
      "text/html": [
       "<div>\n",
       "<style scoped>\n",
       "    .dataframe tbody tr th:only-of-type {\n",
       "        vertical-align: middle;\n",
       "    }\n",
       "\n",
       "    .dataframe tbody tr th {\n",
       "        vertical-align: top;\n",
       "    }\n",
       "\n",
       "    .dataframe thead th {\n",
       "        text-align: right;\n",
       "    }\n",
       "</style>\n",
       "<table border=\"1\" class=\"dataframe\">\n",
       "  <thead>\n",
       "    <tr style=\"text-align: right;\">\n",
       "      <th></th>\n",
       "      <th>X1.1</th>\n",
       "      <th>X1.2</th>\n",
       "      <th>X1.3</th>\n",
       "      <th>X1.4</th>\n",
       "      <th>X1.5</th>\n",
       "      <th>X1</th>\n",
       "      <th>X2.1</th>\n",
       "      <th>X2.2</th>\n",
       "      <th>X2.3</th>\n",
       "      <th>X2.4</th>\n",
       "      <th>...</th>\n",
       "      <th>X2</th>\n",
       "      <th>Y1.1</th>\n",
       "      <th>Y1.2</th>\n",
       "      <th>Y1.3</th>\n",
       "      <th>Y1.4</th>\n",
       "      <th>Y1.5</th>\n",
       "      <th>Y</th>\n",
       "      <th>RES_1</th>\n",
       "      <th>e2</th>\n",
       "      <th>RES_2</th>\n",
       "    </tr>\n",
       "  </thead>\n",
       "  <tbody>\n",
       "    <tr>\n",
       "      <th>0</th>\n",
       "      <td>4</td>\n",
       "      <td>2</td>\n",
       "      <td>4</td>\n",
       "      <td>4</td>\n",
       "      <td>4</td>\n",
       "      <td>18</td>\n",
       "      <td>4</td>\n",
       "      <td>4</td>\n",
       "      <td>4</td>\n",
       "      <td>4</td>\n",
       "      <td>...</td>\n",
       "      <td>20</td>\n",
       "      <td>3</td>\n",
       "      <td>3</td>\n",
       "      <td>4</td>\n",
       "      <td>2</td>\n",
       "      <td>4</td>\n",
       "      <td>16</td>\n",
       "      <td>-1.040131</td>\n",
       "      <td>1.081873</td>\n",
       "      <td>-3.307081</td>\n",
       "    </tr>\n",
       "    <tr>\n",
       "      <th>1</th>\n",
       "      <td>5</td>\n",
       "      <td>4</td>\n",
       "      <td>5</td>\n",
       "      <td>4</td>\n",
       "      <td>4</td>\n",
       "      <td>22</td>\n",
       "      <td>5</td>\n",
       "      <td>5</td>\n",
       "      <td>5</td>\n",
       "      <td>5</td>\n",
       "      <td>...</td>\n",
       "      <td>25</td>\n",
       "      <td>5</td>\n",
       "      <td>5</td>\n",
       "      <td>5</td>\n",
       "      <td>3</td>\n",
       "      <td>4</td>\n",
       "      <td>22</td>\n",
       "      <td>1.673318</td>\n",
       "      <td>2.799993</td>\n",
       "      <td>-1.097339</td>\n",
       "    </tr>\n",
       "    <tr>\n",
       "      <th>2</th>\n",
       "      <td>4</td>\n",
       "      <td>5</td>\n",
       "      <td>4</td>\n",
       "      <td>3</td>\n",
       "      <td>1</td>\n",
       "      <td>17</td>\n",
       "      <td>4</td>\n",
       "      <td>3</td>\n",
       "      <td>3</td>\n",
       "      <td>3</td>\n",
       "      <td>...</td>\n",
       "      <td>18</td>\n",
       "      <td>3</td>\n",
       "      <td>3</td>\n",
       "      <td>3</td>\n",
       "      <td>1</td>\n",
       "      <td>1</td>\n",
       "      <td>11</td>\n",
       "      <td>-5.080004</td>\n",
       "      <td>25.806436</td>\n",
       "      <td>21.216757</td>\n",
       "    </tr>\n",
       "    <tr>\n",
       "      <th>3</th>\n",
       "      <td>4</td>\n",
       "      <td>5</td>\n",
       "      <td>4</td>\n",
       "      <td>4</td>\n",
       "      <td>5</td>\n",
       "      <td>22</td>\n",
       "      <td>5</td>\n",
       "      <td>3</td>\n",
       "      <td>5</td>\n",
       "      <td>5</td>\n",
       "      <td>...</td>\n",
       "      <td>23</td>\n",
       "      <td>4</td>\n",
       "      <td>5</td>\n",
       "      <td>5</td>\n",
       "      <td>3</td>\n",
       "      <td>3</td>\n",
       "      <td>20</td>\n",
       "      <td>0.042624</td>\n",
       "      <td>0.001817</td>\n",
       "      <td>-4.103035</td>\n",
       "    </tr>\n",
       "    <tr>\n",
       "      <th>4</th>\n",
       "      <td>5</td>\n",
       "      <td>4</td>\n",
       "      <td>4</td>\n",
       "      <td>2</td>\n",
       "      <td>4</td>\n",
       "      <td>19</td>\n",
       "      <td>4</td>\n",
       "      <td>4</td>\n",
       "      <td>4</td>\n",
       "      <td>4</td>\n",
       "      <td>...</td>\n",
       "      <td>21</td>\n",
       "      <td>4</td>\n",
       "      <td>4</td>\n",
       "      <td>4</td>\n",
       "      <td>5</td>\n",
       "      <td>4</td>\n",
       "      <td>21</td>\n",
       "      <td>3.184394</td>\n",
       "      <td>10.140368</td>\n",
       "      <td>5.848380</td>\n",
       "    </tr>\n",
       "  </tbody>\n",
       "</table>\n",
       "<p>5 rows × 21 columns</p>\n",
       "</div>"
      ],
      "text/plain": [
       "   X1.1  X1.2  X1.3  X1.4  X1.5  X1  X2.1  X2.2  X2.3  X2.4  ...  X2  Y1.1   \n",
       "0     4     2     4     4     4  18     4     4     4     4  ...  20     3  \\\n",
       "1     5     4     5     4     4  22     5     5     5     5  ...  25     5   \n",
       "2     4     5     4     3     1  17     4     3     3     3  ...  18     3   \n",
       "3     4     5     4     4     5  22     5     3     5     5  ...  23     4   \n",
       "4     5     4     4     2     4  19     4     4     4     4  ...  21     4   \n",
       "\n",
       "   Y1.2  Y1.3  Y1.4  Y1.5   Y     RES_1         e2      RES_2  \n",
       "0     3     4     2     4  16 -1.040131   1.081873  -3.307081  \n",
       "1     5     5     3     4  22  1.673318   2.799993  -1.097339  \n",
       "2     3     3     1     1  11 -5.080004  25.806436  21.216757  \n",
       "3     5     5     3     3  20  0.042624   0.001817  -4.103035  \n",
       "4     4     4     5     4  21  3.184394  10.140368   5.848380  \n",
       "\n",
       "[5 rows x 21 columns]"
      ]
     },
     "execution_count": 12,
     "metadata": {},
     "output_type": "execute_result"
    }
   ],
   "source": [
    "df.head()"
   ]
  },
  {
   "cell_type": "markdown",
   "metadata": {},
   "source": [
    "# 2. Pendugaan Parameter (Modeling)"
   ]
  },
  {
   "cell_type": "code",
   "execution_count": 13,
   "metadata": {},
   "outputs": [],
   "source": [
    "X = df[['X1', 'X2']]\n",
    "y = df['Y']\n",
    "model = sm.OLS(y, sm.add_constant(X)).fit()"
   ]
  },
  {
   "cell_type": "markdown",
   "metadata": {},
   "source": [
    "# 3. Uji Asumsi Klasik"
   ]
  },
  {
   "cell_type": "markdown",
   "metadata": {},
   "source": [
    "## 3.1 Uji Homoskedastisitas\n",
    "Kita akan menggunakan uji Breusch Pagan"
   ]
  },
  {
   "cell_type": "code",
   "execution_count": 14,
   "metadata": {},
   "outputs": [],
   "source": [
    "from statsmodels.stats.diagnostic import het_breuschpagan"
   ]
  },
  {
   "cell_type": "code",
   "execution_count": 15,
   "metadata": {},
   "outputs": [],
   "source": [
    "_, p_value, _, _ = het_breuschpagan(model.resid, X)"
   ]
  },
  {
   "cell_type": "code",
   "execution_count": 16,
   "metadata": {},
   "outputs": [
    {
     "data": {
      "text/plain": [
       "9.326813654447332e-06"
      ]
     },
     "execution_count": 16,
     "metadata": {},
     "output_type": "execute_result"
    }
   ],
   "source": [
    "\"\"\"\n",
    "Karena pvalue (9.326813654447332e-06) > alpha (5%) maka asumsi homoskedastisitas terpenuhi\n",
    "\"\"\"\n",
    "p_value"
   ]
  },
  {
   "cell_type": "markdown",
   "metadata": {},
   "source": [
    "## 3.2 Uji Non-Autokorelasi\n",
    "kita akan menggunakan uji durbin watson"
   ]
  },
  {
   "cell_type": "code",
   "execution_count": 17,
   "metadata": {},
   "outputs": [],
   "source": [
    "from statsmodels.stats.stattools import durbin_watson"
   ]
  },
  {
   "cell_type": "code",
   "execution_count": 18,
   "metadata": {},
   "outputs": [],
   "source": [
    "dw_statistic = durbin_watson(model.resid)"
   ]
  },
  {
   "cell_type": "code",
   "execution_count": 19,
   "metadata": {},
   "outputs": [
    {
     "data": {
      "text/plain": [
       "2.2589635152651244"
      ]
     },
     "execution_count": 19,
     "metadata": {},
     "output_type": "execute_result"
    }
   ],
   "source": [
    "\"\"\"\n",
    "karena dw_statistic berada diantara 1.5 dan 2.5 maka asumsi non-autokorelasi terpenuhi\n",
    "\"\"\"\n",
    "dw_statistic"
   ]
  },
  {
   "cell_type": "markdown",
   "metadata": {},
   "source": [
    "## 3.3 Uji Normalitas\n",
    "Kita akan menggunakan uji kolmogorov smirnov."
   ]
  },
  {
   "cell_type": "code",
   "execution_count": 20,
   "metadata": {},
   "outputs": [],
   "source": [
    "from scipy.stats import kstest, norm"
   ]
  },
  {
   "cell_type": "code",
   "execution_count": 12,
   "metadata": {},
   "outputs": [],
   "source": [
    "ks_statistic, p_value = kstest(model.resid, 'norm')"
   ]
  },
  {
   "cell_type": "code",
   "execution_count": 13,
   "metadata": {},
   "outputs": [
    {
     "data": {
      "text/plain": [
       "0.007661037699126738"
      ]
     },
     "execution_count": 13,
     "metadata": {},
     "output_type": "execute_result"
    }
   ],
   "source": [
    "\"\"\"\n",
    "karena pvalue (0.07) > alpha (0.05) maka asumsi normalitas sisaan terpenuhi\n",
    "\"\"\"\n",
    "p_value"
   ]
  },
  {
   "cell_type": "markdown",
   "metadata": {},
   "source": [
    "## 3.4 Uji Non-Multikolinieritas\n",
    "Kita akan menggunakan VIF"
   ]
  },
  {
   "cell_type": "code",
   "execution_count": 14,
   "metadata": {},
   "outputs": [],
   "source": [
    "from statsmodels.stats.outliers_influence import variance_inflation_factor"
   ]
  },
  {
   "cell_type": "code",
   "execution_count": 15,
   "metadata": {},
   "outputs": [],
   "source": [
    "# Tambahkan kolom konstanta untuk menghitung VIF\n",
    "X = sm.add_constant(X)\n",
    "\n",
    "# Inisialisasi list untuk menyimpan hasil VIF\n",
    "vif_data = pd.DataFrame()\n",
    "vif_data[\"Variable\"] = X.columns\n",
    "vif_data[\"VIF\"] = [variance_inflation_factor(X.values, i) for i in range(X.shape[1])]"
   ]
  },
  {
   "cell_type": "code",
   "execution_count": 16,
   "metadata": {},
   "outputs": [
    {
     "data": {
      "text/html": [
       "<div>\n",
       "<style scoped>\n",
       "    .dataframe tbody tr th:only-of-type {\n",
       "        vertical-align: middle;\n",
       "    }\n",
       "\n",
       "    .dataframe tbody tr th {\n",
       "        vertical-align: top;\n",
       "    }\n",
       "\n",
       "    .dataframe thead th {\n",
       "        text-align: right;\n",
       "    }\n",
       "</style>\n",
       "<table border=\"1\" class=\"dataframe\">\n",
       "  <thead>\n",
       "    <tr style=\"text-align: right;\">\n",
       "      <th></th>\n",
       "      <th>Variable</th>\n",
       "      <th>VIF</th>\n",
       "    </tr>\n",
       "  </thead>\n",
       "  <tbody>\n",
       "    <tr>\n",
       "      <th>0</th>\n",
       "      <td>const</td>\n",
       "      <td>51.603337</td>\n",
       "    </tr>\n",
       "    <tr>\n",
       "      <th>1</th>\n",
       "      <td>X1</td>\n",
       "      <td>1.531493</td>\n",
       "    </tr>\n",
       "    <tr>\n",
       "      <th>2</th>\n",
       "      <td>X2</td>\n",
       "      <td>1.531493</td>\n",
       "    </tr>\n",
       "  </tbody>\n",
       "</table>\n",
       "</div>"
      ],
      "text/plain": [
       "  Variable        VIF\n",
       "0    const  51.603337\n",
       "1       X1   1.531493\n",
       "2       X2   1.531493"
      ]
     },
     "execution_count": 16,
     "metadata": {},
     "output_type": "execute_result"
    }
   ],
   "source": [
    "\"\"\"\n",
    "karena semua nilai VIF < 10 maka asumsi non-multikolinieritas terpenuhi \n",
    "\"\"\"\n",
    "vif_data"
   ]
  },
  {
   "cell_type": "markdown",
   "metadata": {},
   "source": [
    "# 4. Goodness of fit"
   ]
  },
  {
   "cell_type": "code",
   "execution_count": 17,
   "metadata": {},
   "outputs": [
    {
     "name": "stdout",
     "output_type": "stream",
     "text": [
      "Setidaknya satu variabel independen signifikan secara simultan.\n"
     ]
    }
   ],
   "source": [
    "## Uji Simultan\n",
    "# Uji simultan (F-Test)\n",
    "f_statistic = model.fvalue\n",
    "p_value = model.f_pvalue\n",
    "\n",
    "if p_value < 0.05:\n",
    "    print(\"Setidaknya satu variabel independen signifikan secara simultan.\")\n",
    "else:\n",
    "    print(\"Tidak ada yang signifikan secara simultan.\")"
   ]
  },
  {
   "cell_type": "code",
   "execution_count": 18,
   "metadata": {},
   "outputs": [
    {
     "name": "stdout",
     "output_type": "stream",
     "text": [
      "                            OLS Regression Results                            \n",
      "==============================================================================\n",
      "Dep. Variable:                      Y   R-squared:                       0.567\n",
      "Model:                            OLS   Adj. R-squared:                  0.552\n",
      "Method:                 Least Squares   F-statistic:                     37.38\n",
      "Date:                Tue, 17 Oct 2023   Prob (F-statistic):           4.25e-11\n",
      "Time:                        00:12:27   Log-Likelihood:                -128.60\n",
      "No. Observations:                  60   AIC:                             263.2\n",
      "Df Residuals:                      57   BIC:                             269.5\n",
      "Df Model:                           2                                         \n",
      "Covariance Type:            nonrobust                                         \n",
      "==============================================================================\n",
      "                 coef    std err          t      P>|t|      [0.025      0.975]\n",
      "------------------------------------------------------------------------------\n",
      "const          2.7123      1.963      1.381      0.173      -1.219       6.644\n",
      "X1             0.5908      0.102      5.775      0.000       0.386       0.796\n",
      "X2             0.1847      0.103      1.798      0.078      -0.021       0.390\n",
      "==============================================================================\n",
      "Omnibus:                        0.460   Durbin-Watson:                   2.259\n",
      "Prob(Omnibus):                  0.795   Jarque-Bera (JB):                0.325\n",
      "Skew:                           0.178   Prob(JB):                        0.850\n",
      "Kurtosis:                       2.941   Cond. No.                         215.\n",
      "==============================================================================\n",
      "\n",
      "Notes:\n",
      "[1] Standard Errors assume that the covariance matrix of the errors is correctly specified.\n"
     ]
    }
   ],
   "source": [
    "## Uji Parsial\n",
    "print(model.summary())"
   ]
  },
  {
   "cell_type": "code",
   "execution_count": 19,
   "metadata": {},
   "outputs": [
    {
     "name": "stdout",
     "output_type": "stream",
     "text": [
      "R-Square: 0.5674188566834188\n"
     ]
    }
   ],
   "source": [
    "## R-Square\n",
    "r_square = model.rsquared\n",
    "print(\"R-Square:\", r_square)"
   ]
  },
  {
   "cell_type": "markdown",
   "metadata": {},
   "source": [
    "# 5. Cross Validation"
   ]
  },
  {
   "cell_type": "code",
   "execution_count": 2,
   "metadata": {},
   "outputs": [],
   "source": [
    "from sklearn.linear_model import LinearRegression\n",
    "from sklearn.model_selection import cross_val_score\n",
    "from sklearn.model_selection import train_test_split"
   ]
  },
  {
   "cell_type": "code",
   "execution_count": 21,
   "metadata": {},
   "outputs": [],
   "source": [
    "X_train, X_test, y_train, y_test = train_test_split(X, y, random_state=42, test_size=.33)"
   ]
  },
  {
   "cell_type": "code",
   "execution_count": 23,
   "metadata": {},
   "outputs": [],
   "source": [
    "from sklearn import linear_model\n",
    "lr = linear_model.LinearRegression()"
   ]
  },
  {
   "cell_type": "code",
   "execution_count": 24,
   "metadata": {},
   "outputs": [],
   "source": [
    "model = lr.fit(X_train, y_train)"
   ]
  },
  {
   "cell_type": "code",
   "execution_count": 25,
   "metadata": {},
   "outputs": [],
   "source": [
    "predictions = model.predict(X_test)"
   ]
  },
  {
   "cell_type": "code",
   "execution_count": 26,
   "metadata": {},
   "outputs": [
    {
     "name": "stdout",
     "output_type": "stream",
     "text": [
      "RMSE:  4.006508590241532\n"
     ]
    }
   ],
   "source": [
    "from sklearn.metrics import mean_squared_error\n",
    "print ('RMSE: ', mean_squared_error(y_test, predictions))"
   ]
  },
  {
   "cell_type": "code",
   "execution_count": 27,
   "metadata": {},
   "outputs": [
    {
     "data": {
      "image/png": "[encoded data removed]",
      "text/plain": [
       "<Figure size 640x480 with 1 Axes>"
      ]
     },
     "metadata": {},
     "output_type": "display_data"
    }
   ],
   "source": [
    "actual_values = y_test\n",
    "plt.scatter(predictions, actual_values, alpha=.7, color='b')\n",
    "plt.xlabel('Predicted Price')\n",
    "plt.ylabel('Actual Price')\n",
    "plt.title('Linear Regression')\n",
    "plt.show()"
   ]
  },
  {
   "cell_type": "code",
   "execution_count": 28,
   "metadata": {},
   "outputs": [],
   "source": [
    "# Lakukan 5-Fold cross-validation\n",
    "scores = cross_val_score(model, X, y, cv=5)"
   ]
  },
  {
   "cell_type": "code",
   "execution_count": 29,
   "metadata": {},
   "outputs": [
    {
     "name": "stdout",
     "output_type": "stream",
     "text": [
      "R^2 skor dari setiap lipatan: [ 0.46372916  0.57918405 -1.93114486  0.52579068  0.51299764]\n",
      "Rata-rata R^2: 0.030111334747412056\n",
      "Standar Deviasi: 0.9813162903704883\n"
     ]
    }
   ],
   "source": [
    "# Cetak skor R^2 dari setiap lipatan\n",
    "print(\"R^2 skor dari setiap lipatan:\", scores)\n",
    "\n",
    "# Cetak rata-rata dan standar deviasi dari skor\n",
    "print(\"Rata-rata R^2:\", scores.mean())\n",
    "print(\"Standar Deviasi:\", scores.std())"
   ]
  },
  {
   "cell_type": "code",
   "execution_count": 31,
   "metadata": {},
   "outputs": [
    {
     "name": "stdout",
     "output_type": "stream",
     "text": [
      "MSE dari setiap lipatan: [7.90999496 4.45363547 9.01734147 3.56644925 3.55782277]\n"
     ]
    }
   ],
   "source": [
    "from sklearn.metrics import make_scorer, mean_squared_error\n",
    "\n",
    "# Gunakan scoring negatif karena MSE adalah metrik loss (semakin rendah semakin baik)\n",
    "mse_scorer = make_scorer(mean_squared_error, greater_is_better=False)\n",
    "scores_mse = cross_val_score(model, X, y, cv=5, scoring=mse_scorer)\n",
    "\n",
    "print(\"MSE dari setiap lipatan:\", -scores_mse)  # Negate karena kita menggunakan negative MSE\n"
   ]
  },
  {
   "cell_type": "markdown",
   "metadata": {},
   "source": [
    "Dari hasil di atas:\n",
    "\n",
    "- \"Skor R^2 dari setiap lipatan\" menunjukkan kinerja model di setiap lipatan validasi silang.\n",
    "- \"Rata-rata R^2\" memberikan gambaran umum tentang kinerja rata-rata model di seluruh lipatan.\n",
    "- \"Standar Deviasi\" memberikan gambaran tentang seberapa variatif kinerja model di berbagai lipatan.\n",
    "Jika standar deviasinya kecil, ini berarti model Anda memiliki kinerja yang konsisten di berbagai lipatan. Sebaliknya, standar deviasi yang besar dapat menunjukkan bahwa model mungkin bekerja dengan baik pada beberapa subset data tetapi tidak pada yang lain, menunjukkan potensi overfitting atau ketidakstabilan."
   ]
  }
 ],
 "metadata": {
  "colab": {
   "authorship_tag": "ABX9TyNsTBL2B7N1oovFRrJfYzk+",
   "collapsed_sections": [],
   "name": "Introduction to Machine Learning - Nusantech Webinar - Memprediksi Harga Rumah.ipynb",
   "provenance": [],
   "toc_visible": true
  },
  "kernelspec": {
   "display_name": "Python 3 (ipykernel)",
   "language": "python",
   "name": "python3"
  },
  "language_info": {
   "codemirror_mode": {
    "name": "ipython",
    "version": 3
   },
   "file_extension": ".py",
   "mimetype": "text/x-python",
   "name": "python",
   "nbconvert_exporter": "python",
   "pygments_lexer": "ipython3",
   "version": "3.10.10"
  }
 },
 "nbformat": 4,
 "nbformat_minor": 1
}
