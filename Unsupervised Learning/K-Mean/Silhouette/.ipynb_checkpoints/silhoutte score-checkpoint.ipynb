{
 "cells": [
  {
   "cell_type": "code",
   "execution_count": 2,
   "id": "e94e6aa5-a0da-4d1a-bf6d-2af81c525a3f",
   "metadata": {},
   "outputs": [
    {
     "name": "stdout",
     "output_type": "stream",
     "text": [
      "k=2, silhouette score=0.619\n",
      "k=3, silhouette score=0.802\n",
      "k=4, silhouette score=0.876\n",
      "k=5, silhouette score=0.737\n",
      "k=6, silhouette score=0.591\n"
     ]
    }
   ],
   "source": [
    "from sklearn.datasets import make_blobs\n",
    "from sklearn.cluster import KMeans\n",
    "from sklearn.metrics import silhouette_score\n",
    "\n",
    "# Buat data contoh\n",
    "X, _ = make_blobs(n_samples=500, centers=4, cluster_std=0.6, random_state=42)\n",
    "\n",
    "# Uji beberapa nilai k\n",
    "for k in range(2, 7):\n",
    "    km = KMeans(n_clusters=k, n_init=10, random_state=42)\n",
    "    labels = km.fit_predict(X)\n",
    "    score = silhouette_score(X, labels)\n",
    "    print(f\"k={k}, silhouette score={score:.3f}\")"
   ]
  },
  {
   "cell_type": "code",
   "execution_count": null,
   "id": "e220cb51-202a-4b60-9e18-4f83fb33a48b",
   "metadata": {},
   "outputs": [],
   "source": []
  }
 ],
 "metadata": {
  "kernelspec": {
   "display_name": "Python [conda env:base] *",
   "language": "python",
   "name": "conda-base-py"
  },
  "language_info": {
   "codemirror_mode": {
    "name": "ipython",
    "version": 3
   },
   "file_extension": ".py",
   "mimetype": "text/x-python",
   "name": "python",
   "nbconvert_exporter": "python",
   "pygments_lexer": "ipython3",
   "version": "3.12.7"
  }
 },
 "nbformat": 4,
 "nbformat_minor": 5
}
