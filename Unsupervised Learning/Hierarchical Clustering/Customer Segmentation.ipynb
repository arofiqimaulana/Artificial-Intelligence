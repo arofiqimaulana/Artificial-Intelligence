{
 "cells": [
  {
   "cell_type": "markdown",
   "metadata": {},
   "source": [
    "## 1. Import data\n",
    "Akan digunakan Data **Mall Customer Segmentation** yang berasal dari kaggle.com. Dataset ini berisi data pelanggan di mall dengan fitur seperti usia, pendapatan tahunan, dan skor pengeluaran"
   ]
  },
  {
   "cell_type": "code",
   "execution_count": 2,
   "metadata": {},
   "outputs": [],
   "source": [
    "import matplotlib.pyplot as plt\n",
    "import pandas as pd\n",
    "import seaborn as sns\n",
    "from kneed import KneeLocator\n",
    "from sklearn.datasets import make_blobs\n",
    "from sklearn.metrics import silhouette_score\n",
    "from sklearn.preprocessing import StandardScaler\n",
    "from sklearn.decomposition import PCA\n",
    "from sklearn.cluster import AgglomerativeClustering\n",
    "import scipy.cluster.hierarchy as sch"
   ]
  },
  {
   "cell_type": "code",
   "execution_count": 3,
   "metadata": {},
   "outputs": [],
   "source": [
    "df = pd.read_csv('Mall_Customers.csv') "
   ]
  },
  {
   "cell_type": "code",
   "execution_count": 4,
   "metadata": {},
   "outputs": [
    {
     "data": {
      "text/html": [
       "<div>\n",
       "<style scoped>\n",
       "    .dataframe tbody tr th:only-of-type {\n",
       "        vertical-align: middle;\n",
       "    }\n",
       "\n",
       "    .dataframe tbody tr th {\n",
       "        vertical-align: top;\n",
       "    }\n",
       "\n",
       "    .dataframe thead th {\n",
       "        text-align: right;\n",
       "    }\n",
       "</style>\n",
       "<table border=\"1\" class=\"dataframe\">\n",
       "  <thead>\n",
       "    <tr style=\"text-align: right;\">\n",
       "      <th></th>\n",
       "      <th>CustomerID</th>\n",
       "      <th>Gender</th>\n",
       "      <th>Age</th>\n",
       "      <th>Annual Income (k$)</th>\n",
       "      <th>Spending Score (1-100)</th>\n",
       "    </tr>\n",
       "  </thead>\n",
       "  <tbody>\n",
       "    <tr>\n",
       "      <th>0</th>\n",
       "      <td>1</td>\n",
       "      <td>Male</td>\n",
       "      <td>19</td>\n",
       "      <td>15</td>\n",
       "      <td>39</td>\n",
       "    </tr>\n",
       "    <tr>\n",
       "      <th>1</th>\n",
       "      <td>2</td>\n",
       "      <td>Male</td>\n",
       "      <td>21</td>\n",
       "      <td>15</td>\n",
       "      <td>81</td>\n",
       "    </tr>\n",
       "    <tr>\n",
       "      <th>2</th>\n",
       "      <td>3</td>\n",
       "      <td>Female</td>\n",
       "      <td>20</td>\n",
       "      <td>16</td>\n",
       "      <td>6</td>\n",
       "    </tr>\n",
       "    <tr>\n",
       "      <th>3</th>\n",
       "      <td>4</td>\n",
       "      <td>Female</td>\n",
       "      <td>23</td>\n",
       "      <td>16</td>\n",
       "      <td>77</td>\n",
       "    </tr>\n",
       "    <tr>\n",
       "      <th>4</th>\n",
       "      <td>5</td>\n",
       "      <td>Female</td>\n",
       "      <td>31</td>\n",
       "      <td>17</td>\n",
       "      <td>40</td>\n",
       "    </tr>\n",
       "    <tr>\n",
       "      <th>...</th>\n",
       "      <td>...</td>\n",
       "      <td>...</td>\n",
       "      <td>...</td>\n",
       "      <td>...</td>\n",
       "      <td>...</td>\n",
       "    </tr>\n",
       "    <tr>\n",
       "      <th>195</th>\n",
       "      <td>196</td>\n",
       "      <td>Female</td>\n",
       "      <td>35</td>\n",
       "      <td>120</td>\n",
       "      <td>79</td>\n",
       "    </tr>\n",
       "    <tr>\n",
       "      <th>196</th>\n",
       "      <td>197</td>\n",
       "      <td>Female</td>\n",
       "      <td>45</td>\n",
       "      <td>126</td>\n",
       "      <td>28</td>\n",
       "    </tr>\n",
       "    <tr>\n",
       "      <th>197</th>\n",
       "      <td>198</td>\n",
       "      <td>Male</td>\n",
       "      <td>32</td>\n",
       "      <td>126</td>\n",
       "      <td>74</td>\n",
       "    </tr>\n",
       "    <tr>\n",
       "      <th>198</th>\n",
       "      <td>199</td>\n",
       "      <td>Male</td>\n",
       "      <td>32</td>\n",
       "      <td>137</td>\n",
       "      <td>18</td>\n",
       "    </tr>\n",
       "    <tr>\n",
       "      <th>199</th>\n",
       "      <td>200</td>\n",
       "      <td>Male</td>\n",
       "      <td>30</td>\n",
       "      <td>137</td>\n",
       "      <td>83</td>\n",
       "    </tr>\n",
       "  </tbody>\n",
       "</table>\n",
       "<p>200 rows × 5 columns</p>\n",
       "</div>"
      ],
      "text/plain": [
       "     CustomerID  Gender  Age  Annual Income (k$)  Spending Score (1-100)\n",
       "0             1    Male   19                  15                      39\n",
       "1             2    Male   21                  15                      81\n",
       "2             3  Female   20                  16                       6\n",
       "3             4  Female   23                  16                      77\n",
       "4             5  Female   31                  17                      40\n",
       "..          ...     ...  ...                 ...                     ...\n",
       "195         196  Female   35                 120                      79\n",
       "196         197  Female   45                 126                      28\n",
       "197         198    Male   32                 126                      74\n",
       "198         199    Male   32                 137                      18\n",
       "199         200    Male   30                 137                      83\n",
       "\n",
       "[200 rows x 5 columns]"
      ]
     },
     "execution_count": 4,
     "metadata": {},
     "output_type": "execute_result"
    }
   ],
   "source": [
    "df"
   ]
  },
  {
   "cell_type": "markdown",
   "metadata": {},
   "source": [
    "## 2. Standarisasi\n",
    "Kita akan menggunakan kolom seperti Age, Annual Income (k$), dan Spending Score (1-100) sebagai fitur untuk clustering. Pertama-tama kita perlu menstandarisasi data agar K-Means dapat bekerja dengan baik."
   ]
  },
  {
   "cell_type": "code",
   "execution_count": 6,
   "metadata": {},
   "outputs": [
    {
     "data": {
      "text/html": [
       "<div>\n",
       "<style scoped>\n",
       "    .dataframe tbody tr th:only-of-type {\n",
       "        vertical-align: middle;\n",
       "    }\n",
       "\n",
       "    .dataframe tbody tr th {\n",
       "        vertical-align: top;\n",
       "    }\n",
       "\n",
       "    .dataframe thead th {\n",
       "        text-align: right;\n",
       "    }\n",
       "</style>\n",
       "<table border=\"1\" class=\"dataframe\">\n",
       "  <thead>\n",
       "    <tr style=\"text-align: right;\">\n",
       "      <th></th>\n",
       "      <th>Age</th>\n",
       "      <th>Annual Income (k$)</th>\n",
       "      <th>Spending Score (1-100)</th>\n",
       "    </tr>\n",
       "  </thead>\n",
       "  <tbody>\n",
       "    <tr>\n",
       "      <th>0</th>\n",
       "      <td>19</td>\n",
       "      <td>15</td>\n",
       "      <td>39</td>\n",
       "    </tr>\n",
       "    <tr>\n",
       "      <th>1</th>\n",
       "      <td>21</td>\n",
       "      <td>15</td>\n",
       "      <td>81</td>\n",
       "    </tr>\n",
       "    <tr>\n",
       "      <th>2</th>\n",
       "      <td>20</td>\n",
       "      <td>16</td>\n",
       "      <td>6</td>\n",
       "    </tr>\n",
       "    <tr>\n",
       "      <th>3</th>\n",
       "      <td>23</td>\n",
       "      <td>16</td>\n",
       "      <td>77</td>\n",
       "    </tr>\n",
       "    <tr>\n",
       "      <th>4</th>\n",
       "      <td>31</td>\n",
       "      <td>17</td>\n",
       "      <td>40</td>\n",
       "    </tr>\n",
       "    <tr>\n",
       "      <th>...</th>\n",
       "      <td>...</td>\n",
       "      <td>...</td>\n",
       "      <td>...</td>\n",
       "    </tr>\n",
       "    <tr>\n",
       "      <th>195</th>\n",
       "      <td>35</td>\n",
       "      <td>120</td>\n",
       "      <td>79</td>\n",
       "    </tr>\n",
       "    <tr>\n",
       "      <th>196</th>\n",
       "      <td>45</td>\n",
       "      <td>126</td>\n",
       "      <td>28</td>\n",
       "    </tr>\n",
       "    <tr>\n",
       "      <th>197</th>\n",
       "      <td>32</td>\n",
       "      <td>126</td>\n",
       "      <td>74</td>\n",
       "    </tr>\n",
       "    <tr>\n",
       "      <th>198</th>\n",
       "      <td>32</td>\n",
       "      <td>137</td>\n",
       "      <td>18</td>\n",
       "    </tr>\n",
       "    <tr>\n",
       "      <th>199</th>\n",
       "      <td>30</td>\n",
       "      <td>137</td>\n",
       "      <td>83</td>\n",
       "    </tr>\n",
       "  </tbody>\n",
       "</table>\n",
       "<p>200 rows × 3 columns</p>\n",
       "</div>"
      ],
      "text/plain": [
       "     Age  Annual Income (k$)  Spending Score (1-100)\n",
       "0     19                  15                      39\n",
       "1     21                  15                      81\n",
       "2     20                  16                       6\n",
       "3     23                  16                      77\n",
       "4     31                  17                      40\n",
       "..   ...                 ...                     ...\n",
       "195   35                 120                      79\n",
       "196   45                 126                      28\n",
       "197   32                 126                      74\n",
       "198   32                 137                      18\n",
       "199   30                 137                      83\n",
       "\n",
       "[200 rows x 3 columns]"
      ]
     },
     "execution_count": 6,
     "metadata": {},
     "output_type": "execute_result"
    }
   ],
   "source": [
    "# Memilih fitur yang relevan untuk clustering\n",
    "X = df[['Age', 'Annual Income (k$)', 'Spending Score (1-100)']]\n",
    "X"
   ]
  },
  {
   "cell_type": "code",
   "execution_count": 7,
   "metadata": {},
   "outputs": [],
   "source": [
    "# Menstandarisasi data\n",
    "scaler = StandardScaler()\n",
    "X_scaled = scaler.fit_transform(X)"
   ]
  },
  {
   "cell_type": "code",
   "execution_count": 8,
   "metadata": {},
   "outputs": [
    {
     "data": {
      "text/plain": [
       "array([[-1.42456879, -1.73899919, -0.43480148],\n",
       "       [-1.28103541, -1.73899919,  1.19570407],\n",
       "       [-1.3528021 , -1.70082976, -1.71591298],\n",
       "       [-1.13750203, -1.70082976,  1.04041783],\n",
       "       [-0.56336851, -1.66266033, -0.39597992],\n",
       "       [-1.20926872, -1.66266033,  1.00159627],\n",
       "       [-0.27630176, -1.62449091, -1.71591298],\n",
       "       [-1.13750203, -1.62449091,  1.70038436],\n",
       "       [ 1.80493225, -1.58632148, -1.83237767],\n",
       "       [-0.6351352 , -1.58632148,  0.84631002]])"
      ]
     },
     "execution_count": 8,
     "metadata": {},
     "output_type": "execute_result"
    }
   ],
   "source": [
    "X_scaled[0:10]"
   ]
  },
  {
   "cell_type": "markdown",
   "metadata": {},
   "source": [
    "## 3. Clustering"
   ]
  },
  {
   "cell_type": "code",
   "execution_count": 10,
   "metadata": {},
   "outputs": [],
   "source": [
    "cluster_average = AgglomerativeClustering(n_clusters=3, metric='euclidean', linkage='average').fit(X_scaled)  \n",
    "cluster_complete = AgglomerativeClustering(n_clusters=3, metric='euclidean', linkage='complete').fit(X_scaled)  \n",
    "cluster_single = AgglomerativeClustering(n_clusters=3, metric='euclidean', linkage='single').fit(X_scaled)  \n",
    "cluster_ward = AgglomerativeClustering(n_clusters=3, metric='euclidean', linkage='ward').fit(X_scaled)"
   ]
  },
  {
   "cell_type": "code",
   "execution_count": 11,
   "metadata": {},
   "outputs": [],
   "source": [
    "df['labels_average'] = pd.DataFrame(cluster_average.labels_)[0]\n",
    "df['labels_complete'] = pd.DataFrame(cluster_complete.labels_)[0]\n",
    "df['labels_single'] = pd.DataFrame(cluster_single.labels_)[0]\n",
    "df['labels_ward'] = pd.DataFrame(cluster_ward.labels_)[0]"
   ]
  },
  {
   "cell_type": "markdown",
   "metadata": {},
   "source": [
    "# Dendogram"
   ]
  },
  {
   "cell_type": "code",
   "execution_count": 13,
   "metadata": {},
   "outputs": [
    {
     "data": {
      "image/png": "[encoded data removed]",
      "text/plain": [
       "<Figure size 1000x600 with 1 Axes>"
      ]
     },
     "metadata": {},
     "output_type": "display_data"
    }
   ],
   "source": [
    "# Buat linkage matrix\n",
    "# metode bisa 'ward', 'complete', 'average', 'single'\n",
    "linked = sch.linkage(X_scaled, method='ward')\n",
    "\n",
    "# Plot dendrogram\n",
    "plt.figure(figsize=(10, 6))\n",
    "sch.dendrogram(linked,\n",
    "               orientation='top',\n",
    "               distance_sort='descending',\n",
    "               show_leaf_counts=True)\n",
    "plt.title(\"Dendrogram - Agglomerative Clustering\")\n",
    "plt.xlabel(\"Sample Index\")\n",
    "plt.ylabel(\"Distance\")\n",
    "plt.show()"
   ]
  },
  {
   "cell_type": "code",
   "execution_count": 14,
   "metadata": {},
   "outputs": [],
   "source": [
    "# Hitung linkage matrix\n",
    "Z = sch.linkage(X_scaled, method='ward')"
   ]
  },
  {
   "cell_type": "code",
   "execution_count": 15,
   "metadata": {},
   "outputs": [
    {
     "name": "stdout",
     "output_type": "stream",
     "text": [
      "Linkage Matrix (nilai mentah):\n",
      "[[6.50000000e+01 6.80000000e+01 7.17666897e-02 2.00000000e+00]\n",
      " [1.29000000e+02 1.31000000e+02 7.17666897e-02 2.00000000e+00]\n",
      " [1.06000000e+02 1.09000000e+02 7.76431214e-02 2.00000000e+00]\n",
      " [3.00000000e+00 5.00000000e+00 9.00803899e-02 2.00000000e+00]\n",
      " [9.20000000e+01 9.60000000e+01 1.05730374e-01 2.00000000e+00]\n",
      " [1.14000000e+02 1.15000000e+02 1.05730374e-01 2.00000000e+00]\n",
      " [1.33000000e+02 1.37000000e+02 1.12409152e-01 2.00000000e+00]\n",
      " [1.60000000e+01 2.00000000e+01 1.14508288e-01 2.00000000e+00]\n",
      " [6.00000000e+01 7.00000000e+01 1.20910138e-01 2.00000000e+00]\n",
      " [1.17000000e+02 1.19000000e+02 1.30409100e-01 2.00000000e+00]]\n"
     ]
    }
   ],
   "source": [
    "print(\"Linkage Matrix (nilai mentah):\")\n",
    "print(Z[:10])  # tampilkan 10 baris pertama"
   ]
  },
  {
   "cell_type": "markdown",
   "metadata": {},
   "source": [
    "Struktur Z (linkage matrix) berukuran (n_samples - 1) x 4:\n",
    "\n",
    "- col 0 = indeks cluster pertama yang digabung\n",
    "- col 1 = indeks cluster kedua yang digabung\n",
    "- col 2 = jarak (distance) antar cluster\n",
    "- col 3 = jumlah sampel dalam cluster hasil gabungan"
   ]
  },
  {
   "cell_type": "markdown",
   "metadata": {},
   "source": [
    "# Visualize using PCA\n",
    "Visualisasi data paling mudah menggunakan grafik 2 dimensi. Karena kita punya lebih dari 2 variabel, maka kita bisa gunakan PCA untuk menjadikannya menjadi 2 variabel baru."
   ]
  },
  {
   "cell_type": "code",
   "execution_count": 18,
   "metadata": {},
   "outputs": [],
   "source": [
    "pca = PCA(2)\n",
    "\n",
    "arr_pca = pca.fit_transform(X)"
   ]
  },
  {
   "cell_type": "code",
   "execution_count": 19,
   "metadata": {},
   "outputs": [],
   "source": [
    "df_pca = pd.DataFrame(arr_pca)\n",
    "df_pca.columns = ['PC1','PC2']\n",
    "df_pca['labels'] = df['labels_ward'] "
   ]
  },
  {
   "cell_type": "code",
   "execution_count": 20,
   "metadata": {},
   "outputs": [
    {
     "data": {
      "text/plain": [
       "<Axes: xlabel='PC1', ylabel='PC2'>"
      ]
     },
     "execution_count": 20,
     "metadata": {},
     "output_type": "execute_result"
    },
    {
     "data": {
      "image/png": "[encoded data removed]",
      "text/plain": [
       "<Figure size 640x480 with 1 Axes>"
      ]
     },
     "metadata": {},
     "output_type": "display_data"
    }
   ],
   "source": [
    "sns.scatterplot(data=df_pca, x=\"PC1\", y=\"PC2\", hue=\"labels\")"
   ]
  },
  {
   "cell_type": "markdown",
   "metadata": {},
   "source": [
    "# Deskripsi Group\n",
    "Kita butuh mengerti karakteristik dari cluster yang terbentuk dengan cara memberi nama group. Nama group ini bisa kita dapatkan dari statisika deskriptif nya"
   ]
  },
  {
   "cell_type": "code",
   "execution_count": 22,
   "metadata": {},
   "outputs": [],
   "source": [
    "import pandas as pd\n",
    "\n",
    "summary = df.groupby(\"labels_average\").agg(\n",
    "    Age_min=(\"Age\", \"min\"),\n",
    "    Age_mean=(\"Age\", \"mean\"),\n",
    "    Age_median=(\"Age\", \"median\"),\n",
    "    Age_max=(\"Age\", \"max\"),\n",
    "    \n",
    "    Income_min=(\"Annual Income (k$)\", \"min\"),\n",
    "    Income_mean=(\"Annual Income (k$)\", \"mean\"),\n",
    "    Income_median=(\"Annual Income (k$)\", \"median\"),\n",
    "    Income_max=(\"Annual Income (k$)\", \"max\"),\n",
    "    \n",
    "    Score_min=(\"Spending Score (1-100)\", \"min\"),\n",
    "    Score_mean=(\"Spending Score (1-100)\", \"mean\"),\n",
    "    Score_median=(\"Spending Score (1-100)\", \"median\"),\n",
    "    Score_max=(\"Spending Score (1-100)\", \"max\"),\n",
    "    \n",
    "    Total_Male=(\"Gender\", lambda x: (x == \"Male\").sum()),\n",
    "    Total_Female=(\"Gender\", lambda x: (x == \"Female\").sum())\n",
    ").reset_index()"
   ]
  },
  {
   "cell_type": "code",
   "execution_count": 23,
   "metadata": {},
   "outputs": [
    {
     "data": {
      "text/html": [
       "<div>\n",
       "<style scoped>\n",
       "    .dataframe tbody tr th:only-of-type {\n",
       "        vertical-align: middle;\n",
       "    }\n",
       "\n",
       "    .dataframe tbody tr th {\n",
       "        vertical-align: top;\n",
       "    }\n",
       "\n",
       "    .dataframe thead th {\n",
       "        text-align: right;\n",
       "    }\n",
       "</style>\n",
       "<table border=\"1\" class=\"dataframe\">\n",
       "  <thead>\n",
       "    <tr style=\"text-align: right;\">\n",
       "      <th></th>\n",
       "      <th>labels_average</th>\n",
       "      <th>Age_min</th>\n",
       "      <th>Age_mean</th>\n",
       "      <th>Age_median</th>\n",
       "      <th>Age_max</th>\n",
       "      <th>Income_min</th>\n",
       "      <th>Income_mean</th>\n",
       "      <th>Income_median</th>\n",
       "      <th>Income_max</th>\n",
       "      <th>Score_min</th>\n",
       "      <th>Score_mean</th>\n",
       "      <th>Score_median</th>\n",
       "      <th>Score_max</th>\n",
       "      <th>Total_Male</th>\n",
       "      <th>Total_Female</th>\n",
       "    </tr>\n",
       "  </thead>\n",
       "  <tbody>\n",
       "    <tr>\n",
       "      <th>0</th>\n",
       "      <td>0</td>\n",
       "      <td>18</td>\n",
       "      <td>28.098901</td>\n",
       "      <td>29.0</td>\n",
       "      <td>40</td>\n",
       "      <td>15</td>\n",
       "      <td>61.626374</td>\n",
       "      <td>64.0</td>\n",
       "      <td>137</td>\n",
       "      <td>29</td>\n",
       "      <td>70.670330</td>\n",
       "      <td>73.0</td>\n",
       "      <td>99</td>\n",
       "      <td>38</td>\n",
       "      <td>53</td>\n",
       "    </tr>\n",
       "    <tr>\n",
       "      <th>1</th>\n",
       "      <td>1</td>\n",
       "      <td>19</td>\n",
       "      <td>50.729730</td>\n",
       "      <td>49.5</td>\n",
       "      <td>70</td>\n",
       "      <td>15</td>\n",
       "      <td>46.162162</td>\n",
       "      <td>48.5</td>\n",
       "      <td>69</td>\n",
       "      <td>3</td>\n",
       "      <td>40.594595</td>\n",
       "      <td>45.5</td>\n",
       "      <td>60</td>\n",
       "      <td>30</td>\n",
       "      <td>44</td>\n",
       "    </tr>\n",
       "    <tr>\n",
       "      <th>2</th>\n",
       "      <td>2</td>\n",
       "      <td>19</td>\n",
       "      <td>41.685714</td>\n",
       "      <td>43.0</td>\n",
       "      <td>59</td>\n",
       "      <td>71</td>\n",
       "      <td>88.228571</td>\n",
       "      <td>85.0</td>\n",
       "      <td>137</td>\n",
       "      <td>1</td>\n",
       "      <td>17.285714</td>\n",
       "      <td>16.0</td>\n",
       "      <td>39</td>\n",
       "      <td>20</td>\n",
       "      <td>15</td>\n",
       "    </tr>\n",
       "  </tbody>\n",
       "</table>\n",
       "</div>"
      ],
      "text/plain": [
       "   labels_average  Age_min   Age_mean  Age_median  Age_max  Income_min  \\\n",
       "0               0       18  28.098901        29.0       40          15   \n",
       "1               1       19  50.729730        49.5       70          15   \n",
       "2               2       19  41.685714        43.0       59          71   \n",
       "\n",
       "   Income_mean  Income_median  Income_max  Score_min  Score_mean  \\\n",
       "0    61.626374           64.0         137         29   70.670330   \n",
       "1    46.162162           48.5          69          3   40.594595   \n",
       "2    88.228571           85.0         137          1   17.285714   \n",
       "\n",
       "   Score_median  Score_max  Total_Male  Total_Female  \n",
       "0          73.0         99          38            53  \n",
       "1          45.5         60          30            44  \n",
       "2          16.0         39          20            15  "
      ]
     },
     "execution_count": 23,
     "metadata": {},
     "output_type": "execute_result"
    }
   ],
   "source": [
    "summary"
   ]
  },
  {
   "cell_type": "markdown",
   "metadata": {},
   "source": [
    "Berdasarkan income_median dan income_mean,\n",
    "- cluster 2 : tertinggi\n",
    "- cluster 0 : menengah\n",
    "- cluster 1 : terendah\n",
    "\n",
    "Berdasarkan age_mean dan age_median\n",
    "- cluster 1 : tertua \n",
    "- cluster 2 : menengah\n",
    "- cluster 0 : termuda\n",
    "  \n",
    "Berdasarkan Score_mean dan Score_median\n",
    "- cluster 0 : tertinggi (sering belanja)\n",
    "- cluster 1 : menengah \n",
    "- cluster 2 : terendah (jarang belanja)\n",
    "\n",
    "Kesimpulan\n",
    "- cluster 0 : pemuda yang suka belanja dan income nya biasa saja\n",
    "- cluster 1 : orang yang sudah tua yang income nya rendah dan frekuensi belanjanya biasa saja\n",
    "- cluster 2 : orang dewasa yang punya banyak uang dan jarang belanja"
   ]
  },
  {
   "cell_type": "markdown",
   "metadata": {},
   "source": [
    "# Reference\n",
    "- https://www.kaggle.com/datasets/vjchoudhary7/customer-segmentation-tutorial-in-python "
   ]
  },
  {
   "cell_type": "code",
   "execution_count": null,
   "metadata": {},
   "outputs": [],
   "source": []
  },
  {
   "cell_type": "code",
   "execution_count": null,
   "metadata": {},
   "outputs": [],
   "source": []
  }
 ],
 "metadata": {
  "kernelspec": {
   "display_name": "Python [conda env:base] *",
   "language": "python",
   "name": "conda-base-py"
  },
  "language_info": {
   "codemirror_mode": {
    "name": "ipython",
    "version": 3
   },
   "file_extension": ".py",
   "mimetype": "text/x-python",
   "name": "python",
   "nbconvert_exporter": "python",
   "pygments_lexer": "ipython3",
   "version": "3.12.7"
  }
 },
 "nbformat": 4,
 "nbformat_minor": 4
}
