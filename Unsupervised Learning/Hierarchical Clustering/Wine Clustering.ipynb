{
 "cells": [
  {
   "cell_type": "code",
   "execution_count": 1,
   "id": "cb608b4e-fc27-4170-a30f-40eafa012372",
   "metadata": {},
   "outputs": [],
   "source": [
    "import matplotlib.pyplot as plt\n",
    "import pandas as pd\n",
    "import seaborn as sns\n",
    "from kneed import KneeLocator\n",
    "from sklearn.datasets import make_blobs\n",
    "from sklearn.metrics import silhouette_score\n",
    "from sklearn.preprocessing import StandardScaler\n",
    "from sklearn.decomposition import PCA\n",
    "from sklearn.cluster import AgglomerativeClustering\n",
    "import scipy.cluster.hierarchy as sch"
   ]
  },
  {
   "cell_type": "code",
   "execution_count": 2,
   "id": "a14af185-27bd-4cc0-9d26-93e833f5738c",
   "metadata": {},
   "outputs": [],
   "source": [
    "# pip install ucimlrepo"
   ]
  },
  {
   "cell_type": "markdown",
   "id": "4ddbe127-7797-409b-8875-b2dff1aa6687",
   "metadata": {},
   "source": [
    "## 1. Import Data\n",
    "Dataset ini berisi data kimiawi dari anggur yang diklasifikasikan dalam 13 fitur kimia seperti alkohol, kandungan asam dan flavonoid. Dataset ini memiliki 13 fitur dan 178 data."
   ]
  },
  {
   "cell_type": "code",
   "execution_count": 4,
   "id": "2e9b63a1-38eb-4364-af7e-24f72ca9d7f8",
   "metadata": {},
   "outputs": [],
   "source": [
    "from ucimlrepo import fetch_ucirepo \n",
    "  \n",
    "# fetch dataset \n",
    "wine = fetch_ucirepo(id=109) \n",
    "  \n",
    "# data (as pandas dataframes) \n",
    "X = wine.data.features \n",
    "y = wine.data.targets "
   ]
  },
  {
   "cell_type": "code",
   "execution_count": 5,
   "id": "2719f97c-6eea-4be9-a402-eeccb5bff20b",
   "metadata": {},
   "outputs": [
    {
     "data": {
      "text/html": [
       "<div>\n",
       "<style scoped>\n",
       "    .dataframe tbody tr th:only-of-type {\n",
       "        vertical-align: middle;\n",
       "    }\n",
       "\n",
       "    .dataframe tbody tr th {\n",
       "        vertical-align: top;\n",
       "    }\n",
       "\n",
       "    .dataframe thead th {\n",
       "        text-align: right;\n",
       "    }\n",
       "</style>\n",
       "<table border=\"1\" class=\"dataframe\">\n",
       "  <thead>\n",
       "    <tr style=\"text-align: right;\">\n",
       "      <th></th>\n",
       "      <th>Alcohol</th>\n",
       "      <th>Malicacid</th>\n",
       "      <th>Ash</th>\n",
       "      <th>Alcalinity_of_ash</th>\n",
       "      <th>Magnesium</th>\n",
       "      <th>Total_phenols</th>\n",
       "      <th>Flavanoids</th>\n",
       "      <th>Nonflavanoid_phenols</th>\n",
       "      <th>Proanthocyanins</th>\n",
       "      <th>Color_intensity</th>\n",
       "      <th>Hue</th>\n",
       "      <th>0D280_0D315_of_diluted_wines</th>\n",
       "      <th>Proline</th>\n",
       "    </tr>\n",
       "  </thead>\n",
       "  <tbody>\n",
       "    <tr>\n",
       "      <th>0</th>\n",
       "      <td>14.23</td>\n",
       "      <td>1.71</td>\n",
       "      <td>2.43</td>\n",
       "      <td>15.6</td>\n",
       "      <td>127</td>\n",
       "      <td>2.80</td>\n",
       "      <td>3.06</td>\n",
       "      <td>0.28</td>\n",
       "      <td>2.29</td>\n",
       "      <td>5.64</td>\n",
       "      <td>1.04</td>\n",
       "      <td>3.92</td>\n",
       "      <td>1065</td>\n",
       "    </tr>\n",
       "    <tr>\n",
       "      <th>1</th>\n",
       "      <td>13.20</td>\n",
       "      <td>1.78</td>\n",
       "      <td>2.14</td>\n",
       "      <td>11.2</td>\n",
       "      <td>100</td>\n",
       "      <td>2.65</td>\n",
       "      <td>2.76</td>\n",
       "      <td>0.26</td>\n",
       "      <td>1.28</td>\n",
       "      <td>4.38</td>\n",
       "      <td>1.05</td>\n",
       "      <td>3.40</td>\n",
       "      <td>1050</td>\n",
       "    </tr>\n",
       "    <tr>\n",
       "      <th>2</th>\n",
       "      <td>13.16</td>\n",
       "      <td>2.36</td>\n",
       "      <td>2.67</td>\n",
       "      <td>18.6</td>\n",
       "      <td>101</td>\n",
       "      <td>2.80</td>\n",
       "      <td>3.24</td>\n",
       "      <td>0.30</td>\n",
       "      <td>2.81</td>\n",
       "      <td>5.68</td>\n",
       "      <td>1.03</td>\n",
       "      <td>3.17</td>\n",
       "      <td>1185</td>\n",
       "    </tr>\n",
       "    <tr>\n",
       "      <th>3</th>\n",
       "      <td>14.37</td>\n",
       "      <td>1.95</td>\n",
       "      <td>2.50</td>\n",
       "      <td>16.8</td>\n",
       "      <td>113</td>\n",
       "      <td>3.85</td>\n",
       "      <td>3.49</td>\n",
       "      <td>0.24</td>\n",
       "      <td>2.18</td>\n",
       "      <td>7.80</td>\n",
       "      <td>0.86</td>\n",
       "      <td>3.45</td>\n",
       "      <td>1480</td>\n",
       "    </tr>\n",
       "    <tr>\n",
       "      <th>4</th>\n",
       "      <td>13.24</td>\n",
       "      <td>2.59</td>\n",
       "      <td>2.87</td>\n",
       "      <td>21.0</td>\n",
       "      <td>118</td>\n",
       "      <td>2.80</td>\n",
       "      <td>2.69</td>\n",
       "      <td>0.39</td>\n",
       "      <td>1.82</td>\n",
       "      <td>4.32</td>\n",
       "      <td>1.04</td>\n",
       "      <td>2.93</td>\n",
       "      <td>735</td>\n",
       "    </tr>\n",
       "    <tr>\n",
       "      <th>...</th>\n",
       "      <td>...</td>\n",
       "      <td>...</td>\n",
       "      <td>...</td>\n",
       "      <td>...</td>\n",
       "      <td>...</td>\n",
       "      <td>...</td>\n",
       "      <td>...</td>\n",
       "      <td>...</td>\n",
       "      <td>...</td>\n",
       "      <td>...</td>\n",
       "      <td>...</td>\n",
       "      <td>...</td>\n",
       "      <td>...</td>\n",
       "    </tr>\n",
       "    <tr>\n",
       "      <th>173</th>\n",
       "      <td>13.71</td>\n",
       "      <td>5.65</td>\n",
       "      <td>2.45</td>\n",
       "      <td>20.5</td>\n",
       "      <td>95</td>\n",
       "      <td>1.68</td>\n",
       "      <td>0.61</td>\n",
       "      <td>0.52</td>\n",
       "      <td>1.06</td>\n",
       "      <td>7.70</td>\n",
       "      <td>0.64</td>\n",
       "      <td>1.74</td>\n",
       "      <td>740</td>\n",
       "    </tr>\n",
       "    <tr>\n",
       "      <th>174</th>\n",
       "      <td>13.40</td>\n",
       "      <td>3.91</td>\n",
       "      <td>2.48</td>\n",
       "      <td>23.0</td>\n",
       "      <td>102</td>\n",
       "      <td>1.80</td>\n",
       "      <td>0.75</td>\n",
       "      <td>0.43</td>\n",
       "      <td>1.41</td>\n",
       "      <td>7.30</td>\n",
       "      <td>0.70</td>\n",
       "      <td>1.56</td>\n",
       "      <td>750</td>\n",
       "    </tr>\n",
       "    <tr>\n",
       "      <th>175</th>\n",
       "      <td>13.27</td>\n",
       "      <td>4.28</td>\n",
       "      <td>2.26</td>\n",
       "      <td>20.0</td>\n",
       "      <td>120</td>\n",
       "      <td>1.59</td>\n",
       "      <td>0.69</td>\n",
       "      <td>0.43</td>\n",
       "      <td>1.35</td>\n",
       "      <td>10.20</td>\n",
       "      <td>0.59</td>\n",
       "      <td>1.56</td>\n",
       "      <td>835</td>\n",
       "    </tr>\n",
       "    <tr>\n",
       "      <th>176</th>\n",
       "      <td>13.17</td>\n",
       "      <td>2.59</td>\n",
       "      <td>2.37</td>\n",
       "      <td>20.0</td>\n",
       "      <td>120</td>\n",
       "      <td>1.65</td>\n",
       "      <td>0.68</td>\n",
       "      <td>0.53</td>\n",
       "      <td>1.46</td>\n",
       "      <td>9.30</td>\n",
       "      <td>0.60</td>\n",
       "      <td>1.62</td>\n",
       "      <td>840</td>\n",
       "    </tr>\n",
       "    <tr>\n",
       "      <th>177</th>\n",
       "      <td>14.13</td>\n",
       "      <td>4.10</td>\n",
       "      <td>2.74</td>\n",
       "      <td>24.5</td>\n",
       "      <td>96</td>\n",
       "      <td>2.05</td>\n",
       "      <td>0.76</td>\n",
       "      <td>0.56</td>\n",
       "      <td>1.35</td>\n",
       "      <td>9.20</td>\n",
       "      <td>0.61</td>\n",
       "      <td>1.60</td>\n",
       "      <td>560</td>\n",
       "    </tr>\n",
       "  </tbody>\n",
       "</table>\n",
       "<p>178 rows × 13 columns</p>\n",
       "</div>"
      ],
      "text/plain": [
       "     Alcohol  Malicacid   Ash  Alcalinity_of_ash  Magnesium  Total_phenols  \\\n",
       "0      14.23       1.71  2.43               15.6        127           2.80   \n",
       "1      13.20       1.78  2.14               11.2        100           2.65   \n",
       "2      13.16       2.36  2.67               18.6        101           2.80   \n",
       "3      14.37       1.95  2.50               16.8        113           3.85   \n",
       "4      13.24       2.59  2.87               21.0        118           2.80   \n",
       "..       ...        ...   ...                ...        ...            ...   \n",
       "173    13.71       5.65  2.45               20.5         95           1.68   \n",
       "174    13.40       3.91  2.48               23.0        102           1.80   \n",
       "175    13.27       4.28  2.26               20.0        120           1.59   \n",
       "176    13.17       2.59  2.37               20.0        120           1.65   \n",
       "177    14.13       4.10  2.74               24.5         96           2.05   \n",
       "\n",
       "     Flavanoids  Nonflavanoid_phenols  Proanthocyanins  Color_intensity   Hue  \\\n",
       "0          3.06                  0.28             2.29             5.64  1.04   \n",
       "1          2.76                  0.26             1.28             4.38  1.05   \n",
       "2          3.24                  0.30             2.81             5.68  1.03   \n",
       "3          3.49                  0.24             2.18             7.80  0.86   \n",
       "4          2.69                  0.39             1.82             4.32  1.04   \n",
       "..          ...                   ...              ...              ...   ...   \n",
       "173        0.61                  0.52             1.06             7.70  0.64   \n",
       "174        0.75                  0.43             1.41             7.30  0.70   \n",
       "175        0.69                  0.43             1.35            10.20  0.59   \n",
       "176        0.68                  0.53             1.46             9.30  0.60   \n",
       "177        0.76                  0.56             1.35             9.20  0.61   \n",
       "\n",
       "     0D280_0D315_of_diluted_wines  Proline  \n",
       "0                            3.92     1065  \n",
       "1                            3.40     1050  \n",
       "2                            3.17     1185  \n",
       "3                            3.45     1480  \n",
       "4                            2.93      735  \n",
       "..                            ...      ...  \n",
       "173                          1.74      740  \n",
       "174                          1.56      750  \n",
       "175                          1.56      835  \n",
       "176                          1.62      840  \n",
       "177                          1.60      560  \n",
       "\n",
       "[178 rows x 13 columns]"
      ]
     },
     "execution_count": 5,
     "metadata": {},
     "output_type": "execute_result"
    }
   ],
   "source": [
    "X"
   ]
  },
  {
   "cell_type": "markdown",
   "id": "0e755fc0-2f7d-4b48-ad97-8b35bfdef09b",
   "metadata": {},
   "source": [
    "## Standarisasi data"
   ]
  },
  {
   "cell_type": "code",
   "execution_count": 7,
   "id": "454ffb30-2a37-487d-8df8-a12a7c4f0a25",
   "metadata": {},
   "outputs": [],
   "source": [
    "scaler = StandardScaler()\n",
    "X_scaled = scaler.fit_transform(X)"
   ]
  },
  {
   "cell_type": "code",
   "execution_count": 8,
   "id": "d3dcee1c-7fca-4e47-8364-8f4f86d27d40",
   "metadata": {},
   "outputs": [
    {
     "data": {
      "text/plain": [
       "array([[ 1.51861254, -0.5622498 ,  0.23205254, -1.16959318,  1.91390522,\n",
       "         0.80899739,  1.03481896, -0.65956311,  1.22488398,  0.25171685,\n",
       "         0.36217728,  1.84791957,  1.01300893],\n",
       "       [ 0.24628963, -0.49941338, -0.82799632, -2.49084714,  0.01814502,\n",
       "         0.56864766,  0.73362894, -0.82071924, -0.54472099, -0.29332133,\n",
       "         0.40605066,  1.1134493 ,  0.96524152],\n",
       "       [ 0.19687903,  0.02123125,  1.10933436, -0.2687382 ,  0.08835836,\n",
       "         0.80899739,  1.21553297, -0.49840699,  2.13596773,  0.26901965,\n",
       "         0.31830389,  0.78858745,  1.39514818],\n",
       "       [ 1.69154964, -0.34681064,  0.4879264 , -0.80925118,  0.93091845,\n",
       "         2.49144552,  1.46652465, -0.98187536,  1.03215473,  1.18606801,\n",
       "        -0.42754369,  1.18407144,  2.33457383],\n",
       "       [ 0.29570023,  0.22769377,  1.84040254,  0.45194578,  1.28198515,\n",
       "         0.80899739,  0.66335127,  0.22679555,  0.40140444, -0.31927553,\n",
       "         0.36217728,  0.44960118, -0.03787401],\n",
       "       [ 1.48155459, -0.51736664,  0.30515936, -1.28970717,  0.86070511,\n",
       "         1.56209322,  1.36612798, -0.17609475,  0.66421706,  0.73186953,\n",
       "         0.40605066,  0.33660575,  2.23903902],\n",
       "       [ 1.71625494, -0.4186237 ,  0.30515936, -1.46987817, -0.26270834,\n",
       "         0.32829793,  0.49267693, -0.49840699,  0.6817379 ,  0.08301456,\n",
       "         0.2744305 ,  1.36768901,  1.72952002],\n",
       "       [ 1.3086175 , -0.16727801,  0.89001391, -0.56902319,  1.49262517,\n",
       "         0.48853108,  0.48263726, -0.41782893, -0.59728351, -0.00349944,\n",
       "         0.44992405,  1.36768901,  1.74544249],\n",
       "       [ 2.25977152, -0.62508622, -0.7183361 , -1.65004916, -0.192495  ,\n",
       "         0.80899739,  0.95450162, -0.57898505,  0.6817379 ,  0.06138606,\n",
       "         0.53767082,  0.33660575,  0.94931905],\n",
       "       [ 1.0615645 , -0.88540853, -0.352802  , -1.04947918, -0.12228166,\n",
       "         1.09741707,  1.12517596, -1.14303148,  0.45396697,  0.93517742,\n",
       "         0.23055711,  1.32531572,  0.94931905],\n",
       "       [ 1.3580281 , -0.15830138, -0.24314178, -0.44890919,  0.36921172,\n",
       "         1.04934713,  1.29585031, -1.14303148,  1.38257156,  0.29929955,\n",
       "         1.28351841,  0.78858745,  2.43010864],\n",
       "       [ 1.38273339, -0.76871232, -0.17003496, -0.80925118, -0.33292168,\n",
       "        -0.15240153,  0.40231992, -0.82071924, -0.03661659, -0.02512794,\n",
       "         0.93253131,  0.29423247,  1.69767508],\n",
       "       [ 0.92568536, -0.54429654,  0.15894572, -1.04947918, -0.75420173,\n",
       "         0.48853108,  0.73362894, -0.57898505,  0.3838836 ,  0.23441405,\n",
       "         0.84478453,  0.40722789,  1.82505483],\n",
       "       [ 2.16095032, -0.54429654,  0.0858389 , -2.43079014, -0.61377505,\n",
       "         1.28969686,  1.66731799,  0.5491078 ,  2.13596773,  0.14790005,\n",
       "         1.28351841,  0.16711262,  1.28369089],\n",
       "       [ 1.70390229, -0.4186237 ,  0.0492855 , -2.25061915,  0.1585717 ,\n",
       "         1.61016317,  1.61711966, -0.57898505,  2.39878035,  1.05629702,\n",
       "         1.06415147,  0.54847218,  2.54793491]])"
      ]
     },
     "execution_count": 8,
     "metadata": {},
     "output_type": "execute_result"
    }
   ],
   "source": [
    "X_scaled[0:15]"
   ]
  },
  {
   "cell_type": "markdown",
   "id": "129b7b5d-83ac-48af-b3e8-d214e82d1c9c",
   "metadata": {},
   "source": [
    "## 3. Reduksi Dimensi dengan PCA\n",
    "\n",
    "Fitur-fitur dalam dataset ini mungkin berkorelasi, dan PCA dapat digunakan untuk mereduksi dimensi dan meningkatkan kinerja algoritma clustering. Kalau ada kolinieritas tinggi:\n",
    "- Variabel yang berkorelasi memberi bobot ganda pada perhitungan jarak.\n",
    "- Ini bisa bikin hasil cluster bias → seolah-olah variabel itu lebih penting, padahal informasinya hampir sama."
   ]
  },
  {
   "cell_type": "markdown",
   "id": "aabbd499-ace6-4ee2-bced-6bceb94d8d54",
   "metadata": {},
   "source": [
    "PCA (Principal Component Analysis) bisa membantu:\n",
    "- Menghilangkan kolinieritas → karena PCA menghasilkan komponen ortogonal (independen).\n",
    "- Mereduksi dimensi → menjaga informasi utama, membuang noise.\n",
    "- Membuat clustering lebih stabil & representatif.\n",
    "\n",
    "Tapi, ada konsekuensinya:\n",
    "\n",
    "- Interpretasi hasil cluster jadi lebih susah → karena cluster terbentuk dari principal components, bukan variabel asli\n",
    "- PCA bisa membuat interpretasi kurang intuitif."
   ]
  },
  {
   "cell_type": "code",
   "execution_count": 11,
   "id": "5c4ea13f-735b-4f75-ba0a-623f24e93970",
   "metadata": {},
   "outputs": [],
   "source": [
    "# Reduksi dimensi menggunakan PCA\n",
    "pca = PCA(n_components=2)\n",
    "X_pca = pca.fit_transform(X_scaled)"
   ]
  },
  {
   "cell_type": "code",
   "execution_count": 12,
   "id": "67088068-abab-43ab-85c2-9450d5e61e34",
   "metadata": {},
   "outputs": [
    {
     "data": {
      "text/plain": [
       "array([[ 3.31675081,  1.44346263],\n",
       "       [ 2.20946492, -0.33339289],\n",
       "       [ 2.51674015,  1.0311513 ],\n",
       "       [ 3.75706561,  2.75637191],\n",
       "       [ 1.00890849,  0.86983082],\n",
       "       [ 3.05025392,  2.12240111],\n",
       "       [ 2.44908967,  1.17485013],\n",
       "       [ 2.05943687,  1.60896307],\n",
       "       [ 2.5108743 ,  0.91807096],\n",
       "       [ 2.75362819,  0.78943767],\n",
       "       [ 3.47973668,  1.30233324],\n",
       "       [ 1.7547529 ,  0.61197723],\n",
       "       [ 2.11346234,  0.67570634],\n",
       "       [ 3.45815682,  1.13062988],\n",
       "       [ 4.31278391,  2.09597558]])"
      ]
     },
     "execution_count": 12,
     "metadata": {},
     "output_type": "execute_result"
    }
   ],
   "source": [
    "X_pca[0:15]"
   ]
  },
  {
   "cell_type": "markdown",
   "id": "5a875876-412b-40b0-87a7-a3f8fd25edfd",
   "metadata": {},
   "source": [
    "## 4. Clustering"
   ]
  },
  {
   "cell_type": "markdown",
   "id": "8bbdaf44-4835-49ed-806c-78c1fe6058fe",
   "metadata": {},
   "source": [
    "Kita akan menerapkan Agglomerative pada data yang telah direduksi dimensinya menggunakan PCA. "
   ]
  },
  {
   "cell_type": "code",
   "execution_count": 15,
   "id": "7ab3f633-046f-44b2-867d-baab0e1b0924",
   "metadata": {},
   "outputs": [],
   "source": [
    "cluster_average = AgglomerativeClustering(n_clusters=3, metric='euclidean', linkage='average').fit(X_pca)  \n",
    "cluster_complete = AgglomerativeClustering(n_clusters=3, metric='euclidean', linkage='complete').fit(X_pca)  \n",
    "cluster_single = AgglomerativeClustering(n_clusters=3, metric='euclidean', linkage='single').fit(X_pca)  \n",
    "cluster_ward = AgglomerativeClustering(n_clusters=3, metric='euclidean', linkage='ward').fit(X_pca)"
   ]
  },
  {
   "cell_type": "code",
   "execution_count": 16,
   "id": "155269d5-b6b1-4d84-b947-d836782d120a",
   "metadata": {},
   "outputs": [],
   "source": [
    "wine['labels_average'] = pd.DataFrame(cluster_average.labels_)[0]\n",
    "wine['labels_complete'] = pd.DataFrame(cluster_complete.labels_)[0]\n",
    "wine['labels_single'] = pd.DataFrame(cluster_single.labels_)[0]\n",
    "wine['labels_ward'] = pd.DataFrame(cluster_ward.labels_)[0]"
   ]
  },
  {
   "cell_type": "markdown",
   "id": "13a1fca1-573f-4d63-9a7e-260d682a5d31",
   "metadata": {},
   "source": [
    "## 5. Visualisasi Hasil Clustering"
   ]
  },
  {
   "cell_type": "code",
   "execution_count": 18,
   "id": "8ac240a1-c826-407f-8d8c-2404b2b839c5",
   "metadata": {},
   "outputs": [
    {
     "data": {
      "image/png": "[encoded data removed]",
      "text/plain": [
       "<Figure size 800x600 with 2 Axes>"
      ]
     },
     "metadata": {},
     "output_type": "display_data"
    }
   ],
   "source": [
    "# Plot hasil PCA\n",
    "plt.figure(figsize=(8,6))\n",
    "plt.scatter(X_pca[:, 0], X_pca[:, 1], alpha=0.5, c=cluster_average.labels_, cmap='viridis')\n",
    "plt.title('PCA - Wine Dataset')\n",
    "plt.xlabel('Komponen Utama 1')\n",
    "plt.ylabel('Komponen Utama 2')\n",
    "plt.colorbar(label='Target Class')\n",
    "plt.show()"
   ]
  },
  {
   "cell_type": "markdown",
   "id": "641b6aa9-8bcb-4f69-b59b-8074d7dc2e97",
   "metadata": {},
   "source": [
    "# Reference\n",
    "- https://archive.ics.uci.edu/dataset/109/wine"
   ]
  },
  {
   "cell_type": "code",
   "execution_count": null,
   "id": "3db499bd-f47c-468b-9000-526114d0ec7e",
   "metadata": {},
   "outputs": [],
   "source": []
  },
  {
   "cell_type": "code",
   "execution_count": null,
   "id": "b6cb5ece-666f-4d44-b911-e68cfad6bc7f",
   "metadata": {},
   "outputs": [],
   "source": []
  }
 ],
 "metadata": {
  "kernelspec": {
   "display_name": "Python [conda env:base] *",
   "language": "python",
   "name": "conda-base-py"
  },
  "language_info": {
   "codemirror_mode": {
    "name": "ipython",
    "version": 3
   },
   "file_extension": ".py",
   "mimetype": "text/x-python",
   "name": "python",
   "nbconvert_exporter": "python",
   "pygments_lexer": "ipython3",
   "version": "3.12.7"
  }
 },
 "nbformat": 4,
 "nbformat_minor": 5
}
